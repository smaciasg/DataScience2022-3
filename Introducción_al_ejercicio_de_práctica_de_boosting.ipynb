{
  "nbformat": 4,
  "nbformat_minor": 0,
  "metadata": {
    "colab": {
      "provenance": [],
      "collapsed_sections": [
        "OBfintsYDq80",
        "nnr6oBbeD2QL",
        "OmBLqpiwOGQS",
        "74Sd1q2VPI8N",
        "KM2LAF_0u_Nq",
        "6kVy3Ttuu0eI",
        "d_gfTnhMvk-d",
        "7Hj8vFZgwxDM",
        "wmHMtSzm2oC6",
        "19J34_eVQTi-"
      ],
      "mount_file_id": "1Z1BerUazmyV4b4lRKzMkNuULDDoSn0RK",
      "authorship_tag": "ABX9TyO22PgKvvRhIpTt3m7B1c+c",
      "include_colab_link": true
    },
    "kernelspec": {
      "name": "python3",
      "display_name": "Python 3"
    },
    "language_info": {
      "name": "python"
    }
  },
  "cells": [
    {
      "cell_type": "markdown",
      "metadata": {
        "id": "view-in-github",
        "colab_type": "text"
      },
      "source": [
        "<a href=\"https://colab.research.google.com/github/smaciasg/DataScience2022-3/blob/main/Introducci%C3%B3n_al_ejercicio_de_pr%C3%A1ctica_de_boosting.ipynb\" target=\"_parent\"><img src=\"https://colab.research.google.com/assets/colab-badge.svg\" alt=\"Open In Colab\"/></a>"
      ]
    },
    {
      "cell_type": "markdown",
      "source": [
        "En esta tarea lo que harán es:\n",
        "\n",
        "1. Importar y preparar un conjunto de datos para la modelización\n",
        "probar y evaluar 3 diferentes modelos de boosting y comparar los tiempos de ajuste de cada uno.\n",
        "2. Afinar los hiperparámetros del mejor modelo para reducir el sobreajuste y mejorar el rendimiento.\n",
        "\n",
        "Para esta tarea utilizarán este datos del censo.  **El objetivo es predecir si una persona ganará más dinero o menos de $50 000 al año en ingresos**.  Encontrarán el código de inicio y las preguntas para esta tarea en este cuaderno de Colab.  Hagan una copia del cuaderno y agregue el código adecuado y comentarios. "
      ],
      "metadata": {
        "id": "qE5eYNlABTRf"
      }
    },
    {
      "cell_type": "markdown",
      "source": [
        "###**1) Importar las bibliotecas y librerías necesarias**"
      ],
      "metadata": {
        "id": "OBfintsYDq80"
      }
    },
    {
      "cell_type": "code",
      "source": [
        "import pandas as pd\n",
        "import numpy as np\n",
        "import matplotlib.pyplot as plt\n",
        "import seaborn as sns\n",
        "# Librerías para preprocesamiento\n",
        "from sklearn.preprocessing import StandardScaler, OneHotEncoder, OrdinalEncoder\n",
        "from sklearn.pipeline import make_pipeline\n",
        "from sklearn.model_selection import train_test_split\n",
        "from sklearn.compose import make_column_selector, make_column_transformer\n",
        "# Librería para el modelo\n",
        "from sklearn.ensemble import GradientBoostingClassifier\n",
        "from lightgbm import LGBMClassifier\n",
        "from xgboost import XGBClassifier\n",
        "#Métricas\n",
        "from sklearn.metrics import roc_auc_score,accuracy_score, classification_report, plot_confusion_matrix\n",
        "#Optimizador\n",
        "from sklearn.model_selection import GridSearchCV\n",
        "from sklearn.model_selection import RandomizedSearchCV"
      ],
      "metadata": {
        "id": "TyO2RB7BDqTt"
      },
      "execution_count": 68,
      "outputs": []
    },
    {
      "cell_type": "markdown",
      "source": [
        "###**2) Cargar datos y explorarlos**"
      ],
      "metadata": {
        "id": "nnr6oBbeD2QL"
      }
    },
    {
      "cell_type": "code",
      "execution_count": 2,
      "metadata": {
        "colab": {
          "base_uri": "https://localhost:8080/",
          "height": 337
        },
        "id": "f9-kwW9dBOxe",
        "outputId": "fbc67123-9f36-4054-c918-f285115fc673"
      },
      "outputs": [
        {
          "output_type": "execute_result",
          "data": {
            "text/plain": [
              "   Unnamed: 0  age         workclass  education      marital-status  \\\n",
              "0           0   39         State-gov  Bachelors       Never-married   \n",
              "1           1   50  Self-emp-not-inc  Bachelors  Married-civ-spouse   \n",
              "2           2   38           Private    HS-grad            Divorced   \n",
              "3           3   53           Private       11th  Married-civ-spouse   \n",
              "4           4   28           Private  Bachelors  Married-civ-spouse   \n",
              "\n",
              "          occupation   relationship   race     sex  capital-gain  \\\n",
              "0       Adm-clerical  Not-in-family  White    Male          2174   \n",
              "1    Exec-managerial        Husband  White    Male             0   \n",
              "2  Handlers-cleaners  Not-in-family  White    Male             0   \n",
              "3  Handlers-cleaners        Husband  Black    Male             0   \n",
              "4     Prof-specialty           Wife  Black  Female             0   \n",
              "\n",
              "   capital-loss  hours-per-week native-country income-class  \n",
              "0             0              40  United-States        <=50K  \n",
              "1             0              13  United-States        <=50K  \n",
              "2             0              40  United-States        <=50K  \n",
              "3             0              40  United-States        <=50K  \n",
              "4             0              40           Cuba        <=50K  "
            ],
            "text/html": [
              "\n",
              "  <div id=\"df-310b1446-e435-4c35-bc79-b23a4f7d98b0\">\n",
              "    <div class=\"colab-df-container\">\n",
              "      <div>\n",
              "<style scoped>\n",
              "    .dataframe tbody tr th:only-of-type {\n",
              "        vertical-align: middle;\n",
              "    }\n",
              "\n",
              "    .dataframe tbody tr th {\n",
              "        vertical-align: top;\n",
              "    }\n",
              "\n",
              "    .dataframe thead th {\n",
              "        text-align: right;\n",
              "    }\n",
              "</style>\n",
              "<table border=\"1\" class=\"dataframe\">\n",
              "  <thead>\n",
              "    <tr style=\"text-align: right;\">\n",
              "      <th></th>\n",
              "      <th>Unnamed: 0</th>\n",
              "      <th>age</th>\n",
              "      <th>workclass</th>\n",
              "      <th>education</th>\n",
              "      <th>marital-status</th>\n",
              "      <th>occupation</th>\n",
              "      <th>relationship</th>\n",
              "      <th>race</th>\n",
              "      <th>sex</th>\n",
              "      <th>capital-gain</th>\n",
              "      <th>capital-loss</th>\n",
              "      <th>hours-per-week</th>\n",
              "      <th>native-country</th>\n",
              "      <th>income-class</th>\n",
              "    </tr>\n",
              "  </thead>\n",
              "  <tbody>\n",
              "    <tr>\n",
              "      <th>0</th>\n",
              "      <td>0</td>\n",
              "      <td>39</td>\n",
              "      <td>State-gov</td>\n",
              "      <td>Bachelors</td>\n",
              "      <td>Never-married</td>\n",
              "      <td>Adm-clerical</td>\n",
              "      <td>Not-in-family</td>\n",
              "      <td>White</td>\n",
              "      <td>Male</td>\n",
              "      <td>2174</td>\n",
              "      <td>0</td>\n",
              "      <td>40</td>\n",
              "      <td>United-States</td>\n",
              "      <td>&lt;=50K</td>\n",
              "    </tr>\n",
              "    <tr>\n",
              "      <th>1</th>\n",
              "      <td>1</td>\n",
              "      <td>50</td>\n",
              "      <td>Self-emp-not-inc</td>\n",
              "      <td>Bachelors</td>\n",
              "      <td>Married-civ-spouse</td>\n",
              "      <td>Exec-managerial</td>\n",
              "      <td>Husband</td>\n",
              "      <td>White</td>\n",
              "      <td>Male</td>\n",
              "      <td>0</td>\n",
              "      <td>0</td>\n",
              "      <td>13</td>\n",
              "      <td>United-States</td>\n",
              "      <td>&lt;=50K</td>\n",
              "    </tr>\n",
              "    <tr>\n",
              "      <th>2</th>\n",
              "      <td>2</td>\n",
              "      <td>38</td>\n",
              "      <td>Private</td>\n",
              "      <td>HS-grad</td>\n",
              "      <td>Divorced</td>\n",
              "      <td>Handlers-cleaners</td>\n",
              "      <td>Not-in-family</td>\n",
              "      <td>White</td>\n",
              "      <td>Male</td>\n",
              "      <td>0</td>\n",
              "      <td>0</td>\n",
              "      <td>40</td>\n",
              "      <td>United-States</td>\n",
              "      <td>&lt;=50K</td>\n",
              "    </tr>\n",
              "    <tr>\n",
              "      <th>3</th>\n",
              "      <td>3</td>\n",
              "      <td>53</td>\n",
              "      <td>Private</td>\n",
              "      <td>11th</td>\n",
              "      <td>Married-civ-spouse</td>\n",
              "      <td>Handlers-cleaners</td>\n",
              "      <td>Husband</td>\n",
              "      <td>Black</td>\n",
              "      <td>Male</td>\n",
              "      <td>0</td>\n",
              "      <td>0</td>\n",
              "      <td>40</td>\n",
              "      <td>United-States</td>\n",
              "      <td>&lt;=50K</td>\n",
              "    </tr>\n",
              "    <tr>\n",
              "      <th>4</th>\n",
              "      <td>4</td>\n",
              "      <td>28</td>\n",
              "      <td>Private</td>\n",
              "      <td>Bachelors</td>\n",
              "      <td>Married-civ-spouse</td>\n",
              "      <td>Prof-specialty</td>\n",
              "      <td>Wife</td>\n",
              "      <td>Black</td>\n",
              "      <td>Female</td>\n",
              "      <td>0</td>\n",
              "      <td>0</td>\n",
              "      <td>40</td>\n",
              "      <td>Cuba</td>\n",
              "      <td>&lt;=50K</td>\n",
              "    </tr>\n",
              "  </tbody>\n",
              "</table>\n",
              "</div>\n",
              "      <button class=\"colab-df-convert\" onclick=\"convertToInteractive('df-310b1446-e435-4c35-bc79-b23a4f7d98b0')\"\n",
              "              title=\"Convert this dataframe to an interactive table.\"\n",
              "              style=\"display:none;\">\n",
              "        \n",
              "  <svg xmlns=\"http://www.w3.org/2000/svg\" height=\"24px\"viewBox=\"0 0 24 24\"\n",
              "       width=\"24px\">\n",
              "    <path d=\"M0 0h24v24H0V0z\" fill=\"none\"/>\n",
              "    <path d=\"M18.56 5.44l.94 2.06.94-2.06 2.06-.94-2.06-.94-.94-2.06-.94 2.06-2.06.94zm-11 1L8.5 8.5l.94-2.06 2.06-.94-2.06-.94L8.5 2.5l-.94 2.06-2.06.94zm10 10l.94 2.06.94-2.06 2.06-.94-2.06-.94-.94-2.06-.94 2.06-2.06.94z\"/><path d=\"M17.41 7.96l-1.37-1.37c-.4-.4-.92-.59-1.43-.59-.52 0-1.04.2-1.43.59L10.3 9.45l-7.72 7.72c-.78.78-.78 2.05 0 2.83L4 21.41c.39.39.9.59 1.41.59.51 0 1.02-.2 1.41-.59l7.78-7.78 2.81-2.81c.8-.78.8-2.07 0-2.86zM5.41 20L4 18.59l7.72-7.72 1.47 1.35L5.41 20z\"/>\n",
              "  </svg>\n",
              "      </button>\n",
              "      \n",
              "  <style>\n",
              "    .colab-df-container {\n",
              "      display:flex;\n",
              "      flex-wrap:wrap;\n",
              "      gap: 12px;\n",
              "    }\n",
              "\n",
              "    .colab-df-convert {\n",
              "      background-color: #E8F0FE;\n",
              "      border: none;\n",
              "      border-radius: 50%;\n",
              "      cursor: pointer;\n",
              "      display: none;\n",
              "      fill: #1967D2;\n",
              "      height: 32px;\n",
              "      padding: 0 0 0 0;\n",
              "      width: 32px;\n",
              "    }\n",
              "\n",
              "    .colab-df-convert:hover {\n",
              "      background-color: #E2EBFA;\n",
              "      box-shadow: 0px 1px 2px rgba(60, 64, 67, 0.3), 0px 1px 3px 1px rgba(60, 64, 67, 0.15);\n",
              "      fill: #174EA6;\n",
              "    }\n",
              "\n",
              "    [theme=dark] .colab-df-convert {\n",
              "      background-color: #3B4455;\n",
              "      fill: #D2E3FC;\n",
              "    }\n",
              "\n",
              "    [theme=dark] .colab-df-convert:hover {\n",
              "      background-color: #434B5C;\n",
              "      box-shadow: 0px 1px 3px 1px rgba(0, 0, 0, 0.15);\n",
              "      filter: drop-shadow(0px 1px 2px rgba(0, 0, 0, 0.3));\n",
              "      fill: #FFFFFF;\n",
              "    }\n",
              "  </style>\n",
              "\n",
              "      <script>\n",
              "        const buttonEl =\n",
              "          document.querySelector('#df-310b1446-e435-4c35-bc79-b23a4f7d98b0 button.colab-df-convert');\n",
              "        buttonEl.style.display =\n",
              "          google.colab.kernel.accessAllowed ? 'block' : 'none';\n",
              "\n",
              "        async function convertToInteractive(key) {\n",
              "          const element = document.querySelector('#df-310b1446-e435-4c35-bc79-b23a4f7d98b0');\n",
              "          const dataTable =\n",
              "            await google.colab.kernel.invokeFunction('convertToInteractive',\n",
              "                                                     [key], {});\n",
              "          if (!dataTable) return;\n",
              "\n",
              "          const docLinkHtml = 'Like what you see? Visit the ' +\n",
              "            '<a target=\"_blank\" href=https://colab.research.google.com/notebooks/data_table.ipynb>data table notebook</a>'\n",
              "            + ' to learn more about interactive tables.';\n",
              "          element.innerHTML = '';\n",
              "          dataTable['output_type'] = 'display_data';\n",
              "          await google.colab.output.renderOutput(dataTable, element);\n",
              "          const docLink = document.createElement('div');\n",
              "          docLink.innerHTML = docLinkHtml;\n",
              "          element.appendChild(docLink);\n",
              "        }\n",
              "      </script>\n",
              "    </div>\n",
              "  </div>\n",
              "  "
            ]
          },
          "metadata": {},
          "execution_count": 2
        }
      ],
      "source": [
        "df_census = pd.read_csv('/content/drive/MyDrive/CODING DOJO/DATA SCIENCE/ACTIVIDADES SEMANA 7 - MODELOS DE PREDICCIÓN CLASIFICACIÓN/census_income - census_income.csv')\n",
        "df_census.head()"
      ]
    },
    {
      "cell_type": "code",
      "source": [
        "df_census.info()\n",
        "#1. Se observa que la columna Unnamed:0 es un ID por lo que puede ser eliminada\n",
        "#2. Hay columnas tipo objeto, se debene analizar para determinar si debería haber alguna prioridad en las etiquetas o no, si no se usa un OneHotEncoder.\n",
        "#3. Las columnas numéricas deben ser escaladas"
      ],
      "metadata": {
        "colab": {
          "base_uri": "https://localhost:8080/"
        },
        "id": "-yE2VkdgESfe",
        "outputId": "60fdcbdb-b670-49da-a84b-8b184d5e24f5"
      },
      "execution_count": 3,
      "outputs": [
        {
          "output_type": "stream",
          "name": "stdout",
          "text": [
            "<class 'pandas.core.frame.DataFrame'>\n",
            "RangeIndex: 32561 entries, 0 to 32560\n",
            "Data columns (total 14 columns):\n",
            " #   Column          Non-Null Count  Dtype \n",
            "---  ------          --------------  ----- \n",
            " 0   Unnamed: 0      32561 non-null  int64 \n",
            " 1   age             32561 non-null  int64 \n",
            " 2   workclass       32561 non-null  object\n",
            " 3   education       32561 non-null  object\n",
            " 4   marital-status  32561 non-null  object\n",
            " 5   occupation      32561 non-null  object\n",
            " 6   relationship    32561 non-null  object\n",
            " 7   race            32561 non-null  object\n",
            " 8   sex             32561 non-null  object\n",
            " 9   capital-gain    32561 non-null  int64 \n",
            " 10  capital-loss    32561 non-null  int64 \n",
            " 11  hours-per-week  32561 non-null  int64 \n",
            " 12  native-country  32561 non-null  object\n",
            " 13  income-class    32561 non-null  object\n",
            "dtypes: int64(5), object(9)\n",
            "memory usage: 3.5+ MB\n"
          ]
        }
      ]
    },
    {
      "cell_type": "code",
      "source": [
        "df_census.describe()\n",
        "#Si bien hay una edad muy alta se puede considerar que hay personas de varios rangos en edad adecuada para recibir ingresos"
      ],
      "metadata": {
        "colab": {
          "base_uri": "https://localhost:8080/",
          "height": 300
        },
        "id": "EGBXxtujE5RF",
        "outputId": "78fbeb78-ca5f-4714-889d-4f02f0919848"
      },
      "execution_count": 4,
      "outputs": [
        {
          "output_type": "execute_result",
          "data": {
            "text/plain": [
              "         Unnamed: 0           age  capital-gain  capital-loss  hours-per-week\n",
              "count  32561.000000  32561.000000  32561.000000  32561.000000    32561.000000\n",
              "mean   16280.000000     38.581647   1077.648844     87.303830       40.437456\n",
              "std     9399.695394     13.640433   7385.292085    402.960219       12.347429\n",
              "min        0.000000     17.000000      0.000000      0.000000        1.000000\n",
              "25%     8140.000000     28.000000      0.000000      0.000000       40.000000\n",
              "50%    16280.000000     37.000000      0.000000      0.000000       40.000000\n",
              "75%    24420.000000     48.000000      0.000000      0.000000       45.000000\n",
              "max    32560.000000     90.000000  99999.000000   4356.000000       99.000000"
            ],
            "text/html": [
              "\n",
              "  <div id=\"df-366d7f9f-8791-42c8-bf53-8cdf50a6a475\">\n",
              "    <div class=\"colab-df-container\">\n",
              "      <div>\n",
              "<style scoped>\n",
              "    .dataframe tbody tr th:only-of-type {\n",
              "        vertical-align: middle;\n",
              "    }\n",
              "\n",
              "    .dataframe tbody tr th {\n",
              "        vertical-align: top;\n",
              "    }\n",
              "\n",
              "    .dataframe thead th {\n",
              "        text-align: right;\n",
              "    }\n",
              "</style>\n",
              "<table border=\"1\" class=\"dataframe\">\n",
              "  <thead>\n",
              "    <tr style=\"text-align: right;\">\n",
              "      <th></th>\n",
              "      <th>Unnamed: 0</th>\n",
              "      <th>age</th>\n",
              "      <th>capital-gain</th>\n",
              "      <th>capital-loss</th>\n",
              "      <th>hours-per-week</th>\n",
              "    </tr>\n",
              "  </thead>\n",
              "  <tbody>\n",
              "    <tr>\n",
              "      <th>count</th>\n",
              "      <td>32561.000000</td>\n",
              "      <td>32561.000000</td>\n",
              "      <td>32561.000000</td>\n",
              "      <td>32561.000000</td>\n",
              "      <td>32561.000000</td>\n",
              "    </tr>\n",
              "    <tr>\n",
              "      <th>mean</th>\n",
              "      <td>16280.000000</td>\n",
              "      <td>38.581647</td>\n",
              "      <td>1077.648844</td>\n",
              "      <td>87.303830</td>\n",
              "      <td>40.437456</td>\n",
              "    </tr>\n",
              "    <tr>\n",
              "      <th>std</th>\n",
              "      <td>9399.695394</td>\n",
              "      <td>13.640433</td>\n",
              "      <td>7385.292085</td>\n",
              "      <td>402.960219</td>\n",
              "      <td>12.347429</td>\n",
              "    </tr>\n",
              "    <tr>\n",
              "      <th>min</th>\n",
              "      <td>0.000000</td>\n",
              "      <td>17.000000</td>\n",
              "      <td>0.000000</td>\n",
              "      <td>0.000000</td>\n",
              "      <td>1.000000</td>\n",
              "    </tr>\n",
              "    <tr>\n",
              "      <th>25%</th>\n",
              "      <td>8140.000000</td>\n",
              "      <td>28.000000</td>\n",
              "      <td>0.000000</td>\n",
              "      <td>0.000000</td>\n",
              "      <td>40.000000</td>\n",
              "    </tr>\n",
              "    <tr>\n",
              "      <th>50%</th>\n",
              "      <td>16280.000000</td>\n",
              "      <td>37.000000</td>\n",
              "      <td>0.000000</td>\n",
              "      <td>0.000000</td>\n",
              "      <td>40.000000</td>\n",
              "    </tr>\n",
              "    <tr>\n",
              "      <th>75%</th>\n",
              "      <td>24420.000000</td>\n",
              "      <td>48.000000</td>\n",
              "      <td>0.000000</td>\n",
              "      <td>0.000000</td>\n",
              "      <td>45.000000</td>\n",
              "    </tr>\n",
              "    <tr>\n",
              "      <th>max</th>\n",
              "      <td>32560.000000</td>\n",
              "      <td>90.000000</td>\n",
              "      <td>99999.000000</td>\n",
              "      <td>4356.000000</td>\n",
              "      <td>99.000000</td>\n",
              "    </tr>\n",
              "  </tbody>\n",
              "</table>\n",
              "</div>\n",
              "      <button class=\"colab-df-convert\" onclick=\"convertToInteractive('df-366d7f9f-8791-42c8-bf53-8cdf50a6a475')\"\n",
              "              title=\"Convert this dataframe to an interactive table.\"\n",
              "              style=\"display:none;\">\n",
              "        \n",
              "  <svg xmlns=\"http://www.w3.org/2000/svg\" height=\"24px\"viewBox=\"0 0 24 24\"\n",
              "       width=\"24px\">\n",
              "    <path d=\"M0 0h24v24H0V0z\" fill=\"none\"/>\n",
              "    <path d=\"M18.56 5.44l.94 2.06.94-2.06 2.06-.94-2.06-.94-.94-2.06-.94 2.06-2.06.94zm-11 1L8.5 8.5l.94-2.06 2.06-.94-2.06-.94L8.5 2.5l-.94 2.06-2.06.94zm10 10l.94 2.06.94-2.06 2.06-.94-2.06-.94-.94-2.06-.94 2.06-2.06.94z\"/><path d=\"M17.41 7.96l-1.37-1.37c-.4-.4-.92-.59-1.43-.59-.52 0-1.04.2-1.43.59L10.3 9.45l-7.72 7.72c-.78.78-.78 2.05 0 2.83L4 21.41c.39.39.9.59 1.41.59.51 0 1.02-.2 1.41-.59l7.78-7.78 2.81-2.81c.8-.78.8-2.07 0-2.86zM5.41 20L4 18.59l7.72-7.72 1.47 1.35L5.41 20z\"/>\n",
              "  </svg>\n",
              "      </button>\n",
              "      \n",
              "  <style>\n",
              "    .colab-df-container {\n",
              "      display:flex;\n",
              "      flex-wrap:wrap;\n",
              "      gap: 12px;\n",
              "    }\n",
              "\n",
              "    .colab-df-convert {\n",
              "      background-color: #E8F0FE;\n",
              "      border: none;\n",
              "      border-radius: 50%;\n",
              "      cursor: pointer;\n",
              "      display: none;\n",
              "      fill: #1967D2;\n",
              "      height: 32px;\n",
              "      padding: 0 0 0 0;\n",
              "      width: 32px;\n",
              "    }\n",
              "\n",
              "    .colab-df-convert:hover {\n",
              "      background-color: #E2EBFA;\n",
              "      box-shadow: 0px 1px 2px rgba(60, 64, 67, 0.3), 0px 1px 3px 1px rgba(60, 64, 67, 0.15);\n",
              "      fill: #174EA6;\n",
              "    }\n",
              "\n",
              "    [theme=dark] .colab-df-convert {\n",
              "      background-color: #3B4455;\n",
              "      fill: #D2E3FC;\n",
              "    }\n",
              "\n",
              "    [theme=dark] .colab-df-convert:hover {\n",
              "      background-color: #434B5C;\n",
              "      box-shadow: 0px 1px 3px 1px rgba(0, 0, 0, 0.15);\n",
              "      filter: drop-shadow(0px 1px 2px rgba(0, 0, 0, 0.3));\n",
              "      fill: #FFFFFF;\n",
              "    }\n",
              "  </style>\n",
              "\n",
              "      <script>\n",
              "        const buttonEl =\n",
              "          document.querySelector('#df-366d7f9f-8791-42c8-bf53-8cdf50a6a475 button.colab-df-convert');\n",
              "        buttonEl.style.display =\n",
              "          google.colab.kernel.accessAllowed ? 'block' : 'none';\n",
              "\n",
              "        async function convertToInteractive(key) {\n",
              "          const element = document.querySelector('#df-366d7f9f-8791-42c8-bf53-8cdf50a6a475');\n",
              "          const dataTable =\n",
              "            await google.colab.kernel.invokeFunction('convertToInteractive',\n",
              "                                                     [key], {});\n",
              "          if (!dataTable) return;\n",
              "\n",
              "          const docLinkHtml = 'Like what you see? Visit the ' +\n",
              "            '<a target=\"_blank\" href=https://colab.research.google.com/notebooks/data_table.ipynb>data table notebook</a>'\n",
              "            + ' to learn more about interactive tables.';\n",
              "          element.innerHTML = '';\n",
              "          dataTable['output_type'] = 'display_data';\n",
              "          await google.colab.output.renderOutput(dataTable, element);\n",
              "          const docLink = document.createElement('div');\n",
              "          docLink.innerHTML = docLinkHtml;\n",
              "          element.appendChild(docLink);\n",
              "        }\n",
              "      </script>\n",
              "    </div>\n",
              "  </div>\n",
              "  "
            ]
          },
          "metadata": {},
          "execution_count": 4
        }
      ]
    },
    {
      "cell_type": "markdown",
      "source": [
        "**Evaluar todas las etiquetas de las columnas tipo objeto**"
      ],
      "metadata": {
        "id": "McnP7kQMFUOc"
      }
    },
    {
      "cell_type": "code",
      "source": [
        "columnas_df = df_census.columns\n",
        "columnas_df"
      ],
      "metadata": {
        "colab": {
          "base_uri": "https://localhost:8080/"
        },
        "id": "en5Y1sa5FmOr",
        "outputId": "f4f5df11-79a4-45b4-b032-042682f88123"
      },
      "execution_count": 5,
      "outputs": [
        {
          "output_type": "execute_result",
          "data": {
            "text/plain": [
              "Index(['Unnamed: 0', 'age', 'workclass', 'education', 'marital-status',\n",
              "       'occupation', 'relationship', 'race', 'sex', 'capital-gain',\n",
              "       'capital-loss', 'hours-per-week', 'native-country', 'income-class'],\n",
              "      dtype='object')"
            ]
          },
          "metadata": {},
          "execution_count": 5
        }
      ]
    },
    {
      "cell_type": "code",
      "source": [
        "for columna in columnas_df:\n",
        "  if df_census[columna].dtype == 'object':\n",
        "    item, cantidad = np.unique(df_census[columna], return_counts=True)\n",
        "    print(f'---------------------\\nColumna: {columna}\\n{dict(zip(item, cantidad))}')"
      ],
      "metadata": {
        "colab": {
          "base_uri": "https://localhost:8080/"
        },
        "id": "zajJfWD_FZvO",
        "outputId": "17b1c5b3-b69e-4d5a-d224-8432f1f874fd"
      },
      "execution_count": 6,
      "outputs": [
        {
          "output_type": "stream",
          "name": "stdout",
          "text": [
            "---------------------\n",
            "Columna: workclass\n",
            "{'?': 1836, 'Federal-gov': 960, 'Local-gov': 2093, 'Never-worked': 7, 'Private': 22696, 'Self-emp-inc': 1116, 'Self-emp-not-inc': 2541, 'State-gov': 1298, 'Without-pay': 14}\n",
            "---------------------\n",
            "Columna: education\n",
            "{'10th': 933, '11th': 1175, '12th': 433, '1st-4th': 168, '5th-6th': 333, '7th-8th': 646, '9th': 514, 'Assoc-acdm': 1067, 'Assoc-voc': 1382, 'Bachelors': 5355, 'Doctorate': 413, 'HS-grad': 10501, 'Masters': 1723, 'Preschool': 51, 'Prof-school': 576, 'Some-college': 7291}\n",
            "---------------------\n",
            "Columna: marital-status\n",
            "{'Divorced': 4443, 'Married-AF-spouse': 23, 'Married-civ-spouse': 14976, 'Married-spouse-absent': 418, 'Never-married': 10683, 'Separated': 1025, 'Widowed': 993}\n",
            "---------------------\n",
            "Columna: occupation\n",
            "{'?': 1843, 'Adm-clerical': 3770, 'Armed-Forces': 9, 'Craft-repair': 4099, 'Exec-managerial': 4066, 'Farming-fishing': 994, 'Handlers-cleaners': 1370, 'Machine-op-inspct': 2002, 'Other-service': 3295, 'Priv-house-serv': 149, 'Prof-specialty': 4140, 'Protective-serv': 649, 'Sales': 3650, 'Tech-support': 928, 'Transport-moving': 1597}\n",
            "---------------------\n",
            "Columna: relationship\n",
            "{'Husband': 13193, 'Not-in-family': 8305, 'Other-relative': 981, 'Own-child': 5068, 'Unmarried': 3446, 'Wife': 1568}\n",
            "---------------------\n",
            "Columna: race\n",
            "{'Amer-Indian-Eskimo': 311, 'Asian-Pac-Islander': 1039, 'Black': 3124, 'Other': 271, 'White': 27816}\n",
            "---------------------\n",
            "Columna: sex\n",
            "{'Female': 10771, 'Male': 21790}\n",
            "---------------------\n",
            "Columna: native-country\n",
            "{'?': 583, 'Cambodia': 19, 'Canada': 121, 'China': 75, 'Columbia': 59, 'Cuba': 95, 'Dominican-Republic': 70, 'Ecuador': 28, 'El-Salvador': 106, 'England': 90, 'France': 29, 'Germany': 137, 'Greece': 29, 'Guatemala': 64, 'Haiti': 44, 'Holand-Netherlands': 1, 'Honduras': 13, 'Hong': 20, 'Hungary': 13, 'India': 100, 'Iran': 43, 'Ireland': 24, 'Italy': 73, 'Jamaica': 81, 'Japan': 62, 'Laos': 18, 'Mexico': 643, 'Nicaragua': 34, 'Outlying-US(Guam-USVI-etc)': 14, 'Peru': 31, 'Philippines': 198, 'Poland': 60, 'Portugal': 37, 'Puerto-Rico': 114, 'Scotland': 12, 'South': 80, 'Taiwan': 51, 'Thailand': 18, 'Trinadad&Tobago': 19, 'United-States': 29170, 'Vietnam': 67, 'Yugoslavia': 16}\n",
            "---------------------\n",
            "Columna: income-class\n",
            "{'<=50K': 24720, '>50K': 7841}\n"
          ]
        }
      ]
    },
    {
      "cell_type": "markdown",
      "source": [
        "1. Se observan datos con el signo ? en las columnas workclass y occupation y país de origen, aún así los valores son se van a imputar dado que esta clase se puede tomar como no reporta ocupración, no trabajo. En caso tal, que el modelo no se ajuste, se podrían imputar las ocupaciones y clase de trabajo usando la edad o el nivel educativo.\n",
        "2. En el país de origen hay un error en Columbia, al ser un país debería se Colombia, para el estudio no se realiza el cambio, este cambio se va a realizar.\n",
        "3. No se evidencia que para alguna de las columnas haya necesidad de dar prevalencia a alguna de las clases, por lo que se deben transformar usando un OneHotEncoder.\n",
        "4. Hay un desbalance en la columnas del objetivo, por lo que se esperaría usar un stratify = y"
      ],
      "metadata": {
        "id": "28DeVc99HbVe"
      }
    },
    {
      "cell_type": "markdown",
      "source": [
        "**Identificación de la relación entre workclass y occupation**"
      ],
      "metadata": {
        "id": "KJ2xT3rDI4wb"
      }
    },
    {
      "cell_type": "code",
      "source": [
        "df_pivot_table = df_census.pivot_table(index=['occupation'],columns=['workclass'], aggfunc={'Unnamed: 0':'count'}, fill_value=0)\n",
        "df_pivot_table\n",
        "# Se observa que cuando occupation es ?, la clase de trabajo es tambíen ?, en la mayoría de los casos, así que basta con probar si estas personas son estudiantes aún"
      ],
      "metadata": {
        "colab": {
          "base_uri": "https://localhost:8080/",
          "height": 582
        },
        "id": "QGbu8ojhI9lb",
        "outputId": "df3f8406-2d14-4fc1-9f4f-85db256fde52"
      },
      "execution_count": 7,
      "outputs": [
        {
          "output_type": "execute_result",
          "data": {
            "text/plain": [
              "                  Unnamed: 0                                             \\\n",
              "workclass                  ? Federal-gov Local-gov Never-worked Private   \n",
              "occupation                                                                \n",
              "?                       1836           0         0            7       0   \n",
              "Adm-clerical               0         317       283            0    2833   \n",
              "Armed-Forces               0           9         0            0       0   \n",
              "Craft-repair               0          64       146            0    3195   \n",
              "Exec-managerial            0         180       214            0    2691   \n",
              "Farming-fishing            0           8        29            0     455   \n",
              "Handlers-cleaners          0          23        47            0    1273   \n",
              "Machine-op-inspct          0          14        12            0    1913   \n",
              "Other-service              0          35       193            0    2740   \n",
              "Priv-house-serv            0           0         0            0     149   \n",
              "Prof-specialty             0         175       705            0    2313   \n",
              "Protective-serv            0          28       304            0     190   \n",
              "Sales                      0          14         7            0    2942   \n",
              "Tech-support               0          68        38            0     736   \n",
              "Transport-moving           0          25       115            0    1266   \n",
              "\n",
              "                                                                       \n",
              "workclass         Self-emp-inc Self-emp-not-inc State-gov Without-pay  \n",
              "occupation                                                             \n",
              "?                            0                0         0           0  \n",
              "Adm-clerical                31               50       253           3  \n",
              "Armed-Forces                 0                0         0           0  \n",
              "Craft-repair               106              531        56           1  \n",
              "Exec-managerial            400              392       189           0  \n",
              "Farming-fishing             51              430        15           6  \n",
              "Handlers-cleaners            2               15         9           1  \n",
              "Machine-op-inspct           13               36        13           1  \n",
              "Other-service               27              175       124           1  \n",
              "Priv-house-serv              0                0         0           0  \n",
              "Prof-specialty             160              373       414           0  \n",
              "Protective-serv              5                6       116           0  \n",
              "Sales                      291              385        11           0  \n",
              "Tech-support                 3               26        57           0  \n",
              "Transport-moving            27              122        41           1  "
            ],
            "text/html": [
              "\n",
              "  <div id=\"df-29662e64-0890-4de9-aaf9-7ecc4dfce40f\">\n",
              "    <div class=\"colab-df-container\">\n",
              "      <div>\n",
              "<style scoped>\n",
              "    .dataframe tbody tr th:only-of-type {\n",
              "        vertical-align: middle;\n",
              "    }\n",
              "\n",
              "    .dataframe tbody tr th {\n",
              "        vertical-align: top;\n",
              "    }\n",
              "\n",
              "    .dataframe thead tr th {\n",
              "        text-align: left;\n",
              "    }\n",
              "\n",
              "    .dataframe thead tr:last-of-type th {\n",
              "        text-align: right;\n",
              "    }\n",
              "</style>\n",
              "<table border=\"1\" class=\"dataframe\">\n",
              "  <thead>\n",
              "    <tr>\n",
              "      <th></th>\n",
              "      <th colspan=\"9\" halign=\"left\">Unnamed: 0</th>\n",
              "    </tr>\n",
              "    <tr>\n",
              "      <th>workclass</th>\n",
              "      <th>?</th>\n",
              "      <th>Federal-gov</th>\n",
              "      <th>Local-gov</th>\n",
              "      <th>Never-worked</th>\n",
              "      <th>Private</th>\n",
              "      <th>Self-emp-inc</th>\n",
              "      <th>Self-emp-not-inc</th>\n",
              "      <th>State-gov</th>\n",
              "      <th>Without-pay</th>\n",
              "    </tr>\n",
              "    <tr>\n",
              "      <th>occupation</th>\n",
              "      <th></th>\n",
              "      <th></th>\n",
              "      <th></th>\n",
              "      <th></th>\n",
              "      <th></th>\n",
              "      <th></th>\n",
              "      <th></th>\n",
              "      <th></th>\n",
              "      <th></th>\n",
              "    </tr>\n",
              "  </thead>\n",
              "  <tbody>\n",
              "    <tr>\n",
              "      <th>?</th>\n",
              "      <td>1836</td>\n",
              "      <td>0</td>\n",
              "      <td>0</td>\n",
              "      <td>7</td>\n",
              "      <td>0</td>\n",
              "      <td>0</td>\n",
              "      <td>0</td>\n",
              "      <td>0</td>\n",
              "      <td>0</td>\n",
              "    </tr>\n",
              "    <tr>\n",
              "      <th>Adm-clerical</th>\n",
              "      <td>0</td>\n",
              "      <td>317</td>\n",
              "      <td>283</td>\n",
              "      <td>0</td>\n",
              "      <td>2833</td>\n",
              "      <td>31</td>\n",
              "      <td>50</td>\n",
              "      <td>253</td>\n",
              "      <td>3</td>\n",
              "    </tr>\n",
              "    <tr>\n",
              "      <th>Armed-Forces</th>\n",
              "      <td>0</td>\n",
              "      <td>9</td>\n",
              "      <td>0</td>\n",
              "      <td>0</td>\n",
              "      <td>0</td>\n",
              "      <td>0</td>\n",
              "      <td>0</td>\n",
              "      <td>0</td>\n",
              "      <td>0</td>\n",
              "    </tr>\n",
              "    <tr>\n",
              "      <th>Craft-repair</th>\n",
              "      <td>0</td>\n",
              "      <td>64</td>\n",
              "      <td>146</td>\n",
              "      <td>0</td>\n",
              "      <td>3195</td>\n",
              "      <td>106</td>\n",
              "      <td>531</td>\n",
              "      <td>56</td>\n",
              "      <td>1</td>\n",
              "    </tr>\n",
              "    <tr>\n",
              "      <th>Exec-managerial</th>\n",
              "      <td>0</td>\n",
              "      <td>180</td>\n",
              "      <td>214</td>\n",
              "      <td>0</td>\n",
              "      <td>2691</td>\n",
              "      <td>400</td>\n",
              "      <td>392</td>\n",
              "      <td>189</td>\n",
              "      <td>0</td>\n",
              "    </tr>\n",
              "    <tr>\n",
              "      <th>Farming-fishing</th>\n",
              "      <td>0</td>\n",
              "      <td>8</td>\n",
              "      <td>29</td>\n",
              "      <td>0</td>\n",
              "      <td>455</td>\n",
              "      <td>51</td>\n",
              "      <td>430</td>\n",
              "      <td>15</td>\n",
              "      <td>6</td>\n",
              "    </tr>\n",
              "    <tr>\n",
              "      <th>Handlers-cleaners</th>\n",
              "      <td>0</td>\n",
              "      <td>23</td>\n",
              "      <td>47</td>\n",
              "      <td>0</td>\n",
              "      <td>1273</td>\n",
              "      <td>2</td>\n",
              "      <td>15</td>\n",
              "      <td>9</td>\n",
              "      <td>1</td>\n",
              "    </tr>\n",
              "    <tr>\n",
              "      <th>Machine-op-inspct</th>\n",
              "      <td>0</td>\n",
              "      <td>14</td>\n",
              "      <td>12</td>\n",
              "      <td>0</td>\n",
              "      <td>1913</td>\n",
              "      <td>13</td>\n",
              "      <td>36</td>\n",
              "      <td>13</td>\n",
              "      <td>1</td>\n",
              "    </tr>\n",
              "    <tr>\n",
              "      <th>Other-service</th>\n",
              "      <td>0</td>\n",
              "      <td>35</td>\n",
              "      <td>193</td>\n",
              "      <td>0</td>\n",
              "      <td>2740</td>\n",
              "      <td>27</td>\n",
              "      <td>175</td>\n",
              "      <td>124</td>\n",
              "      <td>1</td>\n",
              "    </tr>\n",
              "    <tr>\n",
              "      <th>Priv-house-serv</th>\n",
              "      <td>0</td>\n",
              "      <td>0</td>\n",
              "      <td>0</td>\n",
              "      <td>0</td>\n",
              "      <td>149</td>\n",
              "      <td>0</td>\n",
              "      <td>0</td>\n",
              "      <td>0</td>\n",
              "      <td>0</td>\n",
              "    </tr>\n",
              "    <tr>\n",
              "      <th>Prof-specialty</th>\n",
              "      <td>0</td>\n",
              "      <td>175</td>\n",
              "      <td>705</td>\n",
              "      <td>0</td>\n",
              "      <td>2313</td>\n",
              "      <td>160</td>\n",
              "      <td>373</td>\n",
              "      <td>414</td>\n",
              "      <td>0</td>\n",
              "    </tr>\n",
              "    <tr>\n",
              "      <th>Protective-serv</th>\n",
              "      <td>0</td>\n",
              "      <td>28</td>\n",
              "      <td>304</td>\n",
              "      <td>0</td>\n",
              "      <td>190</td>\n",
              "      <td>5</td>\n",
              "      <td>6</td>\n",
              "      <td>116</td>\n",
              "      <td>0</td>\n",
              "    </tr>\n",
              "    <tr>\n",
              "      <th>Sales</th>\n",
              "      <td>0</td>\n",
              "      <td>14</td>\n",
              "      <td>7</td>\n",
              "      <td>0</td>\n",
              "      <td>2942</td>\n",
              "      <td>291</td>\n",
              "      <td>385</td>\n",
              "      <td>11</td>\n",
              "      <td>0</td>\n",
              "    </tr>\n",
              "    <tr>\n",
              "      <th>Tech-support</th>\n",
              "      <td>0</td>\n",
              "      <td>68</td>\n",
              "      <td>38</td>\n",
              "      <td>0</td>\n",
              "      <td>736</td>\n",
              "      <td>3</td>\n",
              "      <td>26</td>\n",
              "      <td>57</td>\n",
              "      <td>0</td>\n",
              "    </tr>\n",
              "    <tr>\n",
              "      <th>Transport-moving</th>\n",
              "      <td>0</td>\n",
              "      <td>25</td>\n",
              "      <td>115</td>\n",
              "      <td>0</td>\n",
              "      <td>1266</td>\n",
              "      <td>27</td>\n",
              "      <td>122</td>\n",
              "      <td>41</td>\n",
              "      <td>1</td>\n",
              "    </tr>\n",
              "  </tbody>\n",
              "</table>\n",
              "</div>\n",
              "      <button class=\"colab-df-convert\" onclick=\"convertToInteractive('df-29662e64-0890-4de9-aaf9-7ecc4dfce40f')\"\n",
              "              title=\"Convert this dataframe to an interactive table.\"\n",
              "              style=\"display:none;\">\n",
              "        \n",
              "  <svg xmlns=\"http://www.w3.org/2000/svg\" height=\"24px\"viewBox=\"0 0 24 24\"\n",
              "       width=\"24px\">\n",
              "    <path d=\"M0 0h24v24H0V0z\" fill=\"none\"/>\n",
              "    <path d=\"M18.56 5.44l.94 2.06.94-2.06 2.06-.94-2.06-.94-.94-2.06-.94 2.06-2.06.94zm-11 1L8.5 8.5l.94-2.06 2.06-.94-2.06-.94L8.5 2.5l-.94 2.06-2.06.94zm10 10l.94 2.06.94-2.06 2.06-.94-2.06-.94-.94-2.06-.94 2.06-2.06.94z\"/><path d=\"M17.41 7.96l-1.37-1.37c-.4-.4-.92-.59-1.43-.59-.52 0-1.04.2-1.43.59L10.3 9.45l-7.72 7.72c-.78.78-.78 2.05 0 2.83L4 21.41c.39.39.9.59 1.41.59.51 0 1.02-.2 1.41-.59l7.78-7.78 2.81-2.81c.8-.78.8-2.07 0-2.86zM5.41 20L4 18.59l7.72-7.72 1.47 1.35L5.41 20z\"/>\n",
              "  </svg>\n",
              "      </button>\n",
              "      \n",
              "  <style>\n",
              "    .colab-df-container {\n",
              "      display:flex;\n",
              "      flex-wrap:wrap;\n",
              "      gap: 12px;\n",
              "    }\n",
              "\n",
              "    .colab-df-convert {\n",
              "      background-color: #E8F0FE;\n",
              "      border: none;\n",
              "      border-radius: 50%;\n",
              "      cursor: pointer;\n",
              "      display: none;\n",
              "      fill: #1967D2;\n",
              "      height: 32px;\n",
              "      padding: 0 0 0 0;\n",
              "      width: 32px;\n",
              "    }\n",
              "\n",
              "    .colab-df-convert:hover {\n",
              "      background-color: #E2EBFA;\n",
              "      box-shadow: 0px 1px 2px rgba(60, 64, 67, 0.3), 0px 1px 3px 1px rgba(60, 64, 67, 0.15);\n",
              "      fill: #174EA6;\n",
              "    }\n",
              "\n",
              "    [theme=dark] .colab-df-convert {\n",
              "      background-color: #3B4455;\n",
              "      fill: #D2E3FC;\n",
              "    }\n",
              "\n",
              "    [theme=dark] .colab-df-convert:hover {\n",
              "      background-color: #434B5C;\n",
              "      box-shadow: 0px 1px 3px 1px rgba(0, 0, 0, 0.15);\n",
              "      filter: drop-shadow(0px 1px 2px rgba(0, 0, 0, 0.3));\n",
              "      fill: #FFFFFF;\n",
              "    }\n",
              "  </style>\n",
              "\n",
              "      <script>\n",
              "        const buttonEl =\n",
              "          document.querySelector('#df-29662e64-0890-4de9-aaf9-7ecc4dfce40f button.colab-df-convert');\n",
              "        buttonEl.style.display =\n",
              "          google.colab.kernel.accessAllowed ? 'block' : 'none';\n",
              "\n",
              "        async function convertToInteractive(key) {\n",
              "          const element = document.querySelector('#df-29662e64-0890-4de9-aaf9-7ecc4dfce40f');\n",
              "          const dataTable =\n",
              "            await google.colab.kernel.invokeFunction('convertToInteractive',\n",
              "                                                     [key], {});\n",
              "          if (!dataTable) return;\n",
              "\n",
              "          const docLinkHtml = 'Like what you see? Visit the ' +\n",
              "            '<a target=\"_blank\" href=https://colab.research.google.com/notebooks/data_table.ipynb>data table notebook</a>'\n",
              "            + ' to learn more about interactive tables.';\n",
              "          element.innerHTML = '';\n",
              "          dataTable['output_type'] = 'display_data';\n",
              "          await google.colab.output.renderOutput(dataTable, element);\n",
              "          const docLink = document.createElement('div');\n",
              "          docLink.innerHTML = docLinkHtml;\n",
              "          element.appendChild(docLink);\n",
              "        }\n",
              "      </script>\n",
              "    </div>\n",
              "  </div>\n",
              "  "
            ]
          },
          "metadata": {},
          "execution_count": 7
        }
      ]
    },
    {
      "cell_type": "code",
      "source": [
        "df_pivot_table = df_census.pivot_table(index=['occupation'],columns=['education'], aggfunc={'Unnamed: 0':'count'}, fill_value=0)\n",
        "df_pivot_table\n",
        "# Se observa que cuando occupation es ?, la clase de trabajo es tambíen ?, en la mayoría de los casos, así que basta con probar si estas personas son estudiantes aún"
      ],
      "metadata": {
        "colab": {
          "base_uri": "https://localhost:8080/",
          "height": 582
        },
        "id": "dizC2a_BLkpQ",
        "outputId": "3a6ba006-9bdd-489b-aa9d-55306e822276"
      },
      "execution_count": 8,
      "outputs": [
        {
          "output_type": "execute_result",
          "data": {
            "text/plain": [
              "                  Unnamed: 0                                         \\\n",
              "education               10th 11th 12th 1st-4th 5th-6th 7th-8th  9th   \n",
              "occupation                                                            \n",
              "?                        102  119   40      12      30      73   51   \n",
              "Adm-clerical              38   67   38       0       6      11   14   \n",
              "Armed-Forces               0    0    1       0       0       0    0   \n",
              "Craft-repair             170  175   58      23      43     116   96   \n",
              "Exec-managerial           24   34   13       4       1      19   13   \n",
              "Farming-fishing           44   37   16      18      36      70   28   \n",
              "Handlers-cleaners         71  123   38      16      40      46   49   \n",
              "Machine-op-inspct        101   99   35      23      56      93   76   \n",
              "Other-service            194  238   85      40      64      98  101   \n",
              "Priv-house-serv            6   14    4      11      14       8   10   \n",
              "Prof-specialty             9   20   10       4       1       9    3   \n",
              "Protective-serv            6    7    6       1       1       9    4   \n",
              "Sales                     81  144   47       8      12      29   32   \n",
              "Tech-support               3    6    3       0       1       5    2   \n",
              "Transport-moving          84   92   39       8      28      60   35   \n",
              "\n",
              "                                                                            \\\n",
              "education         Assoc-acdm Assoc-voc Bachelors Doctorate HS-grad Masters   \n",
              "occupation                                                                   \n",
              "?                         47        61       173        15     533      48   \n",
              "Adm-clerical             193       167       506         5    1365      68   \n",
              "Armed-Forces               0         0         1         0       4       1   \n",
              "Craft-repair             115       252       226         2    1922      22   \n",
              "Exec-managerial          145       150      1369        55     807     501   \n",
              "Farming-fishing           14        52        77         1     404      10   \n",
              "Handlers-cleaners         24        28        50         0     611       5   \n",
              "Machine-op-inspct         33        63        69         1    1023       8   \n",
              "Other-service             78       115       181         1    1281      19   \n",
              "Priv-house-serv            2         4         7         0      50       1   \n",
              "Prof-specialty           138       170      1495       321     233     844   \n",
              "Protective-serv           34        48       100         0     215      15   \n",
              "Sales                    144       106       809         8    1069     134   \n",
              "Tech-support              73       126       230         3     159      37   \n",
              "Transport-moving          27        40        62         1     825      10   \n",
              "\n",
              "                                                      \n",
              "education         Preschool Prof-school Some-college  \n",
              "occupation                                            \n",
              "?                         5          18          516  \n",
              "Adm-clerical              2           9         1281  \n",
              "Armed-Forces              0           0            2  \n",
              "Craft-repair              4           7          868  \n",
              "Exec-managerial           0          52          879  \n",
              "Farming-fishing           9           4          174  \n",
              "Handlers-cleaners         2           0          267  \n",
              "Machine-op-inspct        11           1          310  \n",
              "Other-service            15           4          781  \n",
              "Priv-house-serv           2           0           16  \n",
              "Prof-specialty            1         452          430  \n",
              "Protective-serv           0           1          202  \n",
              "Sales                     0          18         1009  \n",
              "Tech-support              0           7          273  \n",
              "Transport-moving          0           3          283  "
            ],
            "text/html": [
              "\n",
              "  <div id=\"df-ba57610e-9052-4641-b221-cf12ad6c6568\">\n",
              "    <div class=\"colab-df-container\">\n",
              "      <div>\n",
              "<style scoped>\n",
              "    .dataframe tbody tr th:only-of-type {\n",
              "        vertical-align: middle;\n",
              "    }\n",
              "\n",
              "    .dataframe tbody tr th {\n",
              "        vertical-align: top;\n",
              "    }\n",
              "\n",
              "    .dataframe thead tr th {\n",
              "        text-align: left;\n",
              "    }\n",
              "\n",
              "    .dataframe thead tr:last-of-type th {\n",
              "        text-align: right;\n",
              "    }\n",
              "</style>\n",
              "<table border=\"1\" class=\"dataframe\">\n",
              "  <thead>\n",
              "    <tr>\n",
              "      <th></th>\n",
              "      <th colspan=\"16\" halign=\"left\">Unnamed: 0</th>\n",
              "    </tr>\n",
              "    <tr>\n",
              "      <th>education</th>\n",
              "      <th>10th</th>\n",
              "      <th>11th</th>\n",
              "      <th>12th</th>\n",
              "      <th>1st-4th</th>\n",
              "      <th>5th-6th</th>\n",
              "      <th>7th-8th</th>\n",
              "      <th>9th</th>\n",
              "      <th>Assoc-acdm</th>\n",
              "      <th>Assoc-voc</th>\n",
              "      <th>Bachelors</th>\n",
              "      <th>Doctorate</th>\n",
              "      <th>HS-grad</th>\n",
              "      <th>Masters</th>\n",
              "      <th>Preschool</th>\n",
              "      <th>Prof-school</th>\n",
              "      <th>Some-college</th>\n",
              "    </tr>\n",
              "    <tr>\n",
              "      <th>occupation</th>\n",
              "      <th></th>\n",
              "      <th></th>\n",
              "      <th></th>\n",
              "      <th></th>\n",
              "      <th></th>\n",
              "      <th></th>\n",
              "      <th></th>\n",
              "      <th></th>\n",
              "      <th></th>\n",
              "      <th></th>\n",
              "      <th></th>\n",
              "      <th></th>\n",
              "      <th></th>\n",
              "      <th></th>\n",
              "      <th></th>\n",
              "      <th></th>\n",
              "    </tr>\n",
              "  </thead>\n",
              "  <tbody>\n",
              "    <tr>\n",
              "      <th>?</th>\n",
              "      <td>102</td>\n",
              "      <td>119</td>\n",
              "      <td>40</td>\n",
              "      <td>12</td>\n",
              "      <td>30</td>\n",
              "      <td>73</td>\n",
              "      <td>51</td>\n",
              "      <td>47</td>\n",
              "      <td>61</td>\n",
              "      <td>173</td>\n",
              "      <td>15</td>\n",
              "      <td>533</td>\n",
              "      <td>48</td>\n",
              "      <td>5</td>\n",
              "      <td>18</td>\n",
              "      <td>516</td>\n",
              "    </tr>\n",
              "    <tr>\n",
              "      <th>Adm-clerical</th>\n",
              "      <td>38</td>\n",
              "      <td>67</td>\n",
              "      <td>38</td>\n",
              "      <td>0</td>\n",
              "      <td>6</td>\n",
              "      <td>11</td>\n",
              "      <td>14</td>\n",
              "      <td>193</td>\n",
              "      <td>167</td>\n",
              "      <td>506</td>\n",
              "      <td>5</td>\n",
              "      <td>1365</td>\n",
              "      <td>68</td>\n",
              "      <td>2</td>\n",
              "      <td>9</td>\n",
              "      <td>1281</td>\n",
              "    </tr>\n",
              "    <tr>\n",
              "      <th>Armed-Forces</th>\n",
              "      <td>0</td>\n",
              "      <td>0</td>\n",
              "      <td>1</td>\n",
              "      <td>0</td>\n",
              "      <td>0</td>\n",
              "      <td>0</td>\n",
              "      <td>0</td>\n",
              "      <td>0</td>\n",
              "      <td>0</td>\n",
              "      <td>1</td>\n",
              "      <td>0</td>\n",
              "      <td>4</td>\n",
              "      <td>1</td>\n",
              "      <td>0</td>\n",
              "      <td>0</td>\n",
              "      <td>2</td>\n",
              "    </tr>\n",
              "    <tr>\n",
              "      <th>Craft-repair</th>\n",
              "      <td>170</td>\n",
              "      <td>175</td>\n",
              "      <td>58</td>\n",
              "      <td>23</td>\n",
              "      <td>43</td>\n",
              "      <td>116</td>\n",
              "      <td>96</td>\n",
              "      <td>115</td>\n",
              "      <td>252</td>\n",
              "      <td>226</td>\n",
              "      <td>2</td>\n",
              "      <td>1922</td>\n",
              "      <td>22</td>\n",
              "      <td>4</td>\n",
              "      <td>7</td>\n",
              "      <td>868</td>\n",
              "    </tr>\n",
              "    <tr>\n",
              "      <th>Exec-managerial</th>\n",
              "      <td>24</td>\n",
              "      <td>34</td>\n",
              "      <td>13</td>\n",
              "      <td>4</td>\n",
              "      <td>1</td>\n",
              "      <td>19</td>\n",
              "      <td>13</td>\n",
              "      <td>145</td>\n",
              "      <td>150</td>\n",
              "      <td>1369</td>\n",
              "      <td>55</td>\n",
              "      <td>807</td>\n",
              "      <td>501</td>\n",
              "      <td>0</td>\n",
              "      <td>52</td>\n",
              "      <td>879</td>\n",
              "    </tr>\n",
              "    <tr>\n",
              "      <th>Farming-fishing</th>\n",
              "      <td>44</td>\n",
              "      <td>37</td>\n",
              "      <td>16</td>\n",
              "      <td>18</td>\n",
              "      <td>36</td>\n",
              "      <td>70</td>\n",
              "      <td>28</td>\n",
              "      <td>14</td>\n",
              "      <td>52</td>\n",
              "      <td>77</td>\n",
              "      <td>1</td>\n",
              "      <td>404</td>\n",
              "      <td>10</td>\n",
              "      <td>9</td>\n",
              "      <td>4</td>\n",
              "      <td>174</td>\n",
              "    </tr>\n",
              "    <tr>\n",
              "      <th>Handlers-cleaners</th>\n",
              "      <td>71</td>\n",
              "      <td>123</td>\n",
              "      <td>38</td>\n",
              "      <td>16</td>\n",
              "      <td>40</td>\n",
              "      <td>46</td>\n",
              "      <td>49</td>\n",
              "      <td>24</td>\n",
              "      <td>28</td>\n",
              "      <td>50</td>\n",
              "      <td>0</td>\n",
              "      <td>611</td>\n",
              "      <td>5</td>\n",
              "      <td>2</td>\n",
              "      <td>0</td>\n",
              "      <td>267</td>\n",
              "    </tr>\n",
              "    <tr>\n",
              "      <th>Machine-op-inspct</th>\n",
              "      <td>101</td>\n",
              "      <td>99</td>\n",
              "      <td>35</td>\n",
              "      <td>23</td>\n",
              "      <td>56</td>\n",
              "      <td>93</td>\n",
              "      <td>76</td>\n",
              "      <td>33</td>\n",
              "      <td>63</td>\n",
              "      <td>69</td>\n",
              "      <td>1</td>\n",
              "      <td>1023</td>\n",
              "      <td>8</td>\n",
              "      <td>11</td>\n",
              "      <td>1</td>\n",
              "      <td>310</td>\n",
              "    </tr>\n",
              "    <tr>\n",
              "      <th>Other-service</th>\n",
              "      <td>194</td>\n",
              "      <td>238</td>\n",
              "      <td>85</td>\n",
              "      <td>40</td>\n",
              "      <td>64</td>\n",
              "      <td>98</td>\n",
              "      <td>101</td>\n",
              "      <td>78</td>\n",
              "      <td>115</td>\n",
              "      <td>181</td>\n",
              "      <td>1</td>\n",
              "      <td>1281</td>\n",
              "      <td>19</td>\n",
              "      <td>15</td>\n",
              "      <td>4</td>\n",
              "      <td>781</td>\n",
              "    </tr>\n",
              "    <tr>\n",
              "      <th>Priv-house-serv</th>\n",
              "      <td>6</td>\n",
              "      <td>14</td>\n",
              "      <td>4</td>\n",
              "      <td>11</td>\n",
              "      <td>14</td>\n",
              "      <td>8</td>\n",
              "      <td>10</td>\n",
              "      <td>2</td>\n",
              "      <td>4</td>\n",
              "      <td>7</td>\n",
              "      <td>0</td>\n",
              "      <td>50</td>\n",
              "      <td>1</td>\n",
              "      <td>2</td>\n",
              "      <td>0</td>\n",
              "      <td>16</td>\n",
              "    </tr>\n",
              "    <tr>\n",
              "      <th>Prof-specialty</th>\n",
              "      <td>9</td>\n",
              "      <td>20</td>\n",
              "      <td>10</td>\n",
              "      <td>4</td>\n",
              "      <td>1</td>\n",
              "      <td>9</td>\n",
              "      <td>3</td>\n",
              "      <td>138</td>\n",
              "      <td>170</td>\n",
              "      <td>1495</td>\n",
              "      <td>321</td>\n",
              "      <td>233</td>\n",
              "      <td>844</td>\n",
              "      <td>1</td>\n",
              "      <td>452</td>\n",
              "      <td>430</td>\n",
              "    </tr>\n",
              "    <tr>\n",
              "      <th>Protective-serv</th>\n",
              "      <td>6</td>\n",
              "      <td>7</td>\n",
              "      <td>6</td>\n",
              "      <td>1</td>\n",
              "      <td>1</td>\n",
              "      <td>9</td>\n",
              "      <td>4</td>\n",
              "      <td>34</td>\n",
              "      <td>48</td>\n",
              "      <td>100</td>\n",
              "      <td>0</td>\n",
              "      <td>215</td>\n",
              "      <td>15</td>\n",
              "      <td>0</td>\n",
              "      <td>1</td>\n",
              "      <td>202</td>\n",
              "    </tr>\n",
              "    <tr>\n",
              "      <th>Sales</th>\n",
              "      <td>81</td>\n",
              "      <td>144</td>\n",
              "      <td>47</td>\n",
              "      <td>8</td>\n",
              "      <td>12</td>\n",
              "      <td>29</td>\n",
              "      <td>32</td>\n",
              "      <td>144</td>\n",
              "      <td>106</td>\n",
              "      <td>809</td>\n",
              "      <td>8</td>\n",
              "      <td>1069</td>\n",
              "      <td>134</td>\n",
              "      <td>0</td>\n",
              "      <td>18</td>\n",
              "      <td>1009</td>\n",
              "    </tr>\n",
              "    <tr>\n",
              "      <th>Tech-support</th>\n",
              "      <td>3</td>\n",
              "      <td>6</td>\n",
              "      <td>3</td>\n",
              "      <td>0</td>\n",
              "      <td>1</td>\n",
              "      <td>5</td>\n",
              "      <td>2</td>\n",
              "      <td>73</td>\n",
              "      <td>126</td>\n",
              "      <td>230</td>\n",
              "      <td>3</td>\n",
              "      <td>159</td>\n",
              "      <td>37</td>\n",
              "      <td>0</td>\n",
              "      <td>7</td>\n",
              "      <td>273</td>\n",
              "    </tr>\n",
              "    <tr>\n",
              "      <th>Transport-moving</th>\n",
              "      <td>84</td>\n",
              "      <td>92</td>\n",
              "      <td>39</td>\n",
              "      <td>8</td>\n",
              "      <td>28</td>\n",
              "      <td>60</td>\n",
              "      <td>35</td>\n",
              "      <td>27</td>\n",
              "      <td>40</td>\n",
              "      <td>62</td>\n",
              "      <td>1</td>\n",
              "      <td>825</td>\n",
              "      <td>10</td>\n",
              "      <td>0</td>\n",
              "      <td>3</td>\n",
              "      <td>283</td>\n",
              "    </tr>\n",
              "  </tbody>\n",
              "</table>\n",
              "</div>\n",
              "      <button class=\"colab-df-convert\" onclick=\"convertToInteractive('df-ba57610e-9052-4641-b221-cf12ad6c6568')\"\n",
              "              title=\"Convert this dataframe to an interactive table.\"\n",
              "              style=\"display:none;\">\n",
              "        \n",
              "  <svg xmlns=\"http://www.w3.org/2000/svg\" height=\"24px\"viewBox=\"0 0 24 24\"\n",
              "       width=\"24px\">\n",
              "    <path d=\"M0 0h24v24H0V0z\" fill=\"none\"/>\n",
              "    <path d=\"M18.56 5.44l.94 2.06.94-2.06 2.06-.94-2.06-.94-.94-2.06-.94 2.06-2.06.94zm-11 1L8.5 8.5l.94-2.06 2.06-.94-2.06-.94L8.5 2.5l-.94 2.06-2.06.94zm10 10l.94 2.06.94-2.06 2.06-.94-2.06-.94-.94-2.06-.94 2.06-2.06.94z\"/><path d=\"M17.41 7.96l-1.37-1.37c-.4-.4-.92-.59-1.43-.59-.52 0-1.04.2-1.43.59L10.3 9.45l-7.72 7.72c-.78.78-.78 2.05 0 2.83L4 21.41c.39.39.9.59 1.41.59.51 0 1.02-.2 1.41-.59l7.78-7.78 2.81-2.81c.8-.78.8-2.07 0-2.86zM5.41 20L4 18.59l7.72-7.72 1.47 1.35L5.41 20z\"/>\n",
              "  </svg>\n",
              "      </button>\n",
              "      \n",
              "  <style>\n",
              "    .colab-df-container {\n",
              "      display:flex;\n",
              "      flex-wrap:wrap;\n",
              "      gap: 12px;\n",
              "    }\n",
              "\n",
              "    .colab-df-convert {\n",
              "      background-color: #E8F0FE;\n",
              "      border: none;\n",
              "      border-radius: 50%;\n",
              "      cursor: pointer;\n",
              "      display: none;\n",
              "      fill: #1967D2;\n",
              "      height: 32px;\n",
              "      padding: 0 0 0 0;\n",
              "      width: 32px;\n",
              "    }\n",
              "\n",
              "    .colab-df-convert:hover {\n",
              "      background-color: #E2EBFA;\n",
              "      box-shadow: 0px 1px 2px rgba(60, 64, 67, 0.3), 0px 1px 3px 1px rgba(60, 64, 67, 0.15);\n",
              "      fill: #174EA6;\n",
              "    }\n",
              "\n",
              "    [theme=dark] .colab-df-convert {\n",
              "      background-color: #3B4455;\n",
              "      fill: #D2E3FC;\n",
              "    }\n",
              "\n",
              "    [theme=dark] .colab-df-convert:hover {\n",
              "      background-color: #434B5C;\n",
              "      box-shadow: 0px 1px 3px 1px rgba(0, 0, 0, 0.15);\n",
              "      filter: drop-shadow(0px 1px 2px rgba(0, 0, 0, 0.3));\n",
              "      fill: #FFFFFF;\n",
              "    }\n",
              "  </style>\n",
              "\n",
              "      <script>\n",
              "        const buttonEl =\n",
              "          document.querySelector('#df-ba57610e-9052-4641-b221-cf12ad6c6568 button.colab-df-convert');\n",
              "        buttonEl.style.display =\n",
              "          google.colab.kernel.accessAllowed ? 'block' : 'none';\n",
              "\n",
              "        async function convertToInteractive(key) {\n",
              "          const element = document.querySelector('#df-ba57610e-9052-4641-b221-cf12ad6c6568');\n",
              "          const dataTable =\n",
              "            await google.colab.kernel.invokeFunction('convertToInteractive',\n",
              "                                                     [key], {});\n",
              "          if (!dataTable) return;\n",
              "\n",
              "          const docLinkHtml = 'Like what you see? Visit the ' +\n",
              "            '<a target=\"_blank\" href=https://colab.research.google.com/notebooks/data_table.ipynb>data table notebook</a>'\n",
              "            + ' to learn more about interactive tables.';\n",
              "          element.innerHTML = '';\n",
              "          dataTable['output_type'] = 'display_data';\n",
              "          await google.colab.output.renderOutput(dataTable, element);\n",
              "          const docLink = document.createElement('div');\n",
              "          docLink.innerHTML = docLinkHtml;\n",
              "          element.appendChild(docLink);\n",
              "        }\n",
              "      </script>\n",
              "    </div>\n",
              "  </div>\n",
              "  "
            ]
          },
          "metadata": {},
          "execution_count": 8
        }
      ]
    },
    {
      "cell_type": "code",
      "source": [
        "df_census['native-country'] = df_census['native-country'].replace('Columbia','Colombia')\n",
        "df_census['native-country'].unique()"
      ],
      "metadata": {
        "colab": {
          "base_uri": "https://localhost:8080/"
        },
        "id": "Y1tQWaX8Mum4",
        "outputId": "8cc7d190-f3ef-4aa1-bf62-93093b4037ac"
      },
      "execution_count": 9,
      "outputs": [
        {
          "output_type": "execute_result",
          "data": {
            "text/plain": [
              "array(['United-States', 'Cuba', 'Jamaica', 'India', '?', 'Mexico',\n",
              "       'South', 'Puerto-Rico', 'Honduras', 'England', 'Canada', 'Germany',\n",
              "       'Iran', 'Philippines', 'Italy', 'Poland', 'Colombia', 'Cambodia',\n",
              "       'Thailand', 'Ecuador', 'Laos', 'Taiwan', 'Haiti', 'Portugal',\n",
              "       'Dominican-Republic', 'El-Salvador', 'France', 'Guatemala',\n",
              "       'China', 'Japan', 'Yugoslavia', 'Peru',\n",
              "       'Outlying-US(Guam-USVI-etc)', 'Scotland', 'Trinadad&Tobago',\n",
              "       'Greece', 'Nicaragua', 'Vietnam', 'Hong', 'Ireland', 'Hungary',\n",
              "       'Holand-Netherlands'], dtype=object)"
            ]
          },
          "metadata": {},
          "execution_count": 9
        }
      ]
    },
    {
      "cell_type": "markdown",
      "source": [
        "###**3) Preparar los datos para la modelización**"
      ],
      "metadata": {
        "id": "OmBLqpiwOGQS"
      }
    },
    {
      "cell_type": "markdown",
      "source": [
        "**Cambiar los valores de la columna objetivo a int**"
      ],
      "metadata": {
        "id": "oh_k0lcAORIu"
      }
    },
    {
      "cell_type": "code",
      "source": [
        "df_census['income-class'] =  df_census['income-class'].replace({'<=50K':0, '>50K':1})"
      ],
      "metadata": {
        "id": "7ZJIkibnOVe8"
      },
      "execution_count": 10,
      "outputs": []
    },
    {
      "cell_type": "code",
      "source": [
        "X = df_census.drop(columns=['income-class', 'Unnamed: 0'])\n",
        "y = df_census['income-class']\n",
        "X_train, X_test, y_train, y_test = train_test_split(X,y,random_state=42, stratify=y)"
      ],
      "metadata": {
        "id": "7iuB_TvKONxG"
      },
      "execution_count": 11,
      "outputs": []
    },
    {
      "cell_type": "markdown",
      "source": [
        "###**4) Instanciar transformadores**"
      ],
      "metadata": {
        "id": "74Sd1q2VPI8N"
      }
    },
    {
      "cell_type": "markdown",
      "source": [
        "**Selectores de columnas**"
      ],
      "metadata": {
        "id": "BLq4V2nqPOMz"
      }
    },
    {
      "cell_type": "code",
      "source": [
        "numeric_selector = make_column_selector(dtype_include='number')\n",
        "category_selector = make_column_selector(dtype_include='object')"
      ],
      "metadata": {
        "id": "biClubw6PQqE"
      },
      "execution_count": 12,
      "outputs": []
    },
    {
      "cell_type": "markdown",
      "source": [
        "**Transformador de escala - Escalador**"
      ],
      "metadata": {
        "id": "41eh8bpOPl8r"
      }
    },
    {
      "cell_type": "code",
      "source": [
        "scaler = StandardScaler()"
      ],
      "metadata": {
        "id": "N6jAZ_zKPpe9"
      },
      "execution_count": 13,
      "outputs": []
    },
    {
      "cell_type": "markdown",
      "source": [
        "**Tranformador para datos categóricos OneHotEncoder**"
      ],
      "metadata": {
        "id": "tf0pLBO-Pr0Y"
      }
    },
    {
      "cell_type": "code",
      "source": [
        "ohe = OneHotEncoder(handle_unknown='ignore',sparse=False)"
      ],
      "metadata": {
        "id": "U4aiaimDPuum"
      },
      "execution_count": 14,
      "outputs": []
    },
    {
      "cell_type": "markdown",
      "source": [
        "###**5) Instanciar los pipeline numérico y categórico y transformadores de columnas**"
      ],
      "metadata": {
        "id": "KM2LAF_0u_Nq"
      }
    },
    {
      "cell_type": "markdown",
      "source": [
        "**pipeline numérico**"
      ],
      "metadata": {
        "id": "AALvaBevQLaJ"
      }
    },
    {
      "cell_type": "code",
      "source": [
        "numeric_pipe = make_pipeline(scaler)"
      ],
      "metadata": {
        "id": "7NS1wIOlQJc6"
      },
      "execution_count": 16,
      "outputs": []
    },
    {
      "cell_type": "markdown",
      "source": [
        "**pipeline categórico**"
      ],
      "metadata": {
        "id": "UZRz3i-vumB-"
      }
    },
    {
      "cell_type": "code",
      "source": [
        "category_pipe = make_pipeline(ohe)"
      ],
      "metadata": {
        "id": "JNO3t8K4urCo"
      },
      "execution_count": 18,
      "outputs": []
    },
    {
      "cell_type": "markdown",
      "source": [
        "####**Instanciar ColumnTransformer**"
      ],
      "metadata": {
        "id": "6kVy3Ttuu0eI"
      }
    },
    {
      "cell_type": "markdown",
      "source": [
        "**Tupla para ColumnTransformer categórico**"
      ],
      "metadata": {
        "id": "7XBNI3oJvTeq"
      }
    },
    {
      "cell_type": "code",
      "source": [
        "category_tuple = (category_pipe,category_selector) #Recibe un pipeline y un selector de columnas\n",
        "category_tuple"
      ],
      "metadata": {
        "colab": {
          "base_uri": "https://localhost:8080/"
        },
        "id": "2nJ-fGyTu2tG",
        "outputId": "cc43f505-2302-44c5-9d8f-3f2a36edbb4f"
      },
      "execution_count": 19,
      "outputs": [
        {
          "output_type": "execute_result",
          "data": {
            "text/plain": [
              "(Pipeline(steps=[('onehotencoder',\n",
              "                  OneHotEncoder(handle_unknown='ignore', sparse=False))]),\n",
              " <sklearn.compose._column_transformer.make_column_selector at 0x7f2d6f4fda50>)"
            ]
          },
          "metadata": {},
          "execution_count": 19
        }
      ]
    },
    {
      "cell_type": "markdown",
      "source": [
        "**Tupla para ColumnTransformer numérico**"
      ],
      "metadata": {
        "id": "_xXuYkyTvSGY"
      }
    },
    {
      "cell_type": "code",
      "source": [
        "numeric_tuple = (numeric_pipe, numeric_selector) #Recibe un pipeline y un selector de columnas\n",
        "numeric_tuple"
      ],
      "metadata": {
        "colab": {
          "base_uri": "https://localhost:8080/"
        },
        "id": "PIGapXy0vS0E",
        "outputId": "ff2f7f38-bf1f-4272-ec56-b13b33c21444"
      },
      "execution_count": 20,
      "outputs": [
        {
          "output_type": "execute_result",
          "data": {
            "text/plain": [
              "(Pipeline(steps=[('standardscaler', StandardScaler())]),\n",
              " <sklearn.compose._column_transformer.make_column_selector at 0x7f2d6f4fd250>)"
            ]
          },
          "metadata": {},
          "execution_count": 20
        }
      ]
    },
    {
      "cell_type": "markdown",
      "source": [
        "**CREAMOS EL COLUMNTRANSFORMER**"
      ],
      "metadata": {
        "id": "Q3VSHXzQvaXf"
      }
    },
    {
      "cell_type": "code",
      "source": [
        "preprocessor = make_column_transformer(numeric_tuple,category_tuple, remainder='passthrough') #Recibe las tuplas de las columnas numéricas y de las columnas categóricas\n",
        "preprocessor"
      ],
      "metadata": {
        "colab": {
          "base_uri": "https://localhost:8080/"
        },
        "id": "DRqH5cdnva6-",
        "outputId": "1c513961-4d71-412d-bb7c-d85feba568f0"
      },
      "execution_count": 21,
      "outputs": [
        {
          "output_type": "execute_result",
          "data": {
            "text/plain": [
              "ColumnTransformer(remainder='passthrough',\n",
              "                  transformers=[('pipeline-1',\n",
              "                                 Pipeline(steps=[('standardscaler',\n",
              "                                                  StandardScaler())]),\n",
              "                                 <sklearn.compose._column_transformer.make_column_selector object at 0x7f2d6f4fd250>),\n",
              "                                ('pipeline-2',\n",
              "                                 Pipeline(steps=[('onehotencoder',\n",
              "                                                  OneHotEncoder(handle_unknown='ignore',\n",
              "                                                                sparse=False))]),\n",
              "                                 <sklearn.compose._column_transformer.make_column_selector object at 0x7f2d6f4fda50>)])"
            ]
          },
          "metadata": {},
          "execution_count": 21
        }
      ]
    },
    {
      "cell_type": "markdown",
      "source": [
        "###**6) Transformador de datos**"
      ],
      "metadata": {
        "id": "d_gfTnhMvk-d"
      }
    },
    {
      "cell_type": "code",
      "source": [
        "#Procedemos a ajustar al transformador de datos en el conjunto de entrenamiento, nunca en el de pruebas\n",
        "preprocessor.fit(X_train)"
      ],
      "metadata": {
        "colab": {
          "base_uri": "https://localhost:8080/"
        },
        "id": "7zl6SCbAvqtn",
        "outputId": "4adc4ca1-96e9-466b-b26d-b860945daa49"
      },
      "execution_count": 22,
      "outputs": [
        {
          "output_type": "execute_result",
          "data": {
            "text/plain": [
              "ColumnTransformer(remainder='passthrough',\n",
              "                  transformers=[('pipeline-1',\n",
              "                                 Pipeline(steps=[('standardscaler',\n",
              "                                                  StandardScaler())]),\n",
              "                                 <sklearn.compose._column_transformer.make_column_selector object at 0x7f2d6f4fd250>),\n",
              "                                ('pipeline-2',\n",
              "                                 Pipeline(steps=[('onehotencoder',\n",
              "                                                  OneHotEncoder(handle_unknown='ignore',\n",
              "                                                                sparse=False))]),\n",
              "                                 <sklearn.compose._column_transformer.make_column_selector object at 0x7f2d6f4fda50>)])"
            ]
          },
          "metadata": {},
          "execution_count": 22
        }
      ]
    },
    {
      "cell_type": "markdown",
      "source": [
        "**TRANSFORMAR los datos de entrenamiento y los de prueba**\n",
        "\n",
        "El método fit funcionó para ajustar todos los 4 transformadores dentro de ColumnTransformer.  Usaremos este ColumnTransformer ajustado para transformar nuestros conjuntos de datos de entrenamiento y de prueba."
      ],
      "metadata": {
        "id": "uKHjfAWAvuSR"
      }
    },
    {
      "cell_type": "code",
      "source": [
        "X_train_processed = preprocessor.transform(X_train)\n",
        "X_train_processed"
      ],
      "metadata": {
        "colab": {
          "base_uri": "https://localhost:8080/"
        },
        "id": "xRnXuh5ovvAw",
        "outputId": "3370ec39-2abb-40d1-f8f4-2aa311dc82ff"
      },
      "execution_count": 26,
      "outputs": [
        {
          "output_type": "execute_result",
          "data": {
            "text/plain": [
              "array([[-0.7741844 , -0.14600267, -0.21566523, ...,  1.        ,\n",
              "         0.        ,  0.        ],\n",
              "       [-0.2602043 , -0.14600267, -0.21566523, ...,  1.        ,\n",
              "         0.        ,  0.        ],\n",
              "       [-1.06788732, -0.14600267, -0.21566523, ...,  0.        ,\n",
              "         0.        ,  0.        ],\n",
              "       ...,\n",
              "       [ 1.20831026, -0.14600267, -0.21566523, ...,  1.        ,\n",
              "         0.        ,  0.        ],\n",
              "       [-0.92103586, -0.14600267, -0.21566523, ...,  1.        ,\n",
              "         0.        ,  0.        ],\n",
              "       [-1.43501596, -0.14600267, -0.21566523, ...,  1.        ,\n",
              "         0.        ,  0.        ]])"
            ]
          },
          "metadata": {},
          "execution_count": 26
        }
      ]
    },
    {
      "cell_type": "code",
      "source": [
        "X_test_processed = preprocessor.transform(X_test)\n",
        "X_test_processed"
      ],
      "metadata": {
        "colab": {
          "base_uri": "https://localhost:8080/"
        },
        "id": "HS9E5KhBvyFK",
        "outputId": "87dc51b5-6cfc-486b-9dfc-384599ced2d6"
      },
      "execution_count": 24,
      "outputs": [
        {
          "output_type": "execute_result",
          "data": {
            "text/plain": [
              "array([[ 0.76775589, -0.14600267, -0.21566523, ...,  1.        ,\n",
              "         0.        ,  0.        ],\n",
              "       [-0.84761013, -0.14600267, -0.21566523, ...,  1.        ,\n",
              "         0.        ,  0.        ],\n",
              "       [-0.40705576, -0.14600267, -0.21566523, ...,  1.        ,\n",
              "         0.        ,  0.        ],\n",
              "       ...,\n",
              "       [-1.06788732, -0.14600267, -0.21566523, ...,  1.        ,\n",
              "         0.        ,  0.        ],\n",
              "       [ 0.40062725, -0.14600267, -0.21566523, ...,  1.        ,\n",
              "         0.        ,  0.        ],\n",
              "       [-1.06788732, -0.14600267, -0.21566523, ...,  1.        ,\n",
              "         0.        ,  0.        ]])"
            ]
          },
          "metadata": {},
          "execution_count": 24
        }
      ]
    },
    {
      "cell_type": "markdown",
      "source": [
        "###**7) MODELOS**"
      ],
      "metadata": {
        "id": "nX8I5lgAws57"
      }
    },
    {
      "cell_type": "markdown",
      "source": [
        "####**MODELO BOOSTING: Potenciación del gradiente**"
      ],
      "metadata": {
        "id": "7Hj8vFZgwxDM"
      }
    },
    {
      "cell_type": "markdown",
      "source": [
        "Para ver el tiempo de ejecución total del modelo se va a cargar en una sola celda todo el proceso comentado, para ver el tiempo se inicia con la sentencia %%time"
      ],
      "metadata": {
        "id": "KkXZZ9L6xyDF"
      }
    },
    {
      "cell_type": "code",
      "source": [
        "%%time\n",
        "#**Instanciar el modelo**\n",
        "pot_gradiente = GradientBoostingClassifier(random_state=42)\n",
        "#**Instanciar pipeline**\n",
        "pot_gradiente_pipe = make_pipeline(pot_gradiente)\n",
        "#**Ajustar pipeline / modelo a los datos de entrenamiento**\n",
        "pot_gradiente_pipe.fit(X_train_processed,y_train)\n",
        "#**Predecir valores y ver tiempo de ejecución**\n",
        "pot_gradiente_predicciones = pot_gradiente_pipe.predict(X_test_processed)\n",
        "print(f'Predicciones: {pot_gradiente_predicciones}\\n-------------------------------')\n",
        "#**Evaluar modelo**\n",
        "print(classification_report(y_test,pot_gradiente_predicciones),'\\n-------------------------------')\n",
        "#**AUC ROC**\n",
        "print(f'AUC ROC de entrenamiento: {roc_auc_score(y_train,pot_gradiente_pipe.predict_proba(X_train_processed)[:,1])}')\n",
        "print(f'AUC ROC de prueba: {roc_auc_score(y_test,pot_gradiente_pipe.predict_proba(X_test_processed)[:,1])}')\n",
        "#**Matriz de confusión**\n",
        "print('\\n-------------------------------','Matriz de confusión:\\n',plot_confusion_matrix(pot_gradiente_pipe,X_test_processed,y_test))\n",
        "plt.show()\n",
        "print('\\n-------------------------------\\nDatos de ejecución:')"
      ],
      "metadata": {
        "colab": {
          "base_uri": "https://localhost:8080/",
          "height": 735
        },
        "id": "E4AFtoDMw1S3",
        "outputId": "45156d53-735a-44f9-9900-fa2d941cb063"
      },
      "execution_count": 60,
      "outputs": [
        {
          "output_type": "stream",
          "name": "stdout",
          "text": [
            "Predicciones: [0 0 0 ... 0 0 0]\n",
            "-------------------------------\n",
            "              precision    recall  f1-score   support\n",
            "\n",
            "           0       0.88      0.95      0.91      6181\n",
            "           1       0.79      0.60      0.68      1960\n",
            "\n",
            "    accuracy                           0.87      8141\n",
            "   macro avg       0.84      0.77      0.80      8141\n",
            "weighted avg       0.86      0.87      0.86      8141\n",
            " \n",
            "-------------------------------\n",
            "AUC ROC de entrenamiento: 0.9235921343736557\n",
            "AUC ROC de prueba: 0.921791352036689\n",
            "\n",
            "------------------------------- Matriz de confusión:\n",
            " <sklearn.metrics._plot.confusion_matrix.ConfusionMatrixDisplay object at 0x7f2d6b175910>\n"
          ]
        },
        {
          "output_type": "stream",
          "name": "stderr",
          "text": [
            "/usr/local/lib/python3.7/dist-packages/sklearn/utils/deprecation.py:87: FutureWarning: Function plot_confusion_matrix is deprecated; Function `plot_confusion_matrix` is deprecated in 1.0 and will be removed in 1.2. Use one of the class methods: ConfusionMatrixDisplay.from_predictions or ConfusionMatrixDisplay.from_estimator.\n",
            "  warnings.warn(msg, category=FutureWarning)\n"
          ]
        },
        {
          "output_type": "display_data",
          "data": {
            "text/plain": [
              "<Figure size 432x288 with 2 Axes>"
            ],
            "image/png": "[encoded data removed]"
          },
          "metadata": {
            "needs_background": "light"
          }
        },
        {
          "output_type": "stream",
          "name": "stdout",
          "text": [
            "\n",
            "-------------------------------\n",
            "Datos de ejecución:\n",
            "CPU times: user 7.75 s, sys: 18 ms, total: 7.77 s\n",
            "Wall time: 8 s\n"
          ]
        }
      ]
    },
    {
      "cell_type": "markdown",
      "source": [
        "#####**Optimización de hiperparámetros**"
      ],
      "metadata": {
        "id": "wmHMtSzm2oC6"
      }
    },
    {
      "cell_type": "markdown",
      "source": [
        "**Obtención de los parámetros actuales del modelo**"
      ],
      "metadata": {
        "id": "134ILvPm2sAm"
      }
    },
    {
      "cell_type": "code",
      "source": [
        "pot_gradiente_pipe.get_params()"
      ],
      "metadata": {
        "colab": {
          "base_uri": "https://localhost:8080/"
        },
        "id": "cIIYbH6a2vCv",
        "outputId": "830af679-5990-42e8-e8de-e356307cea5e"
      },
      "execution_count": 70,
      "outputs": [
        {
          "output_type": "execute_result",
          "data": {
            "text/plain": [
              "{'memory': None,\n",
              " 'steps': [('gradientboostingclassifier',\n",
              "   GradientBoostingClassifier(max_depth=5, random_state=42))],\n",
              " 'verbose': False,\n",
              " 'gradientboostingclassifier': GradientBoostingClassifier(max_depth=5, random_state=42),\n",
              " 'gradientboostingclassifier__ccp_alpha': 0.0,\n",
              " 'gradientboostingclassifier__criterion': 'friedman_mse',\n",
              " 'gradientboostingclassifier__init': None,\n",
              " 'gradientboostingclassifier__learning_rate': 0.1,\n",
              " 'gradientboostingclassifier__loss': 'deviance',\n",
              " 'gradientboostingclassifier__max_depth': 5,\n",
              " 'gradientboostingclassifier__max_features': None,\n",
              " 'gradientboostingclassifier__max_leaf_nodes': None,\n",
              " 'gradientboostingclassifier__min_impurity_decrease': 0.0,\n",
              " 'gradientboostingclassifier__min_samples_leaf': 1,\n",
              " 'gradientboostingclassifier__min_samples_split': 2,\n",
              " 'gradientboostingclassifier__min_weight_fraction_leaf': 0.0,\n",
              " 'gradientboostingclassifier__n_estimators': 100,\n",
              " 'gradientboostingclassifier__n_iter_no_change': None,\n",
              " 'gradientboostingclassifier__random_state': 42,\n",
              " 'gradientboostingclassifier__subsample': 1.0,\n",
              " 'gradientboostingclassifier__tol': 0.0001,\n",
              " 'gradientboostingclassifier__validation_fraction': 0.1,\n",
              " 'gradientboostingclassifier__verbose': 0,\n",
              " 'gradientboostingclassifier__warm_start': False}"
            ]
          },
          "metadata": {},
          "execution_count": 70
        }
      ]
    },
    {
      "cell_type": "markdown",
      "source": [
        "**GridSearch**"
      ],
      "metadata": {
        "id": "sgN_Au6w5RpP"
      }
    },
    {
      "cell_type": "code",
      "source": [
        "grip_params = {\n",
        "    'max_depth': [3,4,5,6],\n",
        "    'n_estimators': [50,100,150]\n",
        "}\n",
        "\n",
        "grid = GridSearchCV(pot_gradiente, grip_params, cv=5)\n",
        "grid.fit(X_train_processed,y_train)"
      ],
      "metadata": {
        "colab": {
          "base_uri": "https://localhost:8080/"
        },
        "id": "sRH7bI9m5W9E",
        "outputId": "2bbdd2a8-b810-4133-8965-3a047c454a03"
      },
      "execution_count": 87,
      "outputs": [
        {
          "output_type": "execute_result",
          "data": {
            "text/plain": [
              "GridSearchCV(cv=5,\n",
              "             estimator=GradientBoostingClassifier(max_depth=7, random_state=42),\n",
              "             param_grid={'max_depth': [3, 4, 5, 6],\n",
              "                         'n_estimators': [50, 100, 150]})"
            ]
          },
          "metadata": {},
          "execution_count": 87
        }
      ]
    },
    {
      "cell_type": "code",
      "source": [
        "grid.best_params_"
      ],
      "metadata": {
        "colab": {
          "base_uri": "https://localhost:8080/"
        },
        "id": "LnjMkxmE7Kw9",
        "outputId": "4e687826-ec46-4275-87b6-a31ece4b26a9"
      },
      "execution_count": 93,
      "outputs": [
        {
          "output_type": "execute_result",
          "data": {
            "text/plain": [
              "{'max_depth': 4, 'n_estimators': 150}"
            ]
          },
          "metadata": {},
          "execution_count": 93
        }
      ]
    },
    {
      "cell_type": "markdown",
      "source": [
        "Primera ronda de validación de mejores estimadores:\n",
        "\n",
        "{'max_depth': 5, 'n_estimators': 100}\n",
        "\n",
        "La segunda ronda de validación de mejores estimadores vuelve a indicar:\n",
        "\n",
        "{'max_depth': 5, 'n_estimators': 100}\n",
        "\n",
        "La tercera ronda indica:\n",
        "\n",
        "{'max_depth': 4, 'n_estimators': 150}"
      ],
      "metadata": {
        "id": "oMQ-JiTE70Iu"
      }
    },
    {
      "cell_type": "code",
      "source": [
        "%%time\n",
        "#**Instanciar el modelo**\n",
        "pot_gradiente = GradientBoostingClassifier(random_state=42, max_depth=4, n_estimators=150)\n",
        "#**Instanciar pipeline**\n",
        "pot_gradiente_pipe = make_pipeline(pot_gradiente)\n",
        "#**Ajustar pipeline / modelo a los datos de entrenamiento**\n",
        "pot_gradiente_pipe.fit(X_train_processed,y_train)\n",
        "#**Predecir valores y ver tiempo de ejecución**\n",
        "pot_gradiente_predicciones = pot_gradiente_pipe.predict(X_test_processed)\n",
        "print(f'Predicciones: {pot_gradiente_predicciones}\\n-------------------------------')\n",
        "#**Evaluar modelo**\n",
        "print(classification_report(y_test,pot_gradiente_predicciones),'\\n-------------------------------')\n",
        "#**AUC ROC**\n",
        "print(f'AUC ROC de entrenamiento: {roc_auc_score(y_train,pot_gradiente_pipe.predict_proba(X_train_processed)[:,1])}')\n",
        "print(f'AUC ROC de prueba: {roc_auc_score(y_test,pot_gradiente_pipe.predict_proba(X_test_processed)[:,1])}')\n",
        "#**Matriz de confusión**\n",
        "print('\\n-------------------------------','Matriz de confusión:\\n',plot_confusion_matrix(pot_gradiente_pipe,X_test_processed,y_test))\n",
        "plt.show()\n",
        "print('\\n-------------------------------\\nDatos de ejecución:')"
      ],
      "metadata": {
        "colab": {
          "base_uri": "https://localhost:8080/",
          "height": 735
        },
        "id": "eEwzdbcp7P4L",
        "outputId": "8c023a99-d14f-4480-e14e-97a03b1a7487"
      },
      "execution_count": 94,
      "outputs": [
        {
          "output_type": "stream",
          "name": "stdout",
          "text": [
            "Predicciones: [0 0 0 ... 0 0 0]\n",
            "-------------------------------\n",
            "              precision    recall  f1-score   support\n",
            "\n",
            "           0       0.89      0.95      0.92      6181\n",
            "           1       0.79      0.64      0.71      1960\n",
            "\n",
            "    accuracy                           0.87      8141\n",
            "   macro avg       0.84      0.79      0.81      8141\n",
            "weighted avg       0.87      0.87      0.87      8141\n",
            " \n",
            "-------------------------------\n",
            "AUC ROC de entrenamiento: 0.9372201237116837\n",
            "AUC ROC de prueba: 0.9284084868375437\n",
            "\n",
            "------------------------------- Matriz de confusión:\n",
            " <sklearn.metrics._plot.confusion_matrix.ConfusionMatrixDisplay object at 0x7f2d6b029690>\n"
          ]
        },
        {
          "output_type": "stream",
          "name": "stderr",
          "text": [
            "/usr/local/lib/python3.7/dist-packages/sklearn/utils/deprecation.py:87: FutureWarning: Function plot_confusion_matrix is deprecated; Function `plot_confusion_matrix` is deprecated in 1.0 and will be removed in 1.2. Use one of the class methods: ConfusionMatrixDisplay.from_predictions or ConfusionMatrixDisplay.from_estimator.\n",
            "  warnings.warn(msg, category=FutureWarning)\n"
          ]
        },
        {
          "output_type": "display_data",
          "data": {
            "text/plain": [
              "<Figure size 432x288 with 2 Axes>"
            ],
            "image/png": "[encoded data removed]"
          },
          "metadata": {
            "needs_background": "light"
          }
        },
        {
          "output_type": "stream",
          "name": "stdout",
          "text": [
            "\n",
            "-------------------------------\n",
            "Datos de ejecución:\n",
            "CPU times: user 20.4 s, sys: 47.6 ms, total: 20.5 s\n",
            "Wall time: 21 s\n"
          ]
        }
      ]
    },
    {
      "cell_type": "markdown",
      "source": [
        "####**MODELO BOOSTING: LigthGBM**"
      ],
      "metadata": {
        "id": "19J34_eVQTi-"
      }
    },
    {
      "cell_type": "markdown",
      "source": [
        "Para ver el tiempo de ejecución total del modelo se va a cargar en una sola celda todo el proceso comentado, para ver el tiempo se inicia con la sentencia %%time"
      ],
      "metadata": {
        "id": "ivGrD4hCQTjF"
      }
    },
    {
      "cell_type": "code",
      "source": [
        "%%time\n",
        "#**Instanciar el modelo**\n",
        "lgbm = LGBMClassifier(random_state=42)\n",
        "#**Instanciar pipeline**\n",
        "lgbm_pipe = make_pipeline(lgbm)\n",
        "#**Ajustar pipeline / modelo a los datos de entrenamiento**\n",
        "lgbm_pipe.fit(X_train_processed,y_train)\n",
        "#**Predecir valores y ver tiempo de ejecución**\n",
        "lgbm_predicciones = lgbm_pipe.predict(X_test_processed)\n",
        "print(f'Predicciones: {lgbm_predicciones}\\n-------------------------------')\n",
        "#**Evaluar modelo**\n",
        "print(classification_report(y_test,lgbm_predicciones),'\\n-------------------------------')\n",
        "#**AUC ROC**\n",
        "print(f'AUC ROC de entrenamiento: {roc_auc_score(y_train,lgbm_pipe.predict_proba(X_train_processed)[:,1])}')\n",
        "print(f'AUC ROC de prueba: {roc_auc_score(y_test,lgbm_pipe.predict_proba(X_test_processed)[:,1])}')\n",
        "#**Matriz de confusión**\n",
        "print('\\n-------------------------------','Matriz de confusión:\\n',plot_confusion_matrix(lgbm_pipe,X_test_processed,y_test))\n",
        "plt.show()\n",
        "print('\\n-------------------------------\\nDatos de ejecución:')"
      ],
      "metadata": {
        "colab": {
          "base_uri": "https://localhost:8080/",
          "height": 735
        },
        "outputId": "d4ec410c-944b-4593-867d-3e49055ec9e2",
        "id": "-Jx1AHD7QTjF"
      },
      "execution_count": 95,
      "outputs": [
        {
          "output_type": "stream",
          "name": "stdout",
          "text": [
            "Predicciones: [0 0 0 ... 0 0 0]\n",
            "-------------------------------\n",
            "              precision    recall  f1-score   support\n",
            "\n",
            "           0       0.90      0.94      0.92      6181\n",
            "           1       0.77      0.67      0.72      1960\n",
            "\n",
            "    accuracy                           0.87      8141\n",
            "   macro avg       0.84      0.81      0.82      8141\n",
            "weighted avg       0.87      0.87      0.87      8141\n",
            " \n",
            "-------------------------------\n",
            "AUC ROC de entrenamiento: 0.9446991892228205\n",
            "AUC ROC de prueba: 0.9298513548762005\n",
            "\n",
            "------------------------------- Matriz de confusión:\n",
            " <sklearn.metrics._plot.confusion_matrix.ConfusionMatrixDisplay object at 0x7f2d6b857250>\n"
          ]
        },
        {
          "output_type": "stream",
          "name": "stderr",
          "text": [
            "/usr/local/lib/python3.7/dist-packages/sklearn/utils/deprecation.py:87: FutureWarning: Function plot_confusion_matrix is deprecated; Function `plot_confusion_matrix` is deprecated in 1.0 and will be removed in 1.2. Use one of the class methods: ConfusionMatrixDisplay.from_predictions or ConfusionMatrixDisplay.from_estimator.\n",
            "  warnings.warn(msg, category=FutureWarning)\n"
          ]
        },
        {
          "output_type": "display_data",
          "data": {
            "text/plain": [
              "<Figure size 432x288 with 2 Axes>"
            ],
            "image/png": "[encoded data removed]"
          },
          "metadata": {
            "needs_background": "light"
          }
        },
        {
          "output_type": "stream",
          "name": "stdout",
          "text": [
            "\n",
            "-------------------------------\n",
            "Datos de ejecución:\n",
            "CPU times: user 2.33 s, sys: 25.2 ms, total: 2.35 s\n",
            "Wall time: 1.81 s\n"
          ]
        }
      ]
    },
    {
      "cell_type": "markdown",
      "source": [
        "#####**Optimización de hiperparámetros**"
      ],
      "metadata": {
        "id": "WGDoRFwpQTjG"
      }
    },
    {
      "cell_type": "markdown",
      "source": [
        "**Obtención de los parámetros actuales del modelo**"
      ],
      "metadata": {
        "id": "HQR_I3XdQTjG"
      }
    },
    {
      "cell_type": "code",
      "source": [
        "lgbm_pipe.get_params()"
      ],
      "metadata": {
        "colab": {
          "base_uri": "https://localhost:8080/"
        },
        "outputId": "e9184c02-dc92-4c57-d5ce-df159559fa69",
        "id": "uV_f1j8EQTjG"
      },
      "execution_count": 96,
      "outputs": [
        {
          "output_type": "execute_result",
          "data": {
            "text/plain": [
              "{'memory': None,\n",
              " 'steps': [('lgbmclassifier', LGBMClassifier(random_state=42))],\n",
              " 'verbose': False,\n",
              " 'lgbmclassifier': LGBMClassifier(random_state=42),\n",
              " 'lgbmclassifier__boosting_type': 'gbdt',\n",
              " 'lgbmclassifier__class_weight': None,\n",
              " 'lgbmclassifier__colsample_bytree': 1.0,\n",
              " 'lgbmclassifier__importance_type': 'split',\n",
              " 'lgbmclassifier__learning_rate': 0.1,\n",
              " 'lgbmclassifier__max_depth': -1,\n",
              " 'lgbmclassifier__min_child_samples': 20,\n",
              " 'lgbmclassifier__min_child_weight': 0.001,\n",
              " 'lgbmclassifier__min_split_gain': 0.0,\n",
              " 'lgbmclassifier__n_estimators': 100,\n",
              " 'lgbmclassifier__n_jobs': -1,\n",
              " 'lgbmclassifier__num_leaves': 31,\n",
              " 'lgbmclassifier__objective': None,\n",
              " 'lgbmclassifier__random_state': 42,\n",
              " 'lgbmclassifier__reg_alpha': 0.0,\n",
              " 'lgbmclassifier__reg_lambda': 0.0,\n",
              " 'lgbmclassifier__silent': True,\n",
              " 'lgbmclassifier__subsample': 1.0,\n",
              " 'lgbmclassifier__subsample_for_bin': 200000,\n",
              " 'lgbmclassifier__subsample_freq': 0}"
            ]
          },
          "metadata": {},
          "execution_count": 96
        }
      ]
    },
    {
      "cell_type": "markdown",
      "source": [
        "**GridSearch**"
      ],
      "metadata": {
        "id": "H3-TolpGQTjG"
      }
    },
    {
      "cell_type": "code",
      "source": [
        "grip_params = {\n",
        "    'max_depth': [3,5,7],\n",
        "    'n_estimators': [300,350,400]\n",
        "}\n",
        "\n",
        "grid = GridSearchCV(lgbm, grip_params, cv=5)\n",
        "grid.fit(X_train_processed,y_train)"
      ],
      "metadata": {
        "colab": {
          "base_uri": "https://localhost:8080/"
        },
        "outputId": "b4e3ba6d-b824-41a7-d1b0-6a7286d4452e",
        "id": "HCt6622UQTjG"
      },
      "execution_count": 110,
      "outputs": [
        {
          "output_type": "execute_result",
          "data": {
            "text/plain": [
              "GridSearchCV(cv=5,\n",
              "             estimator=LGBMClassifier(max_depth=5, n_estimators=300,\n",
              "                                      random_state=42),\n",
              "             param_grid={'max_depth': [3, 5, 7],\n",
              "                         'n_estimators': [300, 350, 400]})"
            ]
          },
          "metadata": {},
          "execution_count": 110
        }
      ]
    },
    {
      "cell_type": "code",
      "source": [
        "grid.best_params_"
      ],
      "metadata": {
        "colab": {
          "base_uri": "https://localhost:8080/"
        },
        "outputId": "7141e48a-fe1c-4018-b013-49c37e011f3b",
        "id": "ZLsv87GeQTjG"
      },
      "execution_count": 111,
      "outputs": [
        {
          "output_type": "execute_result",
          "data": {
            "text/plain": [
              "{'max_depth': 3, 'n_estimators': 350}"
            ]
          },
          "metadata": {},
          "execution_count": 111
        }
      ]
    },
    {
      "cell_type": "markdown",
      "source": [
        "Primera ronda de validación de mejores estimadores:\n",
        "\n",
        "{'max_depth': 5, 'n_estimators': 300}\n",
        "\n",
        "La segunda ronda de validación de mejores estimadores vuelve a indicar:\n",
        "\n",
        "{'max_depth': 5, 'n_estimators': 350}\n",
        "\n",
        "La tercera ronda indica:\n",
        "\n",
        "{'max_depth': 3, 'n_estimators': 350}"
      ],
      "metadata": {
        "id": "bvTTPUbAQTjG"
      }
    },
    {
      "cell_type": "code",
      "source": [
        "%%time\n",
        "#**Instanciar el modelo**\n",
        "lgbm = LGBMClassifier(random_state=42, max_depth=3, n_estimators=350)\n",
        "#**Instanciar pipeline**\n",
        "lgbm_pipe = make_pipeline(lgbm)\n",
        "#**Ajustar pipeline / modelo a los datos de entrenamiento**\n",
        "lgbm_pipe.fit(X_train_processed,y_train)\n",
        "#**Predecir valores y ver tiempo de ejecución**\n",
        "lgbm_predicciones = lgbm_pipe.predict(X_test_processed)\n",
        "print(f'Predicciones: {lgbm_predicciones}\\n-------------------------------')\n",
        "#**Evaluar modelo**\n",
        "print(classification_report(y_test,lgbm_predicciones),'\\n-------------------------------')\n",
        "#**AUC ROC**\n",
        "print(f'AUC ROC de entrenamiento: {roc_auc_score(y_train,lgbm_pipe.predict_proba(X_train_processed)[:,1])}')\n",
        "print(f'AUC ROC de prueba: {roc_auc_score(y_test,lgbm_pipe.predict_proba(X_test_processed)[:,1])}')\n",
        "#**Matriz de confusión**\n",
        "print('\\n-------------------------------','Matriz de confusión:\\n',plot_confusion_matrix(lgbm_pipe,X_test_processed,y_test))\n",
        "plt.show()\n",
        "print('\\n-------------------------------\\nDatos de ejecución:')"
      ],
      "metadata": {
        "colab": {
          "base_uri": "https://localhost:8080/",
          "height": 735
        },
        "outputId": "58ac6b23-1a43-47a5-938e-c53cdcf2f737",
        "id": "JOE6wcP8QTjG"
      },
      "execution_count": 114,
      "outputs": [
        {
          "output_type": "stream",
          "name": "stdout",
          "text": [
            "Predicciones: [0 0 0 ... 0 0 0]\n",
            "-------------------------------\n",
            "              precision    recall  f1-score   support\n",
            "\n",
            "           0       0.89      0.95      0.92      6181\n",
            "           1       0.79      0.65      0.71      1960\n",
            "\n",
            "    accuracy                           0.87      8141\n",
            "   macro avg       0.84      0.80      0.82      8141\n",
            "weighted avg       0.87      0.87      0.87      8141\n",
            " \n",
            "-------------------------------\n",
            "AUC ROC de entrenamiento: 0.936544204724776\n",
            "AUC ROC de prueba: 0.9305932597921875\n"
          ]
        },
        {
          "output_type": "stream",
          "name": "stderr",
          "text": [
            "/usr/local/lib/python3.7/dist-packages/sklearn/utils/deprecation.py:87: FutureWarning: Function plot_confusion_matrix is deprecated; Function `plot_confusion_matrix` is deprecated in 1.0 and will be removed in 1.2. Use one of the class methods: ConfusionMatrixDisplay.from_predictions or ConfusionMatrixDisplay.from_estimator.\n",
            "  warnings.warn(msg, category=FutureWarning)\n"
          ]
        },
        {
          "output_type": "stream",
          "name": "stdout",
          "text": [
            "\n",
            "------------------------------- Matriz de confusión:\n",
            " <sklearn.metrics._plot.confusion_matrix.ConfusionMatrixDisplay object at 0x7f2d6b92ad10>\n"
          ]
        },
        {
          "output_type": "display_data",
          "data": {
            "text/plain": [
              "<Figure size 432x288 with 2 Axes>"
            ],
            "image/png": "[encoded data removed]"
          },
          "metadata": {
            "needs_background": "light"
          }
        },
        {
          "output_type": "stream",
          "name": "stdout",
          "text": [
            "\n",
            "-------------------------------\n",
            "Datos de ejecución:\n",
            "CPU times: user 4.58 s, sys: 36.7 ms, total: 4.62 s\n",
            "Wall time: 4.42 s\n"
          ]
        }
      ]
    },
    {
      "cell_type": "markdown",
      "source": [
        "####**MODELO BOOSTING: XGBoost**"
      ],
      "metadata": {
        "id": "3eowNthoXSbT"
      }
    },
    {
      "cell_type": "markdown",
      "source": [
        "Para ver el tiempo de ejecución total del modelo se va a cargar en una sola celda todo el proceso comentado, para ver el tiempo se inicia con la sentencia %%time"
      ],
      "metadata": {
        "id": "0L4xtFH4XSbc"
      }
    },
    {
      "cell_type": "code",
      "source": [
        "%%time\n",
        "#**Instanciar el modelo**\n",
        "xgb = XGBClassifier(random_state=42)\n",
        "#**Instanciar pipeline**\n",
        "xgb_pipe = make_pipeline(xgb)\n",
        "#**Ajustar pipeline / modelo a los datos de entrenamiento**\n",
        "xgb_pipe.fit(X_train_processed,y_train)\n",
        "#**Predecir valores y ver tiempo de ejecución**\n",
        "xgb_predicciones = xgb_pipe.predict(X_test_processed)\n",
        "print(f'Predicciones: {xgb_predicciones}\\n-------------------------------')\n",
        "#**Evaluar modelo**\n",
        "print(classification_report(y_test,xgb_predicciones),'\\n-------------------------------')\n",
        "#**AUC ROC**\n",
        "print(f'AUC ROC de entrenamiento: {roc_auc_score(y_train,xgb_pipe.predict_proba(X_train_processed)[:,1])}')\n",
        "print(f'AUC ROC de prueba: {roc_auc_score(y_test,xgb_pipe.predict_proba(X_test_processed)[:,1])}')\n",
        "#**Matriz de confusión**\n",
        "print('\\n-------------------------------','Matriz de confusión:\\n',plot_confusion_matrix(xgb_pipe,X_test_processed,y_test))\n",
        "plt.show()\n",
        "print('\\n-------------------------------\\nDatos de ejecución:')"
      ],
      "metadata": {
        "colab": {
          "base_uri": "https://localhost:8080/",
          "height": 735
        },
        "outputId": "7df6a382-da61-4e9f-91a8-cc03936b950f",
        "id": "jTKLRuddXSbc"
      },
      "execution_count": 115,
      "outputs": [
        {
          "output_type": "stream",
          "name": "stdout",
          "text": [
            "Predicciones: [0 0 0 ... 0 0 0]\n",
            "-------------------------------\n",
            "              precision    recall  f1-score   support\n",
            "\n",
            "           0       0.88      0.95      0.91      6181\n",
            "           1       0.80      0.58      0.67      1960\n",
            "\n",
            "    accuracy                           0.86      8141\n",
            "   macro avg       0.84      0.77      0.79      8141\n",
            "weighted avg       0.86      0.86      0.86      8141\n",
            " \n",
            "-------------------------------\n",
            "AUC ROC de entrenamiento: 0.9215322984559386\n",
            "AUC ROC de prueba: 0.9204086172569659\n"
          ]
        },
        {
          "output_type": "stream",
          "name": "stderr",
          "text": [
            "/usr/local/lib/python3.7/dist-packages/sklearn/utils/deprecation.py:87: FutureWarning: Function plot_confusion_matrix is deprecated; Function `plot_confusion_matrix` is deprecated in 1.0 and will be removed in 1.2. Use one of the class methods: ConfusionMatrixDisplay.from_predictions or ConfusionMatrixDisplay.from_estimator.\n",
            "  warnings.warn(msg, category=FutureWarning)\n"
          ]
        },
        {
          "output_type": "stream",
          "name": "stdout",
          "text": [
            "\n",
            "------------------------------- Matriz de confusión:\n",
            " <sklearn.metrics._plot.confusion_matrix.ConfusionMatrixDisplay object at 0x7f2d6b4e7d10>\n"
          ]
        },
        {
          "output_type": "display_data",
          "data": {
            "text/plain": [
              "<Figure size 432x288 with 2 Axes>"
            ],
            "image/png": "[encoded data removed]"
          },
          "metadata": {
            "needs_background": "light"
          }
        },
        {
          "output_type": "stream",
          "name": "stdout",
          "text": [
            "\n",
            "-------------------------------\n",
            "Datos de ejecución:\n",
            "CPU times: user 8.22 s, sys: 143 ms, total: 8.37 s\n",
            "Wall time: 9.31 s\n"
          ]
        }
      ]
    },
    {
      "cell_type": "markdown",
      "source": [
        "#####**Optimización de hiperparámetros**"
      ],
      "metadata": {
        "id": "JuJgPMKgXSbd"
      }
    },
    {
      "cell_type": "markdown",
      "source": [
        "**Obtención de los parámetros actuales del modelo**"
      ],
      "metadata": {
        "id": "qkvSL4DiXSbd"
      }
    },
    {
      "cell_type": "code",
      "source": [
        "xgb_pipe.get_params()"
      ],
      "metadata": {
        "colab": {
          "base_uri": "https://localhost:8080/"
        },
        "outputId": "265670bf-6731-42db-f63e-a86cf090217e",
        "id": "eR04pQ2vXSbd"
      },
      "execution_count": 116,
      "outputs": [
        {
          "output_type": "execute_result",
          "data": {
            "text/plain": [
              "{'memory': None,\n",
              " 'steps': [('xgbclassifier', XGBClassifier(random_state=42))],\n",
              " 'verbose': False,\n",
              " 'xgbclassifier': XGBClassifier(random_state=42),\n",
              " 'xgbclassifier__base_score': 0.5,\n",
              " 'xgbclassifier__booster': 'gbtree',\n",
              " 'xgbclassifier__colsample_bylevel': 1,\n",
              " 'xgbclassifier__colsample_bynode': 1,\n",
              " 'xgbclassifier__colsample_bytree': 1,\n",
              " 'xgbclassifier__gamma': 0,\n",
              " 'xgbclassifier__learning_rate': 0.1,\n",
              " 'xgbclassifier__max_delta_step': 0,\n",
              " 'xgbclassifier__max_depth': 3,\n",
              " 'xgbclassifier__min_child_weight': 1,\n",
              " 'xgbclassifier__missing': None,\n",
              " 'xgbclassifier__n_estimators': 100,\n",
              " 'xgbclassifier__n_jobs': 1,\n",
              " 'xgbclassifier__nthread': None,\n",
              " 'xgbclassifier__objective': 'binary:logistic',\n",
              " 'xgbclassifier__random_state': 42,\n",
              " 'xgbclassifier__reg_alpha': 0,\n",
              " 'xgbclassifier__reg_lambda': 1,\n",
              " 'xgbclassifier__scale_pos_weight': 1,\n",
              " 'xgbclassifier__seed': None,\n",
              " 'xgbclassifier__silent': None,\n",
              " 'xgbclassifier__subsample': 1,\n",
              " 'xgbclassifier__verbosity': 1}"
            ]
          },
          "metadata": {},
          "execution_count": 116
        }
      ]
    },
    {
      "cell_type": "markdown",
      "source": [
        "**GridSearch**"
      ],
      "metadata": {
        "id": "lsoMpkcKXSbd"
      }
    },
    {
      "cell_type": "code",
      "source": [
        "grip_params = {\n",
        "    'max_depth': [1,5,10],\n",
        "    'n_estimators': [100,200,500]\n",
        "}\n",
        "\n",
        "grid = GridSearchCV(lgbm, grip_params, cv=5)\n",
        "grid.fit(X_train_processed,y_train)"
      ],
      "metadata": {
        "colab": {
          "base_uri": "https://localhost:8080/"
        },
        "outputId": "1778bf04-4c62-449c-948e-856ec00b1f0d",
        "id": "9pkvXcgWXSbd"
      },
      "execution_count": 117,
      "outputs": [
        {
          "output_type": "execute_result",
          "data": {
            "text/plain": [
              "GridSearchCV(cv=5,\n",
              "             estimator=LGBMClassifier(max_depth=3, n_estimators=350,\n",
              "                                      random_state=42),\n",
              "             param_grid={'max_depth': [1, 5, 10],\n",
              "                         'n_estimators': [100, 200, 500]})"
            ]
          },
          "metadata": {},
          "execution_count": 117
        }
      ]
    },
    {
      "cell_type": "code",
      "source": [
        "grid.best_params_"
      ],
      "metadata": {
        "colab": {
          "base_uri": "https://localhost:8080/"
        },
        "outputId": "b02a7053-506d-4695-8984-1da3a814c8cd",
        "id": "gjbSPh3_XSbd"
      },
      "execution_count": 118,
      "outputs": [
        {
          "output_type": "execute_result",
          "data": {
            "text/plain": [
              "{'max_depth': 5, 'n_estimators': 200}"
            ]
          },
          "metadata": {},
          "execution_count": 118
        }
      ]
    },
    {
      "cell_type": "markdown",
      "source": [
        "Primera ronda de validación de mejores estimadores:\n",
        "\n",
        "{'max_depth': 5, 'n_estimators': 200}\n",
        "\n",
        "La segunda ronda de validación de mejores estimadores vuelve a indicar:\n",
        "\n",
        "{'max_depth': 5, 'n_estimators': 350}\n",
        "\n",
        "La tercera ronda indica:\n",
        "\n",
        "{'max_depth': 3, 'n_estimators': 350}"
      ],
      "metadata": {
        "id": "NHuDcnWtXSbd"
      }
    },
    {
      "cell_type": "code",
      "source": [
        "%%time\n",
        "#**Instanciar el modelo**\n",
        "xgb = XGBClassifier(random_state=42, max_depth=5,n_estimators=200)\n",
        "#**Instanciar pipeline**\n",
        "xgb_pipe = make_pipeline(xgb)\n",
        "#**Ajustar pipeline / modelo a los datos de entrenamiento**\n",
        "xgb_pipe.fit(X_train_processed,y_train)\n",
        "#**Predecir valores y ver tiempo de ejecución**\n",
        "xgb_predicciones = xgb_pipe.predict(X_test_processed)\n",
        "print(f'Predicciones: {xgb_predicciones}\\n-------------------------------')\n",
        "#**Evaluar modelo**\n",
        "print(classification_report(y_test,xgb_predicciones),'\\n-------------------------------')\n",
        "#**AUC ROC**\n",
        "print(f'AUC ROC de entrenamiento: {roc_auc_score(y_train,xgb_pipe.predict_proba(X_train_processed)[:,1])}')\n",
        "print(f'AUC ROC de prueba: {roc_auc_score(y_test,xgb_pipe.predict_proba(X_test_processed)[:,1])}')\n",
        "#**Matriz de confusión**\n",
        "print('\\n-------------------------------','Matriz de confusión:\\n',plot_confusion_matrix(xgb_pipe,X_test_processed,y_test))\n",
        "plt.show()\n",
        "print('\\n-------------------------------\\nDatos de ejecución:')"
      ],
      "metadata": {
        "colab": {
          "base_uri": "https://localhost:8080/",
          "height": 735
        },
        "outputId": "bcff668b-6cf2-4b9c-f409-575e4e24ec7b",
        "id": "tb7eA-3sXSbd"
      },
      "execution_count": 119,
      "outputs": [
        {
          "output_type": "stream",
          "name": "stdout",
          "text": [
            "Predicciones: [0 0 0 ... 0 0 0]\n",
            "-------------------------------\n",
            "              precision    recall  f1-score   support\n",
            "\n",
            "           0       0.89      0.95      0.92      6181\n",
            "           1       0.79      0.65      0.71      1960\n",
            "\n",
            "    accuracy                           0.87      8141\n",
            "   macro avg       0.84      0.80      0.82      8141\n",
            "weighted avg       0.87      0.87      0.87      8141\n",
            " \n",
            "-------------------------------\n",
            "AUC ROC de entrenamiento: 0.9424761794139238\n",
            "AUC ROC de prueba: 0.9309015201291647\n"
          ]
        },
        {
          "output_type": "stream",
          "name": "stderr",
          "text": [
            "/usr/local/lib/python3.7/dist-packages/sklearn/utils/deprecation.py:87: FutureWarning: Function plot_confusion_matrix is deprecated; Function `plot_confusion_matrix` is deprecated in 1.0 and will be removed in 1.2. Use one of the class methods: ConfusionMatrixDisplay.from_predictions or ConfusionMatrixDisplay.from_estimator.\n",
            "  warnings.warn(msg, category=FutureWarning)\n"
          ]
        },
        {
          "output_type": "stream",
          "name": "stdout",
          "text": [
            "\n",
            "------------------------------- Matriz de confusión:\n",
            " <sklearn.metrics._plot.confusion_matrix.ConfusionMatrixDisplay object at 0x7f2d6b210490>\n"
          ]
        },
        {
          "output_type": "display_data",
          "data": {
            "text/plain": [
              "<Figure size 432x288 with 2 Axes>"
            ],
            "image/png": "[encoded data removed]"
          },
          "metadata": {
            "needs_background": "light"
          }
        },
        {
          "output_type": "stream",
          "name": "stdout",
          "text": [
            "\n",
            "-------------------------------\n",
            "Datos de ejecución:\n",
            "CPU times: user 21.4 s, sys: 155 ms, total: 21.6 s\n",
            "Wall time: 22.3 s\n"
          ]
        }
      ]
    }
  ]
}