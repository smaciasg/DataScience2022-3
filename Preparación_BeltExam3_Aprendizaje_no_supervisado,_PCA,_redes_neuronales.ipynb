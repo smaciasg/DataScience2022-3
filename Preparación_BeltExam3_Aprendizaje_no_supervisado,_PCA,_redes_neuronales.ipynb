{
  "nbformat": 4,
  "nbformat_minor": 0,
  "metadata": {
    "colab": {
      "provenance": [],
      "mount_file_id": "150fFQd1P1mFozsaoyKANcVgNHzwD6nvk",
      "authorship_tag": "ABX9TyMuKZErs2DMWHvII3cFNXJS",
      "include_colab_link": true
    },
    "kernelspec": {
      "name": "python3",
      "display_name": "Python 3"
    },
    "language_info": {
      "name": "python"
    },
    "accelerator": "GPU",
    "gpuClass": "standard"
  },
  "cells": [
    {
      "cell_type": "markdown",
      "metadata": {
        "id": "view-in-github",
        "colab_type": "text"
      },
      "source": [
        "<a href=\"https://colab.research.google.com/github/smaciasg/DataScience2022-3/blob/main/Preparaci%C3%B3n_BeltExam3_Aprendizaje_no_supervisado%2C_PCA%2C_redes_neuronales.ipynb\" target=\"_parent\"><img src=\"https://colab.research.google.com/assets/colab-badge.svg\" alt=\"Open In Colab\"/></a>"
      ]
    },
    {
      "cell_type": "markdown",
      "source": [
        "**Simulación del examen de cinturón (práctica)**\n",
        "\n",
        "**Nota:** Es posible que durante el examen del cinturón real haya más de un conjunto de datos para importar.\n",
        "\n",
        "**Problema**\n",
        "Una empresa de aerolínea le gustaría saber más sobre sus clientes y cómo satisfacerlos.  Han proporcionado cierta información sobre 20 000 clientes, así como los resultados de una entrevista de satisfacción.  Los datos están disponibles aquí.\n",
        "\n",
        "*Ellos quieren que hagas:*\n",
        "\n",
        "1. Una segmentación de los clientes en grupos y describir esos grupos, qué tienen en común y en qué se diferencian.\n",
        "\n",
        "2. Un modelado de datos para ver si la satisfacción general de los clientes se puede predecir por la información de sus vuelos y las respuestas a la entrevista, además de la satisfacción general.\n",
        "\n",
        "**Instrucciones de agrupamiento: La empresa de aerolínea quiere que segmentes a los clientes y crees un informe analítico sobre los clústeres describiendo cada grupo y describiendo cómo son de diferentes.**\n",
        "\n",
        "1. Carga los datos.\n",
        "\n",
        "2. Explora los datos.\n",
        "\n",
        "3. Prepara los datos para el modelado.\n",
        "\n",
        "4. Utiliza un modelo k-medias para agrupar a los estudiantes en un número óptimo de clústeres. \n",
        "\n",
        "  Utiliza un trazado de codo y una puntuación de silueta para encontrar el número óptimo de clústeres.\n",
        "  Debe haber entre 2 y 10 clústeres.\n",
        "5. Analiza e informa sobre los clústeres.\n",
        "* Describe cada clúster.\n",
        "* ¿En qué se diferencian los clústeres?\n",
        "* Crea 2 visualizaciones explicativas de calidad del informe que muestren las diferencias importantes entre los clústeres.\n",
        "* Interpreta y explica cada visualización.\n",
        "\n",
        "**Instrucciones de modelado: A la aerolínea también le gustaría saber si la satisfacción general se puede predecir bien a partir de la información de los pasajeros y la satisfacción con partes específicas de su experiencia. Tu objetivo será la columna “satisfied”.**\n",
        "\n",
        "1. Utiliza random_state = 42 para tu train_test_split.\n",
        "\n",
        "2. Aplica ACP para reducir el número de características a un número más razonable.\n",
        "\n",
        "  Indica cuántas columnas menos hay después del ACP.\n",
        "  Indica la cantidad de varianzas retenidas después del ACP.\n",
        "3. No filtres los datos.\n",
        "\n",
        "4. Utiliza un modelo de aprendizaje profundo para predecir si los clientes informarán que estuvieron satisfechos.\n",
        "\n",
        "* Crea 3 versiones diferentes de un modelo secuencial.\n",
        "* Cada modelo nuevo debe ser una iteración en el modelo anterior.\n",
        "* Justifica por escrito por qué cambiaste lo que hiciste para cada modelo.\n",
        "* Por ejemplo, por qué agregaste capas, regularización, nodos, etc.\n",
        "* Utiliza alguna forma de regularización con al menos un modelo.\n",
        "* Evalúa cada modelo con las métricas adecuadas.\n",
        "\n",
        "5. Elije un modelo final y justifica tu decisión.\n",
        "\n",
        "6. Explica por escrito en qué medida tu modelo resolverá el problema empresarial."
      ],
      "metadata": {
        "id": "P7gR-nvV1j_v"
      }
    },
    {
      "cell_type": "markdown",
      "source": [
        "#**AGRUPAMIENTO**"
      ],
      "metadata": {
        "id": "9Hx19o7tV2mt"
      }
    },
    {
      "cell_type": "markdown",
      "source": [
        "###**1) Importar las librerías necesarias**"
      ],
      "metadata": {
        "id": "KrG9v7AyV_r4"
      }
    },
    {
      "cell_type": "code",
      "source": [
        "import numpy as np\n",
        "import pandas as pd\n",
        "import matplotlib.pyplot as plt\n",
        "from sklearn.preprocessing import StandardScaler, MinMaxScaler\n",
        "from sklearn.cluster import KMeans\n",
        "from sklearn.metrics import silhouette_score\n",
        "import seaborn as sns"
      ],
      "metadata": {
        "id": "l36b9kOdWIaC"
      },
      "execution_count": 1,
      "outputs": []
    },
    {
      "cell_type": "markdown",
      "source": [
        "###**2) Cargar los datos y explorar**"
      ],
      "metadata": {
        "id": "QkPfPzNaWpHO"
      }
    },
    {
      "cell_type": "code",
      "execution_count": 2,
      "metadata": {
        "colab": {
          "base_uri": "https://localhost:8080/",
          "height": 352
        },
        "id": "jeVxSSc41HNx",
        "outputId": "73a45577-4cd8-41e7-bec8-69028fdb3d21"
      },
      "outputs": [
        {
          "output_type": "execute_result",
          "data": {
            "text/plain": [
              "   Age  Class  Flight Distance  Inflight wifi service  \\\n",
              "0   26      3             2062                      2   \n",
              "1   52      3              680                      5   \n",
              "2   28      1              188                      3   \n",
              "3   54      3              453                      3   \n",
              "4   40      1              775                      4   \n",
              "\n",
              "   Departure/Arrival time convenient  Ease of Online booking  Gate location  \\\n",
              "0                                  3                       3              3   \n",
              "1                                  5                       5              5   \n",
              "2                                  5                       3              4   \n",
              "3                                  5                       5              5   \n",
              "4                                  3                       3              3   \n",
              "\n",
              "   Food and drink  Online boarding  Seat comfort  ...  Baggage handling  \\\n",
              "0               2                2             2  ...                 3   \n",
              "1               3                4             4  ...                 4   \n",
              "2               3                3             3  ...                 4   \n",
              "3               3                4             4  ...                 3   \n",
              "4               4                4             4  ...                 3   \n",
              "\n",
              "   Checkin service  Inflight service  Cleanliness  Departure Delay in Minutes  \\\n",
              "0                3                 3            2                           0   \n",
              "1                4                 4            4                          18   \n",
              "2                4                 5            3                           0   \n",
              "3                4                 3            1                          91   \n",
              "4                3                 3            4                           0   \n",
              "\n",
              "   Arrival Delay in Minutes  Gender_Male  Loyal Customer  Business Travel  \\\n",
              "0                         0            0               1                1   \n",
              "1                         2            0               1                1   \n",
              "2                         0            1               1                0   \n",
              "3                        80            0               1                1   \n",
              "4                         0            1               1                1   \n",
              "\n",
              "   satisfied  \n",
              "0          0  \n",
              "1          1  \n",
              "2          0  \n",
              "3          0  \n",
              "4          0  \n",
              "\n",
              "[5 rows x 23 columns]"
            ],
            "text/html": [
              "\n",
              "  <div id=\"df-fe7cf0fc-3296-42da-b3de-30c2fdd4b065\">\n",
              "    <div class=\"colab-df-container\">\n",
              "      <div>\n",
              "<style scoped>\n",
              "    .dataframe tbody tr th:only-of-type {\n",
              "        vertical-align: middle;\n",
              "    }\n",
              "\n",
              "    .dataframe tbody tr th {\n",
              "        vertical-align: top;\n",
              "    }\n",
              "\n",
              "    .dataframe thead th {\n",
              "        text-align: right;\n",
              "    }\n",
              "</style>\n",
              "<table border=\"1\" class=\"dataframe\">\n",
              "  <thead>\n",
              "    <tr style=\"text-align: right;\">\n",
              "      <th></th>\n",
              "      <th>Age</th>\n",
              "      <th>Class</th>\n",
              "      <th>Flight Distance</th>\n",
              "      <th>Inflight wifi service</th>\n",
              "      <th>Departure/Arrival time convenient</th>\n",
              "      <th>Ease of Online booking</th>\n",
              "      <th>Gate location</th>\n",
              "      <th>Food and drink</th>\n",
              "      <th>Online boarding</th>\n",
              "      <th>Seat comfort</th>\n",
              "      <th>...</th>\n",
              "      <th>Baggage handling</th>\n",
              "      <th>Checkin service</th>\n",
              "      <th>Inflight service</th>\n",
              "      <th>Cleanliness</th>\n",
              "      <th>Departure Delay in Minutes</th>\n",
              "      <th>Arrival Delay in Minutes</th>\n",
              "      <th>Gender_Male</th>\n",
              "      <th>Loyal Customer</th>\n",
              "      <th>Business Travel</th>\n",
              "      <th>satisfied</th>\n",
              "    </tr>\n",
              "  </thead>\n",
              "  <tbody>\n",
              "    <tr>\n",
              "      <th>0</th>\n",
              "      <td>26</td>\n",
              "      <td>3</td>\n",
              "      <td>2062</td>\n",
              "      <td>2</td>\n",
              "      <td>3</td>\n",
              "      <td>3</td>\n",
              "      <td>3</td>\n",
              "      <td>2</td>\n",
              "      <td>2</td>\n",
              "      <td>2</td>\n",
              "      <td>...</td>\n",
              "      <td>3</td>\n",
              "      <td>3</td>\n",
              "      <td>3</td>\n",
              "      <td>2</td>\n",
              "      <td>0</td>\n",
              "      <td>0</td>\n",
              "      <td>0</td>\n",
              "      <td>1</td>\n",
              "      <td>1</td>\n",
              "      <td>0</td>\n",
              "    </tr>\n",
              "    <tr>\n",
              "      <th>1</th>\n",
              "      <td>52</td>\n",
              "      <td>3</td>\n",
              "      <td>680</td>\n",
              "      <td>5</td>\n",
              "      <td>5</td>\n",
              "      <td>5</td>\n",
              "      <td>5</td>\n",
              "      <td>3</td>\n",
              "      <td>4</td>\n",
              "      <td>4</td>\n",
              "      <td>...</td>\n",
              "      <td>4</td>\n",
              "      <td>4</td>\n",
              "      <td>4</td>\n",
              "      <td>4</td>\n",
              "      <td>18</td>\n",
              "      <td>2</td>\n",
              "      <td>0</td>\n",
              "      <td>1</td>\n",
              "      <td>1</td>\n",
              "      <td>1</td>\n",
              "    </tr>\n",
              "    <tr>\n",
              "      <th>2</th>\n",
              "      <td>28</td>\n",
              "      <td>1</td>\n",
              "      <td>188</td>\n",
              "      <td>3</td>\n",
              "      <td>5</td>\n",
              "      <td>3</td>\n",
              "      <td>4</td>\n",
              "      <td>3</td>\n",
              "      <td>3</td>\n",
              "      <td>3</td>\n",
              "      <td>...</td>\n",
              "      <td>4</td>\n",
              "      <td>4</td>\n",
              "      <td>5</td>\n",
              "      <td>3</td>\n",
              "      <td>0</td>\n",
              "      <td>0</td>\n",
              "      <td>1</td>\n",
              "      <td>1</td>\n",
              "      <td>0</td>\n",
              "      <td>0</td>\n",
              "    </tr>\n",
              "    <tr>\n",
              "      <th>3</th>\n",
              "      <td>54</td>\n",
              "      <td>3</td>\n",
              "      <td>453</td>\n",
              "      <td>3</td>\n",
              "      <td>5</td>\n",
              "      <td>5</td>\n",
              "      <td>5</td>\n",
              "      <td>3</td>\n",
              "      <td>4</td>\n",
              "      <td>4</td>\n",
              "      <td>...</td>\n",
              "      <td>3</td>\n",
              "      <td>4</td>\n",
              "      <td>3</td>\n",
              "      <td>1</td>\n",
              "      <td>91</td>\n",
              "      <td>80</td>\n",
              "      <td>0</td>\n",
              "      <td>1</td>\n",
              "      <td>1</td>\n",
              "      <td>0</td>\n",
              "    </tr>\n",
              "    <tr>\n",
              "      <th>4</th>\n",
              "      <td>40</td>\n",
              "      <td>1</td>\n",
              "      <td>775</td>\n",
              "      <td>4</td>\n",
              "      <td>3</td>\n",
              "      <td>3</td>\n",
              "      <td>3</td>\n",
              "      <td>4</td>\n",
              "      <td>4</td>\n",
              "      <td>4</td>\n",
              "      <td>...</td>\n",
              "      <td>3</td>\n",
              "      <td>3</td>\n",
              "      <td>3</td>\n",
              "      <td>4</td>\n",
              "      <td>0</td>\n",
              "      <td>0</td>\n",
              "      <td>1</td>\n",
              "      <td>1</td>\n",
              "      <td>1</td>\n",
              "      <td>0</td>\n",
              "    </tr>\n",
              "  </tbody>\n",
              "</table>\n",
              "<p>5 rows × 23 columns</p>\n",
              "</div>\n",
              "      <button class=\"colab-df-convert\" onclick=\"convertToInteractive('df-fe7cf0fc-3296-42da-b3de-30c2fdd4b065')\"\n",
              "              title=\"Convert this dataframe to an interactive table.\"\n",
              "              style=\"display:none;\">\n",
              "        \n",
              "  <svg xmlns=\"http://www.w3.org/2000/svg\" height=\"24px\"viewBox=\"0 0 24 24\"\n",
              "       width=\"24px\">\n",
              "    <path d=\"M0 0h24v24H0V0z\" fill=\"none\"/>\n",
              "    <path d=\"M18.56 5.44l.94 2.06.94-2.06 2.06-.94-2.06-.94-.94-2.06-.94 2.06-2.06.94zm-11 1L8.5 8.5l.94-2.06 2.06-.94-2.06-.94L8.5 2.5l-.94 2.06-2.06.94zm10 10l.94 2.06.94-2.06 2.06-.94-2.06-.94-.94-2.06-.94 2.06-2.06.94z\"/><path d=\"M17.41 7.96l-1.37-1.37c-.4-.4-.92-.59-1.43-.59-.52 0-1.04.2-1.43.59L10.3 9.45l-7.72 7.72c-.78.78-.78 2.05 0 2.83L4 21.41c.39.39.9.59 1.41.59.51 0 1.02-.2 1.41-.59l7.78-7.78 2.81-2.81c.8-.78.8-2.07 0-2.86zM5.41 20L4 18.59l7.72-7.72 1.47 1.35L5.41 20z\"/>\n",
              "  </svg>\n",
              "      </button>\n",
              "      \n",
              "  <style>\n",
              "    .colab-df-container {\n",
              "      display:flex;\n",
              "      flex-wrap:wrap;\n",
              "      gap: 12px;\n",
              "    }\n",
              "\n",
              "    .colab-df-convert {\n",
              "      background-color: #E8F0FE;\n",
              "      border: none;\n",
              "      border-radius: 50%;\n",
              "      cursor: pointer;\n",
              "      display: none;\n",
              "      fill: #1967D2;\n",
              "      height: 32px;\n",
              "      padding: 0 0 0 0;\n",
              "      width: 32px;\n",
              "    }\n",
              "\n",
              "    .colab-df-convert:hover {\n",
              "      background-color: #E2EBFA;\n",
              "      box-shadow: 0px 1px 2px rgba(60, 64, 67, 0.3), 0px 1px 3px 1px rgba(60, 64, 67, 0.15);\n",
              "      fill: #174EA6;\n",
              "    }\n",
              "\n",
              "    [theme=dark] .colab-df-convert {\n",
              "      background-color: #3B4455;\n",
              "      fill: #D2E3FC;\n",
              "    }\n",
              "\n",
              "    [theme=dark] .colab-df-convert:hover {\n",
              "      background-color: #434B5C;\n",
              "      box-shadow: 0px 1px 3px 1px rgba(0, 0, 0, 0.15);\n",
              "      filter: drop-shadow(0px 1px 2px rgba(0, 0, 0, 0.3));\n",
              "      fill: #FFFFFF;\n",
              "    }\n",
              "  </style>\n",
              "\n",
              "      <script>\n",
              "        const buttonEl =\n",
              "          document.querySelector('#df-fe7cf0fc-3296-42da-b3de-30c2fdd4b065 button.colab-df-convert');\n",
              "        buttonEl.style.display =\n",
              "          google.colab.kernel.accessAllowed ? 'block' : 'none';\n",
              "\n",
              "        async function convertToInteractive(key) {\n",
              "          const element = document.querySelector('#df-fe7cf0fc-3296-42da-b3de-30c2fdd4b065');\n",
              "          const dataTable =\n",
              "            await google.colab.kernel.invokeFunction('convertToInteractive',\n",
              "                                                     [key], {});\n",
              "          if (!dataTable) return;\n",
              "\n",
              "          const docLinkHtml = 'Like what you see? Visit the ' +\n",
              "            '<a target=\"_blank\" href=https://colab.research.google.com/notebooks/data_table.ipynb>data table notebook</a>'\n",
              "            + ' to learn more about interactive tables.';\n",
              "          element.innerHTML = '';\n",
              "          dataTable['output_type'] = 'display_data';\n",
              "          await google.colab.output.renderOutput(dataTable, element);\n",
              "          const docLink = document.createElement('div');\n",
              "          docLink.innerHTML = docLinkHtml;\n",
              "          element.appendChild(docLink);\n",
              "        }\n",
              "      </script>\n",
              "    </div>\n",
              "  </div>\n",
              "  "
            ]
          },
          "metadata": {},
          "execution_count": 2
        }
      ],
      "source": [
        "pasajeros_vuelos = pd.read_csv('/content/drive/MyDrive/CODING DOJO/DATA SCIENCE/PREPARACIÓN BELT EXAM3/flight_df - flight_df.csv')\n",
        "pasajeros_vuelos.head()"
      ]
    },
    {
      "cell_type": "code",
      "source": [
        "pasajeros_vuelos.info()\n",
        "#Se observa que no hay datos nulos, y todos son del tipo int64"
      ],
      "metadata": {
        "colab": {
          "base_uri": "https://localhost:8080/"
        },
        "id": "bEyymtQaW1uT",
        "outputId": "1182410f-52f0-4d23-eeea-702660297f2f"
      },
      "execution_count": 3,
      "outputs": [
        {
          "output_type": "stream",
          "name": "stdout",
          "text": [
            "<class 'pandas.core.frame.DataFrame'>\n",
            "RangeIndex: 20000 entries, 0 to 19999\n",
            "Data columns (total 23 columns):\n",
            " #   Column                             Non-Null Count  Dtype\n",
            "---  ------                             --------------  -----\n",
            " 0   Age                                20000 non-null  int64\n",
            " 1   Class                              20000 non-null  int64\n",
            " 2   Flight Distance                    20000 non-null  int64\n",
            " 3   Inflight wifi service              20000 non-null  int64\n",
            " 4   Departure/Arrival time convenient  20000 non-null  int64\n",
            " 5   Ease of Online booking             20000 non-null  int64\n",
            " 6   Gate location                      20000 non-null  int64\n",
            " 7   Food and drink                     20000 non-null  int64\n",
            " 8   Online boarding                    20000 non-null  int64\n",
            " 9   Seat comfort                       20000 non-null  int64\n",
            " 10  Inflight entertainment             20000 non-null  int64\n",
            " 11  On-board service                   20000 non-null  int64\n",
            " 12  Leg room service                   20000 non-null  int64\n",
            " 13  Baggage handling                   20000 non-null  int64\n",
            " 14  Checkin service                    20000 non-null  int64\n",
            " 15  Inflight service                   20000 non-null  int64\n",
            " 16  Cleanliness                        20000 non-null  int64\n",
            " 17  Departure Delay in Minutes         20000 non-null  int64\n",
            " 18  Arrival Delay in Minutes           20000 non-null  int64\n",
            " 19  Gender_Male                        20000 non-null  int64\n",
            " 20  Loyal Customer                     20000 non-null  int64\n",
            " 21  Business Travel                    20000 non-null  int64\n",
            " 22  satisfied                          20000 non-null  int64\n",
            "dtypes: int64(23)\n",
            "memory usage: 3.5 MB\n"
          ]
        }
      ]
    },
    {
      "cell_type": "code",
      "source": [
        "#Validación de datos duplicados\n",
        "pasajeros_vuelos.duplicated().sum()\n",
        "#No hay datos duplicados"
      ],
      "metadata": {
        "colab": {
          "base_uri": "https://localhost:8080/"
        },
        "id": "7x8-pAXAW_bn",
        "outputId": "1a99a74e-0a48-42a3-b1ed-953bcd1c7831"
      },
      "execution_count": 4,
      "outputs": [
        {
          "output_type": "execute_result",
          "data": {
            "text/plain": [
              "0"
            ]
          },
          "metadata": {},
          "execution_count": 4
        }
      ]
    },
    {
      "cell_type": "code",
      "source": [
        "#Vamos a describir el dataset para tratar de identificar valores anormales en las variables que se presentan\n",
        "pasajeros_vuelos.describe()\n",
        "#Al parecer no hay datos anormales en el conjunto de datos."
      ],
      "metadata": {
        "colab": {
          "base_uri": "https://localhost:8080/",
          "height": 428
        },
        "id": "tIle1F9-XJFN",
        "outputId": "56904c2c-00b6-4fe3-9e22-aa36fd596131"
      },
      "execution_count": 5,
      "outputs": [
        {
          "output_type": "execute_result",
          "data": {
            "text/plain": [
              "                Age         Class  Flight Distance  Inflight wifi service  \\\n",
              "count  20000.000000  20000.000000     20000.000000           20000.000000   \n",
              "mean      39.477250      2.027800      1188.548000               2.727950   \n",
              "std       15.108901      0.963054      1001.136957               1.326886   \n",
              "min        7.000000      1.000000        31.000000               0.000000   \n",
              "25%       27.000000      1.000000       414.000000               2.000000   \n",
              "50%       40.000000      2.000000       842.000000               3.000000   \n",
              "75%       51.000000      3.000000      1733.000000               4.000000   \n",
              "max       85.000000      3.000000      4983.000000               5.000000   \n",
              "\n",
              "       Departure/Arrival time convenient  Ease of Online booking  \\\n",
              "count                       20000.000000            20000.000000   \n",
              "mean                            3.056100                2.751100   \n",
              "std                             1.531134                1.396799   \n",
              "min                             0.000000                0.000000   \n",
              "25%                             2.000000                2.000000   \n",
              "50%                             3.000000                3.000000   \n",
              "75%                             4.000000                4.000000   \n",
              "max                             5.000000                5.000000   \n",
              "\n",
              "       Gate location  Food and drink  Online boarding  Seat comfort  ...  \\\n",
              "count   20000.000000    20000.000000     20000.000000  20000.000000  ...   \n",
              "mean        2.971350        3.202100         3.255300      3.439100  ...   \n",
              "std         1.279575        1.332383         1.348485      1.323434  ...   \n",
              "min         0.000000        0.000000         0.000000      1.000000  ...   \n",
              "25%         2.000000        2.000000         2.000000      2.000000  ...   \n",
              "50%         3.000000        3.000000         3.000000      4.000000  ...   \n",
              "75%         4.000000        4.000000         4.000000      5.000000  ...   \n",
              "max         5.000000        5.000000         5.000000      5.000000  ...   \n",
              "\n",
              "       Baggage handling  Checkin service  Inflight service   Cleanliness  \\\n",
              "count      20000.000000     20000.000000      20000.000000  20000.000000   \n",
              "mean           3.623650         3.302850          3.635550      3.282650   \n",
              "std            1.186837         1.259131          1.184017      1.311734   \n",
              "min            1.000000         1.000000          0.000000      0.000000   \n",
              "25%            3.000000         3.000000          3.000000      2.000000   \n",
              "50%            4.000000         3.000000          4.000000      3.000000   \n",
              "75%            5.000000         4.000000          5.000000      4.000000   \n",
              "max            5.000000         5.000000          5.000000      5.000000   \n",
              "\n",
              "       Departure Delay in Minutes  Arrival Delay in Minutes   Gender_Male  \\\n",
              "count                20000.000000              20000.000000  20000.000000   \n",
              "mean                    14.318350                 14.698250      0.490650   \n",
              "std                     36.451829                 36.899857      0.499925   \n",
              "min                      0.000000                  0.000000      0.000000   \n",
              "25%                      0.000000                  0.000000      0.000000   \n",
              "50%                      0.000000                  0.000000      0.000000   \n",
              "75%                     12.000000                 13.000000      1.000000   \n",
              "max                   1305.000000               1280.000000      1.000000   \n",
              "\n",
              "       Loyal Customer  Business Travel    satisfied  \n",
              "count    20000.000000     20000.000000  20000.00000  \n",
              "mean         0.817850         0.687900      0.43305  \n",
              "std          0.385978         0.463362      0.49551  \n",
              "min          0.000000         0.000000      0.00000  \n",
              "25%          1.000000         0.000000      0.00000  \n",
              "50%          1.000000         1.000000      0.00000  \n",
              "75%          1.000000         1.000000      1.00000  \n",
              "max          1.000000         1.000000      1.00000  \n",
              "\n",
              "[8 rows x 23 columns]"
            ],
            "text/html": [
              "\n",
              "  <div id=\"df-a854f957-3090-4954-8eb2-cd6ba496168e\">\n",
              "    <div class=\"colab-df-container\">\n",
              "      <div>\n",
              "<style scoped>\n",
              "    .dataframe tbody tr th:only-of-type {\n",
              "        vertical-align: middle;\n",
              "    }\n",
              "\n",
              "    .dataframe tbody tr th {\n",
              "        vertical-align: top;\n",
              "    }\n",
              "\n",
              "    .dataframe thead th {\n",
              "        text-align: right;\n",
              "    }\n",
              "</style>\n",
              "<table border=\"1\" class=\"dataframe\">\n",
              "  <thead>\n",
              "    <tr style=\"text-align: right;\">\n",
              "      <th></th>\n",
              "      <th>Age</th>\n",
              "      <th>Class</th>\n",
              "      <th>Flight Distance</th>\n",
              "      <th>Inflight wifi service</th>\n",
              "      <th>Departure/Arrival time convenient</th>\n",
              "      <th>Ease of Online booking</th>\n",
              "      <th>Gate location</th>\n",
              "      <th>Food and drink</th>\n",
              "      <th>Online boarding</th>\n",
              "      <th>Seat comfort</th>\n",
              "      <th>...</th>\n",
              "      <th>Baggage handling</th>\n",
              "      <th>Checkin service</th>\n",
              "      <th>Inflight service</th>\n",
              "      <th>Cleanliness</th>\n",
              "      <th>Departure Delay in Minutes</th>\n",
              "      <th>Arrival Delay in Minutes</th>\n",
              "      <th>Gender_Male</th>\n",
              "      <th>Loyal Customer</th>\n",
              "      <th>Business Travel</th>\n",
              "      <th>satisfied</th>\n",
              "    </tr>\n",
              "  </thead>\n",
              "  <tbody>\n",
              "    <tr>\n",
              "      <th>count</th>\n",
              "      <td>20000.000000</td>\n",
              "      <td>20000.000000</td>\n",
              "      <td>20000.000000</td>\n",
              "      <td>20000.000000</td>\n",
              "      <td>20000.000000</td>\n",
              "      <td>20000.000000</td>\n",
              "      <td>20000.000000</td>\n",
              "      <td>20000.000000</td>\n",
              "      <td>20000.000000</td>\n",
              "      <td>20000.000000</td>\n",
              "      <td>...</td>\n",
              "      <td>20000.000000</td>\n",
              "      <td>20000.000000</td>\n",
              "      <td>20000.000000</td>\n",
              "      <td>20000.000000</td>\n",
              "      <td>20000.000000</td>\n",
              "      <td>20000.000000</td>\n",
              "      <td>20000.000000</td>\n",
              "      <td>20000.000000</td>\n",
              "      <td>20000.000000</td>\n",
              "      <td>20000.00000</td>\n",
              "    </tr>\n",
              "    <tr>\n",
              "      <th>mean</th>\n",
              "      <td>39.477250</td>\n",
              "      <td>2.027800</td>\n",
              "      <td>1188.548000</td>\n",
              "      <td>2.727950</td>\n",
              "      <td>3.056100</td>\n",
              "      <td>2.751100</td>\n",
              "      <td>2.971350</td>\n",
              "      <td>3.202100</td>\n",
              "      <td>3.255300</td>\n",
              "      <td>3.439100</td>\n",
              "      <td>...</td>\n",
              "      <td>3.623650</td>\n",
              "      <td>3.302850</td>\n",
              "      <td>3.635550</td>\n",
              "      <td>3.282650</td>\n",
              "      <td>14.318350</td>\n",
              "      <td>14.698250</td>\n",
              "      <td>0.490650</td>\n",
              "      <td>0.817850</td>\n",
              "      <td>0.687900</td>\n",
              "      <td>0.43305</td>\n",
              "    </tr>\n",
              "    <tr>\n",
              "      <th>std</th>\n",
              "      <td>15.108901</td>\n",
              "      <td>0.963054</td>\n",
              "      <td>1001.136957</td>\n",
              "      <td>1.326886</td>\n",
              "      <td>1.531134</td>\n",
              "      <td>1.396799</td>\n",
              "      <td>1.279575</td>\n",
              "      <td>1.332383</td>\n",
              "      <td>1.348485</td>\n",
              "      <td>1.323434</td>\n",
              "      <td>...</td>\n",
              "      <td>1.186837</td>\n",
              "      <td>1.259131</td>\n",
              "      <td>1.184017</td>\n",
              "      <td>1.311734</td>\n",
              "      <td>36.451829</td>\n",
              "      <td>36.899857</td>\n",
              "      <td>0.499925</td>\n",
              "      <td>0.385978</td>\n",
              "      <td>0.463362</td>\n",
              "      <td>0.49551</td>\n",
              "    </tr>\n",
              "    <tr>\n",
              "      <th>min</th>\n",
              "      <td>7.000000</td>\n",
              "      <td>1.000000</td>\n",
              "      <td>31.000000</td>\n",
              "      <td>0.000000</td>\n",
              "      <td>0.000000</td>\n",
              "      <td>0.000000</td>\n",
              "      <td>0.000000</td>\n",
              "      <td>0.000000</td>\n",
              "      <td>0.000000</td>\n",
              "      <td>1.000000</td>\n",
              "      <td>...</td>\n",
              "      <td>1.000000</td>\n",
              "      <td>1.000000</td>\n",
              "      <td>0.000000</td>\n",
              "      <td>0.000000</td>\n",
              "      <td>0.000000</td>\n",
              "      <td>0.000000</td>\n",
              "      <td>0.000000</td>\n",
              "      <td>0.000000</td>\n",
              "      <td>0.000000</td>\n",
              "      <td>0.00000</td>\n",
              "    </tr>\n",
              "    <tr>\n",
              "      <th>25%</th>\n",
              "      <td>27.000000</td>\n",
              "      <td>1.000000</td>\n",
              "      <td>414.000000</td>\n",
              "      <td>2.000000</td>\n",
              "      <td>2.000000</td>\n",
              "      <td>2.000000</td>\n",
              "      <td>2.000000</td>\n",
              "      <td>2.000000</td>\n",
              "      <td>2.000000</td>\n",
              "      <td>2.000000</td>\n",
              "      <td>...</td>\n",
              "      <td>3.000000</td>\n",
              "      <td>3.000000</td>\n",
              "      <td>3.000000</td>\n",
              "      <td>2.000000</td>\n",
              "      <td>0.000000</td>\n",
              "      <td>0.000000</td>\n",
              "      <td>0.000000</td>\n",
              "      <td>1.000000</td>\n",
              "      <td>0.000000</td>\n",
              "      <td>0.00000</td>\n",
              "    </tr>\n",
              "    <tr>\n",
              "      <th>50%</th>\n",
              "      <td>40.000000</td>\n",
              "      <td>2.000000</td>\n",
              "      <td>842.000000</td>\n",
              "      <td>3.000000</td>\n",
              "      <td>3.000000</td>\n",
              "      <td>3.000000</td>\n",
              "      <td>3.000000</td>\n",
              "      <td>3.000000</td>\n",
              "      <td>3.000000</td>\n",
              "      <td>4.000000</td>\n",
              "      <td>...</td>\n",
              "      <td>4.000000</td>\n",
              "      <td>3.000000</td>\n",
              "      <td>4.000000</td>\n",
              "      <td>3.000000</td>\n",
              "      <td>0.000000</td>\n",
              "      <td>0.000000</td>\n",
              "      <td>0.000000</td>\n",
              "      <td>1.000000</td>\n",
              "      <td>1.000000</td>\n",
              "      <td>0.00000</td>\n",
              "    </tr>\n",
              "    <tr>\n",
              "      <th>75%</th>\n",
              "      <td>51.000000</td>\n",
              "      <td>3.000000</td>\n",
              "      <td>1733.000000</td>\n",
              "      <td>4.000000</td>\n",
              "      <td>4.000000</td>\n",
              "      <td>4.000000</td>\n",
              "      <td>4.000000</td>\n",
              "      <td>4.000000</td>\n",
              "      <td>4.000000</td>\n",
              "      <td>5.000000</td>\n",
              "      <td>...</td>\n",
              "      <td>5.000000</td>\n",
              "      <td>4.000000</td>\n",
              "      <td>5.000000</td>\n",
              "      <td>4.000000</td>\n",
              "      <td>12.000000</td>\n",
              "      <td>13.000000</td>\n",
              "      <td>1.000000</td>\n",
              "      <td>1.000000</td>\n",
              "      <td>1.000000</td>\n",
              "      <td>1.00000</td>\n",
              "    </tr>\n",
              "    <tr>\n",
              "      <th>max</th>\n",
              "      <td>85.000000</td>\n",
              "      <td>3.000000</td>\n",
              "      <td>4983.000000</td>\n",
              "      <td>5.000000</td>\n",
              "      <td>5.000000</td>\n",
              "      <td>5.000000</td>\n",
              "      <td>5.000000</td>\n",
              "      <td>5.000000</td>\n",
              "      <td>5.000000</td>\n",
              "      <td>5.000000</td>\n",
              "      <td>...</td>\n",
              "      <td>5.000000</td>\n",
              "      <td>5.000000</td>\n",
              "      <td>5.000000</td>\n",
              "      <td>5.000000</td>\n",
              "      <td>1305.000000</td>\n",
              "      <td>1280.000000</td>\n",
              "      <td>1.000000</td>\n",
              "      <td>1.000000</td>\n",
              "      <td>1.000000</td>\n",
              "      <td>1.00000</td>\n",
              "    </tr>\n",
              "  </tbody>\n",
              "</table>\n",
              "<p>8 rows × 23 columns</p>\n",
              "</div>\n",
              "      <button class=\"colab-df-convert\" onclick=\"convertToInteractive('df-a854f957-3090-4954-8eb2-cd6ba496168e')\"\n",
              "              title=\"Convert this dataframe to an interactive table.\"\n",
              "              style=\"display:none;\">\n",
              "        \n",
              "  <svg xmlns=\"http://www.w3.org/2000/svg\" height=\"24px\"viewBox=\"0 0 24 24\"\n",
              "       width=\"24px\">\n",
              "    <path d=\"M0 0h24v24H0V0z\" fill=\"none\"/>\n",
              "    <path d=\"M18.56 5.44l.94 2.06.94-2.06 2.06-.94-2.06-.94-.94-2.06-.94 2.06-2.06.94zm-11 1L8.5 8.5l.94-2.06 2.06-.94-2.06-.94L8.5 2.5l-.94 2.06-2.06.94zm10 10l.94 2.06.94-2.06 2.06-.94-2.06-.94-.94-2.06-.94 2.06-2.06.94z\"/><path d=\"M17.41 7.96l-1.37-1.37c-.4-.4-.92-.59-1.43-.59-.52 0-1.04.2-1.43.59L10.3 9.45l-7.72 7.72c-.78.78-.78 2.05 0 2.83L4 21.41c.39.39.9.59 1.41.59.51 0 1.02-.2 1.41-.59l7.78-7.78 2.81-2.81c.8-.78.8-2.07 0-2.86zM5.41 20L4 18.59l7.72-7.72 1.47 1.35L5.41 20z\"/>\n",
              "  </svg>\n",
              "      </button>\n",
              "      \n",
              "  <style>\n",
              "    .colab-df-container {\n",
              "      display:flex;\n",
              "      flex-wrap:wrap;\n",
              "      gap: 12px;\n",
              "    }\n",
              "\n",
              "    .colab-df-convert {\n",
              "      background-color: #E8F0FE;\n",
              "      border: none;\n",
              "      border-radius: 50%;\n",
              "      cursor: pointer;\n",
              "      display: none;\n",
              "      fill: #1967D2;\n",
              "      height: 32px;\n",
              "      padding: 0 0 0 0;\n",
              "      width: 32px;\n",
              "    }\n",
              "\n",
              "    .colab-df-convert:hover {\n",
              "      background-color: #E2EBFA;\n",
              "      box-shadow: 0px 1px 2px rgba(60, 64, 67, 0.3), 0px 1px 3px 1px rgba(60, 64, 67, 0.15);\n",
              "      fill: #174EA6;\n",
              "    }\n",
              "\n",
              "    [theme=dark] .colab-df-convert {\n",
              "      background-color: #3B4455;\n",
              "      fill: #D2E3FC;\n",
              "    }\n",
              "\n",
              "    [theme=dark] .colab-df-convert:hover {\n",
              "      background-color: #434B5C;\n",
              "      box-shadow: 0px 1px 3px 1px rgba(0, 0, 0, 0.15);\n",
              "      filter: drop-shadow(0px 1px 2px rgba(0, 0, 0, 0.3));\n",
              "      fill: #FFFFFF;\n",
              "    }\n",
              "  </style>\n",
              "\n",
              "      <script>\n",
              "        const buttonEl =\n",
              "          document.querySelector('#df-a854f957-3090-4954-8eb2-cd6ba496168e button.colab-df-convert');\n",
              "        buttonEl.style.display =\n",
              "          google.colab.kernel.accessAllowed ? 'block' : 'none';\n",
              "\n",
              "        async function convertToInteractive(key) {\n",
              "          const element = document.querySelector('#df-a854f957-3090-4954-8eb2-cd6ba496168e');\n",
              "          const dataTable =\n",
              "            await google.colab.kernel.invokeFunction('convertToInteractive',\n",
              "                                                     [key], {});\n",
              "          if (!dataTable) return;\n",
              "\n",
              "          const docLinkHtml = 'Like what you see? Visit the ' +\n",
              "            '<a target=\"_blank\" href=https://colab.research.google.com/notebooks/data_table.ipynb>data table notebook</a>'\n",
              "            + ' to learn more about interactive tables.';\n",
              "          element.innerHTML = '';\n",
              "          dataTable['output_type'] = 'display_data';\n",
              "          await google.colab.output.renderOutput(dataTable, element);\n",
              "          const docLink = document.createElement('div');\n",
              "          docLink.innerHTML = docLinkHtml;\n",
              "          element.appendChild(docLink);\n",
              "        }\n",
              "      </script>\n",
              "    </div>\n",
              "  </div>\n",
              "  "
            ]
          },
          "metadata": {},
          "execution_count": 5
        }
      ]
    },
    {
      "cell_type": "markdown",
      "source": [
        "###**3) Preparar los datos para el modelado**"
      ],
      "metadata": {
        "id": "gJJuHyJJXgQT"
      }
    },
    {
      "cell_type": "markdown",
      "source": [
        "**Escalado de los datos**\n",
        "\n",
        "Dado que todos los datos son numéricos lo único que se deberá hacer es escalarlos, para tal motivo se hará uso de un escalador MinMax, más aún que más adelante se usarán redes neuronales y dentro de los valores que estamos trabajando los valores no requieren valores negativos."
      ],
      "metadata": {
        "id": "b9hgLy8LXowR"
      }
    },
    {
      "cell_type": "code",
      "source": [
        "scaler = MinMaxScaler()"
      ],
      "metadata": {
        "id": "9-6iVnrAXj3C"
      },
      "execution_count": 6,
      "outputs": []
    },
    {
      "cell_type": "code",
      "source": [
        "pasajeros_vuelos['satisfied'].value_counts()"
      ],
      "metadata": {
        "colab": {
          "base_uri": "https://localhost:8080/"
        },
        "id": "StfrAkf2YHBn",
        "outputId": "3d1b72f1-7cf5-471b-8aba-75cdc5d60107"
      },
      "execution_count": 7,
      "outputs": [
        {
          "output_type": "execute_result",
          "data": {
            "text/plain": [
              "0    11339\n",
              "1     8661\n",
              "Name: satisfied, dtype: int64"
            ]
          },
          "metadata": {},
          "execution_count": 7
        }
      ]
    },
    {
      "cell_type": "markdown",
      "source": [
        "**Se ajusta el escalador al conjunto de datos**"
      ],
      "metadata": {
        "id": "b2dfGf12YO0Y"
      }
    },
    {
      "cell_type": "code",
      "source": [
        "scaler_pasajeros = scaler.fit_transform(pasajeros_vuelos)\n",
        "X_scaled = pd.DataFrame(scaler.fit_transform(pasajeros_vuelos), columns=pasajeros_vuelos.columns)\n",
        "X_scaled.head()"
      ],
      "metadata": {
        "colab": {
          "base_uri": "https://localhost:8080/",
          "height": 352
        },
        "id": "5nkRzv1PYT8f",
        "outputId": "6954ed1c-c625-42dd-885f-b080c0ee1fc0"
      },
      "execution_count": 8,
      "outputs": [
        {
          "output_type": "execute_result",
          "data": {
            "text/plain": [
              "        Age  Class  Flight Distance  Inflight wifi service  \\\n",
              "0  0.243590    1.0         0.410137                    0.4   \n",
              "1  0.576923    1.0         0.131058                    1.0   \n",
              "2  0.269231    0.0         0.031704                    0.6   \n",
              "3  0.602564    1.0         0.085218                    0.6   \n",
              "4  0.423077    0.0         0.150242                    0.8   \n",
              "\n",
              "   Departure/Arrival time convenient  Ease of Online booking  Gate location  \\\n",
              "0                                0.6                     0.6            0.6   \n",
              "1                                1.0                     1.0            1.0   \n",
              "2                                1.0                     0.6            0.8   \n",
              "3                                1.0                     1.0            1.0   \n",
              "4                                0.6                     0.6            0.6   \n",
              "\n",
              "   Food and drink  Online boarding  Seat comfort  ...  Baggage handling  \\\n",
              "0             0.4              0.4          0.25  ...              0.50   \n",
              "1             0.6              0.8          0.75  ...              0.75   \n",
              "2             0.6              0.6          0.50  ...              0.75   \n",
              "3             0.6              0.8          0.75  ...              0.50   \n",
              "4             0.8              0.8          0.75  ...              0.50   \n",
              "\n",
              "   Checkin service  Inflight service  Cleanliness  Departure Delay in Minutes  \\\n",
              "0             0.50               0.6          0.4                    0.000000   \n",
              "1             0.75               0.8          0.8                    0.013793   \n",
              "2             0.75               1.0          0.6                    0.000000   \n",
              "3             0.75               0.6          0.2                    0.069732   \n",
              "4             0.50               0.6          0.8                    0.000000   \n",
              "\n",
              "   Arrival Delay in Minutes  Gender_Male  Loyal Customer  Business Travel  \\\n",
              "0                  0.000000          0.0             1.0              1.0   \n",
              "1                  0.001563          0.0             1.0              1.0   \n",
              "2                  0.000000          1.0             1.0              0.0   \n",
              "3                  0.062500          0.0             1.0              1.0   \n",
              "4                  0.000000          1.0             1.0              1.0   \n",
              "\n",
              "   satisfied  \n",
              "0        0.0  \n",
              "1        1.0  \n",
              "2        0.0  \n",
              "3        0.0  \n",
              "4        0.0  \n",
              "\n",
              "[5 rows x 23 columns]"
            ],
            "text/html": [
              "\n",
              "  <div id=\"df-f4b0c737-4448-49e7-befa-348cdc5c981b\">\n",
              "    <div class=\"colab-df-container\">\n",
              "      <div>\n",
              "<style scoped>\n",
              "    .dataframe tbody tr th:only-of-type {\n",
              "        vertical-align: middle;\n",
              "    }\n",
              "\n",
              "    .dataframe tbody tr th {\n",
              "        vertical-align: top;\n",
              "    }\n",
              "\n",
              "    .dataframe thead th {\n",
              "        text-align: right;\n",
              "    }\n",
              "</style>\n",
              "<table border=\"1\" class=\"dataframe\">\n",
              "  <thead>\n",
              "    <tr style=\"text-align: right;\">\n",
              "      <th></th>\n",
              "      <th>Age</th>\n",
              "      <th>Class</th>\n",
              "      <th>Flight Distance</th>\n",
              "      <th>Inflight wifi service</th>\n",
              "      <th>Departure/Arrival time convenient</th>\n",
              "      <th>Ease of Online booking</th>\n",
              "      <th>Gate location</th>\n",
              "      <th>Food and drink</th>\n",
              "      <th>Online boarding</th>\n",
              "      <th>Seat comfort</th>\n",
              "      <th>...</th>\n",
              "      <th>Baggage handling</th>\n",
              "      <th>Checkin service</th>\n",
              "      <th>Inflight service</th>\n",
              "      <th>Cleanliness</th>\n",
              "      <th>Departure Delay in Minutes</th>\n",
              "      <th>Arrival Delay in Minutes</th>\n",
              "      <th>Gender_Male</th>\n",
              "      <th>Loyal Customer</th>\n",
              "      <th>Business Travel</th>\n",
              "      <th>satisfied</th>\n",
              "    </tr>\n",
              "  </thead>\n",
              "  <tbody>\n",
              "    <tr>\n",
              "      <th>0</th>\n",
              "      <td>0.243590</td>\n",
              "      <td>1.0</td>\n",
              "      <td>0.410137</td>\n",
              "      <td>0.4</td>\n",
              "      <td>0.6</td>\n",
              "      <td>0.6</td>\n",
              "      <td>0.6</td>\n",
              "      <td>0.4</td>\n",
              "      <td>0.4</td>\n",
              "      <td>0.25</td>\n",
              "      <td>...</td>\n",
              "      <td>0.50</td>\n",
              "      <td>0.50</td>\n",
              "      <td>0.6</td>\n",
              "      <td>0.4</td>\n",
              "      <td>0.000000</td>\n",
              "      <td>0.000000</td>\n",
              "      <td>0.0</td>\n",
              "      <td>1.0</td>\n",
              "      <td>1.0</td>\n",
              "      <td>0.0</td>\n",
              "    </tr>\n",
              "    <tr>\n",
              "      <th>1</th>\n",
              "      <td>0.576923</td>\n",
              "      <td>1.0</td>\n",
              "      <td>0.131058</td>\n",
              "      <td>1.0</td>\n",
              "      <td>1.0</td>\n",
              "      <td>1.0</td>\n",
              "      <td>1.0</td>\n",
              "      <td>0.6</td>\n",
              "      <td>0.8</td>\n",
              "      <td>0.75</td>\n",
              "      <td>...</td>\n",
              "      <td>0.75</td>\n",
              "      <td>0.75</td>\n",
              "      <td>0.8</td>\n",
              "      <td>0.8</td>\n",
              "      <td>0.013793</td>\n",
              "      <td>0.001563</td>\n",
              "      <td>0.0</td>\n",
              "      <td>1.0</td>\n",
              "      <td>1.0</td>\n",
              "      <td>1.0</td>\n",
              "    </tr>\n",
              "    <tr>\n",
              "      <th>2</th>\n",
              "      <td>0.269231</td>\n",
              "      <td>0.0</td>\n",
              "      <td>0.031704</td>\n",
              "      <td>0.6</td>\n",
              "      <td>1.0</td>\n",
              "      <td>0.6</td>\n",
              "      <td>0.8</td>\n",
              "      <td>0.6</td>\n",
              "      <td>0.6</td>\n",
              "      <td>0.50</td>\n",
              "      <td>...</td>\n",
              "      <td>0.75</td>\n",
              "      <td>0.75</td>\n",
              "      <td>1.0</td>\n",
              "      <td>0.6</td>\n",
              "      <td>0.000000</td>\n",
              "      <td>0.000000</td>\n",
              "      <td>1.0</td>\n",
              "      <td>1.0</td>\n",
              "      <td>0.0</td>\n",
              "      <td>0.0</td>\n",
              "    </tr>\n",
              "    <tr>\n",
              "      <th>3</th>\n",
              "      <td>0.602564</td>\n",
              "      <td>1.0</td>\n",
              "      <td>0.085218</td>\n",
              "      <td>0.6</td>\n",
              "      <td>1.0</td>\n",
              "      <td>1.0</td>\n",
              "      <td>1.0</td>\n",
              "      <td>0.6</td>\n",
              "      <td>0.8</td>\n",
              "      <td>0.75</td>\n",
              "      <td>...</td>\n",
              "      <td>0.50</td>\n",
              "      <td>0.75</td>\n",
              "      <td>0.6</td>\n",
              "      <td>0.2</td>\n",
              "      <td>0.069732</td>\n",
              "      <td>0.062500</td>\n",
              "      <td>0.0</td>\n",
              "      <td>1.0</td>\n",
              "      <td>1.0</td>\n",
              "      <td>0.0</td>\n",
              "    </tr>\n",
              "    <tr>\n",
              "      <th>4</th>\n",
              "      <td>0.423077</td>\n",
              "      <td>0.0</td>\n",
              "      <td>0.150242</td>\n",
              "      <td>0.8</td>\n",
              "      <td>0.6</td>\n",
              "      <td>0.6</td>\n",
              "      <td>0.6</td>\n",
              "      <td>0.8</td>\n",
              "      <td>0.8</td>\n",
              "      <td>0.75</td>\n",
              "      <td>...</td>\n",
              "      <td>0.50</td>\n",
              "      <td>0.50</td>\n",
              "      <td>0.6</td>\n",
              "      <td>0.8</td>\n",
              "      <td>0.000000</td>\n",
              "      <td>0.000000</td>\n",
              "      <td>1.0</td>\n",
              "      <td>1.0</td>\n",
              "      <td>1.0</td>\n",
              "      <td>0.0</td>\n",
              "    </tr>\n",
              "  </tbody>\n",
              "</table>\n",
              "<p>5 rows × 23 columns</p>\n",
              "</div>\n",
              "      <button class=\"colab-df-convert\" onclick=\"convertToInteractive('df-f4b0c737-4448-49e7-befa-348cdc5c981b')\"\n",
              "              title=\"Convert this dataframe to an interactive table.\"\n",
              "              style=\"display:none;\">\n",
              "        \n",
              "  <svg xmlns=\"http://www.w3.org/2000/svg\" height=\"24px\"viewBox=\"0 0 24 24\"\n",
              "       width=\"24px\">\n",
              "    <path d=\"M0 0h24v24H0V0z\" fill=\"none\"/>\n",
              "    <path d=\"M18.56 5.44l.94 2.06.94-2.06 2.06-.94-2.06-.94-.94-2.06-.94 2.06-2.06.94zm-11 1L8.5 8.5l.94-2.06 2.06-.94-2.06-.94L8.5 2.5l-.94 2.06-2.06.94zm10 10l.94 2.06.94-2.06 2.06-.94-2.06-.94-.94-2.06-.94 2.06-2.06.94z\"/><path d=\"M17.41 7.96l-1.37-1.37c-.4-.4-.92-.59-1.43-.59-.52 0-1.04.2-1.43.59L10.3 9.45l-7.72 7.72c-.78.78-.78 2.05 0 2.83L4 21.41c.39.39.9.59 1.41.59.51 0 1.02-.2 1.41-.59l7.78-7.78 2.81-2.81c.8-.78.8-2.07 0-2.86zM5.41 20L4 18.59l7.72-7.72 1.47 1.35L5.41 20z\"/>\n",
              "  </svg>\n",
              "      </button>\n",
              "      \n",
              "  <style>\n",
              "    .colab-df-container {\n",
              "      display:flex;\n",
              "      flex-wrap:wrap;\n",
              "      gap: 12px;\n",
              "    }\n",
              "\n",
              "    .colab-df-convert {\n",
              "      background-color: #E8F0FE;\n",
              "      border: none;\n",
              "      border-radius: 50%;\n",
              "      cursor: pointer;\n",
              "      display: none;\n",
              "      fill: #1967D2;\n",
              "      height: 32px;\n",
              "      padding: 0 0 0 0;\n",
              "      width: 32px;\n",
              "    }\n",
              "\n",
              "    .colab-df-convert:hover {\n",
              "      background-color: #E2EBFA;\n",
              "      box-shadow: 0px 1px 2px rgba(60, 64, 67, 0.3), 0px 1px 3px 1px rgba(60, 64, 67, 0.15);\n",
              "      fill: #174EA6;\n",
              "    }\n",
              "\n",
              "    [theme=dark] .colab-df-convert {\n",
              "      background-color: #3B4455;\n",
              "      fill: #D2E3FC;\n",
              "    }\n",
              "\n",
              "    [theme=dark] .colab-df-convert:hover {\n",
              "      background-color: #434B5C;\n",
              "      box-shadow: 0px 1px 3px 1px rgba(0, 0, 0, 0.15);\n",
              "      filter: drop-shadow(0px 1px 2px rgba(0, 0, 0, 0.3));\n",
              "      fill: #FFFFFF;\n",
              "    }\n",
              "  </style>\n",
              "\n",
              "      <script>\n",
              "        const buttonEl =\n",
              "          document.querySelector('#df-f4b0c737-4448-49e7-befa-348cdc5c981b button.colab-df-convert');\n",
              "        buttonEl.style.display =\n",
              "          google.colab.kernel.accessAllowed ? 'block' : 'none';\n",
              "\n",
              "        async function convertToInteractive(key) {\n",
              "          const element = document.querySelector('#df-f4b0c737-4448-49e7-befa-348cdc5c981b');\n",
              "          const dataTable =\n",
              "            await google.colab.kernel.invokeFunction('convertToInteractive',\n",
              "                                                     [key], {});\n",
              "          if (!dataTable) return;\n",
              "\n",
              "          const docLinkHtml = 'Like what you see? Visit the ' +\n",
              "            '<a target=\"_blank\" href=https://colab.research.google.com/notebooks/data_table.ipynb>data table notebook</a>'\n",
              "            + ' to learn more about interactive tables.';\n",
              "          element.innerHTML = '';\n",
              "          dataTable['output_type'] = 'display_data';\n",
              "          await google.colab.output.renderOutput(dataTable, element);\n",
              "          const docLink = document.createElement('div');\n",
              "          docLink.innerHTML = docLinkHtml;\n",
              "          element.appendChild(docLink);\n",
              "        }\n",
              "      </script>\n",
              "    </div>\n",
              "  </div>\n",
              "  "
            ]
          },
          "metadata": {},
          "execution_count": 8
        }
      ]
    },
    {
      "cell_type": "markdown",
      "source": [
        "###**4) Aplicación del modelo k-medias** "
      ],
      "metadata": {
        "id": "K70cVV8AYux8"
      }
    },
    {
      "cell_type": "code",
      "source": [
        "# Iterate over a range of k clusters to find the optimal number of clusters\n",
        "ks = range(2,11)\n",
        "sils = []\n",
        "inertias = []\n",
        "for k in ks:\n",
        "  kmeans = KMeans(n_clusters=k, random_state=42)\n",
        "  kmeans.fit(X_scaled)\n",
        "  sils.append(silhouette_score(X_scaled, kmeans.labels_))\n",
        "  inertias.append(kmeans.inertia_)\n",
        "#plot inertias and silhouette scores for each number of clusters.\n",
        "fig, axes = plt.subplots(1,2, figsize=(15,5))\n",
        "axes[0].plot(ks, sils)\n",
        "axes[0].set_title('Silhouette Scores')\n",
        "axes[0].set_xticks(ks)\n",
        "axes[1].plot(ks, inertias)\n",
        "axes[1].set_title('Inertia')\n",
        "axes[1].set_xticks(ks);"
      ],
      "metadata": {
        "colab": {
          "base_uri": "https://localhost:8080/",
          "height": 336
        },
        "id": "v0nyB3NKY1Ho",
        "outputId": "385a0700-c7d2-497b-b5c6-2c966d346a26"
      },
      "execution_count": 9,
      "outputs": [
        {
          "output_type": "display_data",
          "data": {
            "text/plain": [
              "<Figure size 1080x360 with 2 Axes>"
            ],
            "image/png": "[encoded data removed]"
          },
          "metadata": {
            "needs_background": "light"
          }
        }
      ]
    },
    {
      "cell_type": "code",
      "source": [
        "for i in range(len(inertias)):\n",
        "  if i < len(inertias)-1:\n",
        "    print(f'C{i+2} - C{i+3}: Decremento: {inertias[i+1]-inertias[i]}')"
      ],
      "metadata": {
        "colab": {
          "base_uri": "https://localhost:8080/"
        },
        "id": "p7nNnwe_aA3M",
        "outputId": "f095522c-0f15-4dc4-ee93-b280e915b588"
      },
      "execution_count": 10,
      "outputs": [
        {
          "output_type": "stream",
          "name": "stdout",
          "text": [
            "C2 - C3: Decremento: -4484.367255603029\n",
            "C3 - C4: Decremento: -2039.7215638352718\n",
            "C4 - C5: Decremento: -1907.3225338942902\n",
            "C5 - C6: Decremento: -1589.0758319667038\n",
            "C6 - C7: Decremento: -893.8470776040231\n",
            "C7 - C8: Decremento: -706.8279790474662\n",
            "C8 - C9: Decremento: -804.8751372816187\n",
            "C9 - C10: Decremento: -711.7045106370279\n"
          ]
        }
      ]
    },
    {
      "cell_type": "markdown",
      "source": [
        "De acuerdo a lo observado tanto en la puntucación de silueta como en el método del codo, la mejor opción es escojer un total de 3 clúster, como vemos en el método del codo, entre el segundo y tercer clúster se produce una gran variación, lo que indica que son grupos separados, lueto del cuarto clúster esta variabilidad disiminuye lo que ocasiona que los grupos sean muy parecidos entre sí."
      ],
      "metadata": {
        "id": "Z3RYEdtuaMqz"
      }
    },
    {
      "cell_type": "markdown",
      "source": [
        "**CREACIÓN DEL MODELO DE K-MEDIAS CON LA CANTIDAD DE CLÚSTERS ELEGIDOS**"
      ],
      "metadata": {
        "id": "YRt-f9SraxhE"
      }
    },
    {
      "cell_type": "code",
      "source": [
        "# Se refina kmeans con los 3 clúster\n",
        "kmeans = KMeans(n_clusters=3, random_state=42)\n",
        "#Se ajusta el modelo al conjunto de datos ya escalado\n",
        "kmeans.fit(X_scaled)\n",
        "# Se añade la columna de la clasificación del clúster al dataframe original\n",
        "pasajeros_vuelos['cluster'] = kmeans.labels_\n",
        "pasajeros_vuelos.head()"
      ],
      "metadata": {
        "colab": {
          "base_uri": "https://localhost:8080/",
          "height": 352
        },
        "id": "v7sUl7poarKq",
        "outputId": "fd5ebebd-e291-4d67-af38-fda817cc7263"
      },
      "execution_count": 11,
      "outputs": [
        {
          "output_type": "execute_result",
          "data": {
            "text/plain": [
              "   Age  Class  Flight Distance  Inflight wifi service  \\\n",
              "0   26      3             2062                      2   \n",
              "1   52      3              680                      5   \n",
              "2   28      1              188                      3   \n",
              "3   54      3              453                      3   \n",
              "4   40      1              775                      4   \n",
              "\n",
              "   Departure/Arrival time convenient  Ease of Online booking  Gate location  \\\n",
              "0                                  3                       3              3   \n",
              "1                                  5                       5              5   \n",
              "2                                  5                       3              4   \n",
              "3                                  5                       5              5   \n",
              "4                                  3                       3              3   \n",
              "\n",
              "   Food and drink  Online boarding  Seat comfort  ...  Checkin service  \\\n",
              "0               2                2             2  ...                3   \n",
              "1               3                4             4  ...                4   \n",
              "2               3                3             3  ...                4   \n",
              "3               3                4             4  ...                4   \n",
              "4               4                4             4  ...                3   \n",
              "\n",
              "   Inflight service  Cleanliness  Departure Delay in Minutes  \\\n",
              "0                 3            2                           0   \n",
              "1                 4            4                          18   \n",
              "2                 5            3                           0   \n",
              "3                 3            1                          91   \n",
              "4                 3            4                           0   \n",
              "\n",
              "   Arrival Delay in Minutes  Gender_Male  Loyal Customer  Business Travel  \\\n",
              "0                         0            0               1                1   \n",
              "1                         2            0               1                1   \n",
              "2                         0            1               1                0   \n",
              "3                        80            0               1                1   \n",
              "4                         0            1               1                1   \n",
              "\n",
              "   satisfied  cluster  \n",
              "0          0        2  \n",
              "1          1        1  \n",
              "2          0        0  \n",
              "3          0        2  \n",
              "4          0        2  \n",
              "\n",
              "[5 rows x 24 columns]"
            ],
            "text/html": [
              "\n",
              "  <div id=\"df-d3818e73-c74f-4db9-b7dd-9b682b006860\">\n",
              "    <div class=\"colab-df-container\">\n",
              "      <div>\n",
              "<style scoped>\n",
              "    .dataframe tbody tr th:only-of-type {\n",
              "        vertical-align: middle;\n",
              "    }\n",
              "\n",
              "    .dataframe tbody tr th {\n",
              "        vertical-align: top;\n",
              "    }\n",
              "\n",
              "    .dataframe thead th {\n",
              "        text-align: right;\n",
              "    }\n",
              "</style>\n",
              "<table border=\"1\" class=\"dataframe\">\n",
              "  <thead>\n",
              "    <tr style=\"text-align: right;\">\n",
              "      <th></th>\n",
              "      <th>Age</th>\n",
              "      <th>Class</th>\n",
              "      <th>Flight Distance</th>\n",
              "      <th>Inflight wifi service</th>\n",
              "      <th>Departure/Arrival time convenient</th>\n",
              "      <th>Ease of Online booking</th>\n",
              "      <th>Gate location</th>\n",
              "      <th>Food and drink</th>\n",
              "      <th>Online boarding</th>\n",
              "      <th>Seat comfort</th>\n",
              "      <th>...</th>\n",
              "      <th>Checkin service</th>\n",
              "      <th>Inflight service</th>\n",
              "      <th>Cleanliness</th>\n",
              "      <th>Departure Delay in Minutes</th>\n",
              "      <th>Arrival Delay in Minutes</th>\n",
              "      <th>Gender_Male</th>\n",
              "      <th>Loyal Customer</th>\n",
              "      <th>Business Travel</th>\n",
              "      <th>satisfied</th>\n",
              "      <th>cluster</th>\n",
              "    </tr>\n",
              "  </thead>\n",
              "  <tbody>\n",
              "    <tr>\n",
              "      <th>0</th>\n",
              "      <td>26</td>\n",
              "      <td>3</td>\n",
              "      <td>2062</td>\n",
              "      <td>2</td>\n",
              "      <td>3</td>\n",
              "      <td>3</td>\n",
              "      <td>3</td>\n",
              "      <td>2</td>\n",
              "      <td>2</td>\n",
              "      <td>2</td>\n",
              "      <td>...</td>\n",
              "      <td>3</td>\n",
              "      <td>3</td>\n",
              "      <td>2</td>\n",
              "      <td>0</td>\n",
              "      <td>0</td>\n",
              "      <td>0</td>\n",
              "      <td>1</td>\n",
              "      <td>1</td>\n",
              "      <td>0</td>\n",
              "      <td>2</td>\n",
              "    </tr>\n",
              "    <tr>\n",
              "      <th>1</th>\n",
              "      <td>52</td>\n",
              "      <td>3</td>\n",
              "      <td>680</td>\n",
              "      <td>5</td>\n",
              "      <td>5</td>\n",
              "      <td>5</td>\n",
              "      <td>5</td>\n",
              "      <td>3</td>\n",
              "      <td>4</td>\n",
              "      <td>4</td>\n",
              "      <td>...</td>\n",
              "      <td>4</td>\n",
              "      <td>4</td>\n",
              "      <td>4</td>\n",
              "      <td>18</td>\n",
              "      <td>2</td>\n",
              "      <td>0</td>\n",
              "      <td>1</td>\n",
              "      <td>1</td>\n",
              "      <td>1</td>\n",
              "      <td>1</td>\n",
              "    </tr>\n",
              "    <tr>\n",
              "      <th>2</th>\n",
              "      <td>28</td>\n",
              "      <td>1</td>\n",
              "      <td>188</td>\n",
              "      <td>3</td>\n",
              "      <td>5</td>\n",
              "      <td>3</td>\n",
              "      <td>4</td>\n",
              "      <td>3</td>\n",
              "      <td>3</td>\n",
              "      <td>3</td>\n",
              "      <td>...</td>\n",
              "      <td>4</td>\n",
              "      <td>5</td>\n",
              "      <td>3</td>\n",
              "      <td>0</td>\n",
              "      <td>0</td>\n",
              "      <td>1</td>\n",
              "      <td>1</td>\n",
              "      <td>0</td>\n",
              "      <td>0</td>\n",
              "      <td>0</td>\n",
              "    </tr>\n",
              "    <tr>\n",
              "      <th>3</th>\n",
              "      <td>54</td>\n",
              "      <td>3</td>\n",
              "      <td>453</td>\n",
              "      <td>3</td>\n",
              "      <td>5</td>\n",
              "      <td>5</td>\n",
              "      <td>5</td>\n",
              "      <td>3</td>\n",
              "      <td>4</td>\n",
              "      <td>4</td>\n",
              "      <td>...</td>\n",
              "      <td>4</td>\n",
              "      <td>3</td>\n",
              "      <td>1</td>\n",
              "      <td>91</td>\n",
              "      <td>80</td>\n",
              "      <td>0</td>\n",
              "      <td>1</td>\n",
              "      <td>1</td>\n",
              "      <td>0</td>\n",
              "      <td>2</td>\n",
              "    </tr>\n",
              "    <tr>\n",
              "      <th>4</th>\n",
              "      <td>40</td>\n",
              "      <td>1</td>\n",
              "      <td>775</td>\n",
              "      <td>4</td>\n",
              "      <td>3</td>\n",
              "      <td>3</td>\n",
              "      <td>3</td>\n",
              "      <td>4</td>\n",
              "      <td>4</td>\n",
              "      <td>4</td>\n",
              "      <td>...</td>\n",
              "      <td>3</td>\n",
              "      <td>3</td>\n",
              "      <td>4</td>\n",
              "      <td>0</td>\n",
              "      <td>0</td>\n",
              "      <td>1</td>\n",
              "      <td>1</td>\n",
              "      <td>1</td>\n",
              "      <td>0</td>\n",
              "      <td>2</td>\n",
              "    </tr>\n",
              "  </tbody>\n",
              "</table>\n",
              "<p>5 rows × 24 columns</p>\n",
              "</div>\n",
              "      <button class=\"colab-df-convert\" onclick=\"convertToInteractive('df-d3818e73-c74f-4db9-b7dd-9b682b006860')\"\n",
              "              title=\"Convert this dataframe to an interactive table.\"\n",
              "              style=\"display:none;\">\n",
              "        \n",
              "  <svg xmlns=\"http://www.w3.org/2000/svg\" height=\"24px\"viewBox=\"0 0 24 24\"\n",
              "       width=\"24px\">\n",
              "    <path d=\"M0 0h24v24H0V0z\" fill=\"none\"/>\n",
              "    <path d=\"M18.56 5.44l.94 2.06.94-2.06 2.06-.94-2.06-.94-.94-2.06-.94 2.06-2.06.94zm-11 1L8.5 8.5l.94-2.06 2.06-.94-2.06-.94L8.5 2.5l-.94 2.06-2.06.94zm10 10l.94 2.06.94-2.06 2.06-.94-2.06-.94-.94-2.06-.94 2.06-2.06.94z\"/><path d=\"M17.41 7.96l-1.37-1.37c-.4-.4-.92-.59-1.43-.59-.52 0-1.04.2-1.43.59L10.3 9.45l-7.72 7.72c-.78.78-.78 2.05 0 2.83L4 21.41c.39.39.9.59 1.41.59.51 0 1.02-.2 1.41-.59l7.78-7.78 2.81-2.81c.8-.78.8-2.07 0-2.86zM5.41 20L4 18.59l7.72-7.72 1.47 1.35L5.41 20z\"/>\n",
              "  </svg>\n",
              "      </button>\n",
              "      \n",
              "  <style>\n",
              "    .colab-df-container {\n",
              "      display:flex;\n",
              "      flex-wrap:wrap;\n",
              "      gap: 12px;\n",
              "    }\n",
              "\n",
              "    .colab-df-convert {\n",
              "      background-color: #E8F0FE;\n",
              "      border: none;\n",
              "      border-radius: 50%;\n",
              "      cursor: pointer;\n",
              "      display: none;\n",
              "      fill: #1967D2;\n",
              "      height: 32px;\n",
              "      padding: 0 0 0 0;\n",
              "      width: 32px;\n",
              "    }\n",
              "\n",
              "    .colab-df-convert:hover {\n",
              "      background-color: #E2EBFA;\n",
              "      box-shadow: 0px 1px 2px rgba(60, 64, 67, 0.3), 0px 1px 3px 1px rgba(60, 64, 67, 0.15);\n",
              "      fill: #174EA6;\n",
              "    }\n",
              "\n",
              "    [theme=dark] .colab-df-convert {\n",
              "      background-color: #3B4455;\n",
              "      fill: #D2E3FC;\n",
              "    }\n",
              "\n",
              "    [theme=dark] .colab-df-convert:hover {\n",
              "      background-color: #434B5C;\n",
              "      box-shadow: 0px 1px 3px 1px rgba(0, 0, 0, 0.15);\n",
              "      filter: drop-shadow(0px 1px 2px rgba(0, 0, 0, 0.3));\n",
              "      fill: #FFFFFF;\n",
              "    }\n",
              "  </style>\n",
              "\n",
              "      <script>\n",
              "        const buttonEl =\n",
              "          document.querySelector('#df-d3818e73-c74f-4db9-b7dd-9b682b006860 button.colab-df-convert');\n",
              "        buttonEl.style.display =\n",
              "          google.colab.kernel.accessAllowed ? 'block' : 'none';\n",
              "\n",
              "        async function convertToInteractive(key) {\n",
              "          const element = document.querySelector('#df-d3818e73-c74f-4db9-b7dd-9b682b006860');\n",
              "          const dataTable =\n",
              "            await google.colab.kernel.invokeFunction('convertToInteractive',\n",
              "                                                     [key], {});\n",
              "          if (!dataTable) return;\n",
              "\n",
              "          const docLinkHtml = 'Like what you see? Visit the ' +\n",
              "            '<a target=\"_blank\" href=https://colab.research.google.com/notebooks/data_table.ipynb>data table notebook</a>'\n",
              "            + ' to learn more about interactive tables.';\n",
              "          element.innerHTML = '';\n",
              "          dataTable['output_type'] = 'display_data';\n",
              "          await google.colab.output.renderOutput(dataTable, element);\n",
              "          const docLink = document.createElement('div');\n",
              "          docLink.innerHTML = docLinkHtml;\n",
              "          element.appendChild(docLink);\n",
              "        }\n",
              "      </script>\n",
              "    </div>\n",
              "  </div>\n",
              "  "
            ]
          },
          "metadata": {},
          "execution_count": 11
        }
      ]
    },
    {
      "cell_type": "markdown",
      "source": [
        "###**5) Describe y analiza los clústers**"
      ],
      "metadata": {
        "id": "reH0px2Pa9_I"
      }
    },
    {
      "cell_type": "markdown",
      "source": [
        "**Analizar los clústers**"
      ],
      "metadata": {
        "id": "TjXJFacGbM3V"
      }
    },
    {
      "cell_type": "code",
      "source": [
        "cluster_groups = pasajeros_vuelos.groupby('cluster', as_index=False).mean()\n",
        "cluster_groups"
      ],
      "metadata": {
        "colab": {
          "base_uri": "https://localhost:8080/",
          "height": 271
        },
        "id": "acw3wNdobAzZ",
        "outputId": "040bbd0f-5932-4c6c-a08d-817d4faa3870"
      },
      "execution_count": 12,
      "outputs": [
        {
          "output_type": "execute_result",
          "data": {
            "text/plain": [
              "   cluster        Age     Class  Flight Distance  Inflight wifi service  \\\n",
              "0        0  38.573465  1.223068       787.375668               2.498623   \n",
              "1        1  42.728297  2.733869      1635.560249               3.178025   \n",
              "2        2  36.283189  1.948928      1029.175970               2.391062   \n",
              "\n",
              "   Departure/Arrival time convenient  Ease of Online booking  Gate location  \\\n",
              "0                           3.657055                2.454722       2.921756   \n",
              "1                           2.940788                3.027857       2.994947   \n",
              "2                           2.594533                2.700933       2.991652   \n",
              "\n",
              "   Food and drink  Online boarding  ...  Baggage handling  Checkin service  \\\n",
              "0        3.083590         2.787948  ...          3.569415         3.336303   \n",
              "1        3.635009         4.158590  ...          4.004924         3.690205   \n",
              "2        2.774922         2.586348  ...          3.196759         2.779669   \n",
              "\n",
              "   Inflight service  Cleanliness  Departure Delay in Minutes  \\\n",
              "0          3.612182     3.135752                   14.261137   \n",
              "1          3.998575     3.865509                   12.669215   \n",
              "2          3.200524     2.694713                   16.459650   \n",
              "\n",
              "   Arrival Delay in Minutes  Gender_Male  Loyal Customer  Business Travel  \\\n",
              "0                 14.555484     0.489227        0.995788         0.000162   \n",
              "1                 12.795284     0.504924        0.926535         0.991060   \n",
              "2                 17.246685     0.474055        0.500737         0.999836   \n",
              "\n",
              "   satisfied  \n",
              "0   0.090718  \n",
              "1   0.995595  \n",
              "2   0.068260  \n",
              "\n",
              "[3 rows x 24 columns]"
            ],
            "text/html": [
              "\n",
              "  <div id=\"df-9791e9ae-4fbd-47ef-8e82-ebb9a2d08690\">\n",
              "    <div class=\"colab-df-container\">\n",
              "      <div>\n",
              "<style scoped>\n",
              "    .dataframe tbody tr th:only-of-type {\n",
              "        vertical-align: middle;\n",
              "    }\n",
              "\n",
              "    .dataframe tbody tr th {\n",
              "        vertical-align: top;\n",
              "    }\n",
              "\n",
              "    .dataframe thead th {\n",
              "        text-align: right;\n",
              "    }\n",
              "</style>\n",
              "<table border=\"1\" class=\"dataframe\">\n",
              "  <thead>\n",
              "    <tr style=\"text-align: right;\">\n",
              "      <th></th>\n",
              "      <th>cluster</th>\n",
              "      <th>Age</th>\n",
              "      <th>Class</th>\n",
              "      <th>Flight Distance</th>\n",
              "      <th>Inflight wifi service</th>\n",
              "      <th>Departure/Arrival time convenient</th>\n",
              "      <th>Ease of Online booking</th>\n",
              "      <th>Gate location</th>\n",
              "      <th>Food and drink</th>\n",
              "      <th>Online boarding</th>\n",
              "      <th>...</th>\n",
              "      <th>Baggage handling</th>\n",
              "      <th>Checkin service</th>\n",
              "      <th>Inflight service</th>\n",
              "      <th>Cleanliness</th>\n",
              "      <th>Departure Delay in Minutes</th>\n",
              "      <th>Arrival Delay in Minutes</th>\n",
              "      <th>Gender_Male</th>\n",
              "      <th>Loyal Customer</th>\n",
              "      <th>Business Travel</th>\n",
              "      <th>satisfied</th>\n",
              "    </tr>\n",
              "  </thead>\n",
              "  <tbody>\n",
              "    <tr>\n",
              "      <th>0</th>\n",
              "      <td>0</td>\n",
              "      <td>38.573465</td>\n",
              "      <td>1.223068</td>\n",
              "      <td>787.375668</td>\n",
              "      <td>2.498623</td>\n",
              "      <td>3.657055</td>\n",
              "      <td>2.454722</td>\n",
              "      <td>2.921756</td>\n",
              "      <td>3.083590</td>\n",
              "      <td>2.787948</td>\n",
              "      <td>...</td>\n",
              "      <td>3.569415</td>\n",
              "      <td>3.336303</td>\n",
              "      <td>3.612182</td>\n",
              "      <td>3.135752</td>\n",
              "      <td>14.261137</td>\n",
              "      <td>14.555484</td>\n",
              "      <td>0.489227</td>\n",
              "      <td>0.995788</td>\n",
              "      <td>0.000162</td>\n",
              "      <td>0.090718</td>\n",
              "    </tr>\n",
              "    <tr>\n",
              "      <th>1</th>\n",
              "      <td>1</td>\n",
              "      <td>42.728297</td>\n",
              "      <td>2.733869</td>\n",
              "      <td>1635.560249</td>\n",
              "      <td>3.178025</td>\n",
              "      <td>2.940788</td>\n",
              "      <td>3.027857</td>\n",
              "      <td>2.994947</td>\n",
              "      <td>3.635009</td>\n",
              "      <td>4.158590</td>\n",
              "      <td>...</td>\n",
              "      <td>4.004924</td>\n",
              "      <td>3.690205</td>\n",
              "      <td>3.998575</td>\n",
              "      <td>3.865509</td>\n",
              "      <td>12.669215</td>\n",
              "      <td>12.795284</td>\n",
              "      <td>0.504924</td>\n",
              "      <td>0.926535</td>\n",
              "      <td>0.991060</td>\n",
              "      <td>0.995595</td>\n",
              "    </tr>\n",
              "    <tr>\n",
              "      <th>2</th>\n",
              "      <td>2</td>\n",
              "      <td>36.283189</td>\n",
              "      <td>1.948928</td>\n",
              "      <td>1029.175970</td>\n",
              "      <td>2.391062</td>\n",
              "      <td>2.594533</td>\n",
              "      <td>2.700933</td>\n",
              "      <td>2.991652</td>\n",
              "      <td>2.774922</td>\n",
              "      <td>2.586348</td>\n",
              "      <td>...</td>\n",
              "      <td>3.196759</td>\n",
              "      <td>2.779669</td>\n",
              "      <td>3.200524</td>\n",
              "      <td>2.694713</td>\n",
              "      <td>16.459650</td>\n",
              "      <td>17.246685</td>\n",
              "      <td>0.474055</td>\n",
              "      <td>0.500737</td>\n",
              "      <td>0.999836</td>\n",
              "      <td>0.068260</td>\n",
              "    </tr>\n",
              "  </tbody>\n",
              "</table>\n",
              "<p>3 rows × 24 columns</p>\n",
              "</div>\n",
              "      <button class=\"colab-df-convert\" onclick=\"convertToInteractive('df-9791e9ae-4fbd-47ef-8e82-ebb9a2d08690')\"\n",
              "              title=\"Convert this dataframe to an interactive table.\"\n",
              "              style=\"display:none;\">\n",
              "        \n",
              "  <svg xmlns=\"http://www.w3.org/2000/svg\" height=\"24px\"viewBox=\"0 0 24 24\"\n",
              "       width=\"24px\">\n",
              "    <path d=\"M0 0h24v24H0V0z\" fill=\"none\"/>\n",
              "    <path d=\"M18.56 5.44l.94 2.06.94-2.06 2.06-.94-2.06-.94-.94-2.06-.94 2.06-2.06.94zm-11 1L8.5 8.5l.94-2.06 2.06-.94-2.06-.94L8.5 2.5l-.94 2.06-2.06.94zm10 10l.94 2.06.94-2.06 2.06-.94-2.06-.94-.94-2.06-.94 2.06-2.06.94z\"/><path d=\"M17.41 7.96l-1.37-1.37c-.4-.4-.92-.59-1.43-.59-.52 0-1.04.2-1.43.59L10.3 9.45l-7.72 7.72c-.78.78-.78 2.05 0 2.83L4 21.41c.39.39.9.59 1.41.59.51 0 1.02-.2 1.41-.59l7.78-7.78 2.81-2.81c.8-.78.8-2.07 0-2.86zM5.41 20L4 18.59l7.72-7.72 1.47 1.35L5.41 20z\"/>\n",
              "  </svg>\n",
              "      </button>\n",
              "      \n",
              "  <style>\n",
              "    .colab-df-container {\n",
              "      display:flex;\n",
              "      flex-wrap:wrap;\n",
              "      gap: 12px;\n",
              "    }\n",
              "\n",
              "    .colab-df-convert {\n",
              "      background-color: #E8F0FE;\n",
              "      border: none;\n",
              "      border-radius: 50%;\n",
              "      cursor: pointer;\n",
              "      display: none;\n",
              "      fill: #1967D2;\n",
              "      height: 32px;\n",
              "      padding: 0 0 0 0;\n",
              "      width: 32px;\n",
              "    }\n",
              "\n",
              "    .colab-df-convert:hover {\n",
              "      background-color: #E2EBFA;\n",
              "      box-shadow: 0px 1px 2px rgba(60, 64, 67, 0.3), 0px 1px 3px 1px rgba(60, 64, 67, 0.15);\n",
              "      fill: #174EA6;\n",
              "    }\n",
              "\n",
              "    [theme=dark] .colab-df-convert {\n",
              "      background-color: #3B4455;\n",
              "      fill: #D2E3FC;\n",
              "    }\n",
              "\n",
              "    [theme=dark] .colab-df-convert:hover {\n",
              "      background-color: #434B5C;\n",
              "      box-shadow: 0px 1px 3px 1px rgba(0, 0, 0, 0.15);\n",
              "      filter: drop-shadow(0px 1px 2px rgba(0, 0, 0, 0.3));\n",
              "      fill: #FFFFFF;\n",
              "    }\n",
              "  </style>\n",
              "\n",
              "      <script>\n",
              "        const buttonEl =\n",
              "          document.querySelector('#df-9791e9ae-4fbd-47ef-8e82-ebb9a2d08690 button.colab-df-convert');\n",
              "        buttonEl.style.display =\n",
              "          google.colab.kernel.accessAllowed ? 'block' : 'none';\n",
              "\n",
              "        async function convertToInteractive(key) {\n",
              "          const element = document.querySelector('#df-9791e9ae-4fbd-47ef-8e82-ebb9a2d08690');\n",
              "          const dataTable =\n",
              "            await google.colab.kernel.invokeFunction('convertToInteractive',\n",
              "                                                     [key], {});\n",
              "          if (!dataTable) return;\n",
              "\n",
              "          const docLinkHtml = 'Like what you see? Visit the ' +\n",
              "            '<a target=\"_blank\" href=https://colab.research.google.com/notebooks/data_table.ipynb>data table notebook</a>'\n",
              "            + ' to learn more about interactive tables.';\n",
              "          element.innerHTML = '';\n",
              "          dataTable['output_type'] = 'display_data';\n",
              "          await google.colab.output.renderOutput(dataTable, element);\n",
              "          const docLink = document.createElement('div');\n",
              "          docLink.innerHTML = docLinkHtml;\n",
              "          element.appendChild(docLink);\n",
              "        }\n",
              "      </script>\n",
              "    </div>\n",
              "  </div>\n",
              "  "
            ]
          },
          "metadata": {},
          "execution_count": 12
        }
      ]
    },
    {
      "cell_type": "code",
      "source": [
        "cluster_groups2 = pasajeros_vuelos.groupby('cluster', as_index=False).median()\n",
        "cluster_groups2"
      ],
      "metadata": {
        "colab": {
          "base_uri": "https://localhost:8080/",
          "height": 289
        },
        "id": "pMBWqCwGd7iN",
        "outputId": "ebf662de-059e-47ae-b4e2-e8f28a471048"
      },
      "execution_count": 13,
      "outputs": [
        {
          "output_type": "execute_result",
          "data": {
            "text/plain": [
              "   cluster   Age  Class  Flight Distance  Inflight wifi service  \\\n",
              "0        0  39.0    1.0            624.0                    3.0   \n",
              "1        1  44.0    3.0           1521.0                    3.0   \n",
              "2        2  35.0    2.0            696.0                    2.0   \n",
              "\n",
              "   Departure/Arrival time convenient  Ease of Online booking  Gate location  \\\n",
              "0                                4.0                     2.0            3.0   \n",
              "1                                3.0                     3.0            3.0   \n",
              "2                                3.0                     3.0            3.0   \n",
              "\n",
              "   Food and drink  Online boarding  ...  Baggage handling  Checkin service  \\\n",
              "0             3.0              3.0  ...               4.0              3.0   \n",
              "1             4.0              4.0  ...               4.0              4.0   \n",
              "2             3.0              3.0  ...               3.0              3.0   \n",
              "\n",
              "   Inflight service  Cleanliness  Departure Delay in Minutes  \\\n",
              "0               4.0          3.0                         0.0   \n",
              "1               4.0          4.0                         0.0   \n",
              "2               3.0          3.0                         0.0   \n",
              "\n",
              "   Arrival Delay in Minutes  Gender_Male  Loyal Customer  Business Travel  \\\n",
              "0                       0.0          0.0             1.0              0.0   \n",
              "1                       0.0          1.0             1.0              1.0   \n",
              "2                       0.0          0.0             1.0              1.0   \n",
              "\n",
              "   satisfied  \n",
              "0        0.0  \n",
              "1        1.0  \n",
              "2        0.0  \n",
              "\n",
              "[3 rows x 24 columns]"
            ],
            "text/html": [
              "\n",
              "  <div id=\"df-0352014b-5bc0-4add-a79a-9a892da73715\">\n",
              "    <div class=\"colab-df-container\">\n",
              "      <div>\n",
              "<style scoped>\n",
              "    .dataframe tbody tr th:only-of-type {\n",
              "        vertical-align: middle;\n",
              "    }\n",
              "\n",
              "    .dataframe tbody tr th {\n",
              "        vertical-align: top;\n",
              "    }\n",
              "\n",
              "    .dataframe thead th {\n",
              "        text-align: right;\n",
              "    }\n",
              "</style>\n",
              "<table border=\"1\" class=\"dataframe\">\n",
              "  <thead>\n",
              "    <tr style=\"text-align: right;\">\n",
              "      <th></th>\n",
              "      <th>cluster</th>\n",
              "      <th>Age</th>\n",
              "      <th>Class</th>\n",
              "      <th>Flight Distance</th>\n",
              "      <th>Inflight wifi service</th>\n",
              "      <th>Departure/Arrival time convenient</th>\n",
              "      <th>Ease of Online booking</th>\n",
              "      <th>Gate location</th>\n",
              "      <th>Food and drink</th>\n",
              "      <th>Online boarding</th>\n",
              "      <th>...</th>\n",
              "      <th>Baggage handling</th>\n",
              "      <th>Checkin service</th>\n",
              "      <th>Inflight service</th>\n",
              "      <th>Cleanliness</th>\n",
              "      <th>Departure Delay in Minutes</th>\n",
              "      <th>Arrival Delay in Minutes</th>\n",
              "      <th>Gender_Male</th>\n",
              "      <th>Loyal Customer</th>\n",
              "      <th>Business Travel</th>\n",
              "      <th>satisfied</th>\n",
              "    </tr>\n",
              "  </thead>\n",
              "  <tbody>\n",
              "    <tr>\n",
              "      <th>0</th>\n",
              "      <td>0</td>\n",
              "      <td>39.0</td>\n",
              "      <td>1.0</td>\n",
              "      <td>624.0</td>\n",
              "      <td>3.0</td>\n",
              "      <td>4.0</td>\n",
              "      <td>2.0</td>\n",
              "      <td>3.0</td>\n",
              "      <td>3.0</td>\n",
              "      <td>3.0</td>\n",
              "      <td>...</td>\n",
              "      <td>4.0</td>\n",
              "      <td>3.0</td>\n",
              "      <td>4.0</td>\n",
              "      <td>3.0</td>\n",
              "      <td>0.0</td>\n",
              "      <td>0.0</td>\n",
              "      <td>0.0</td>\n",
              "      <td>1.0</td>\n",
              "      <td>0.0</td>\n",
              "      <td>0.0</td>\n",
              "    </tr>\n",
              "    <tr>\n",
              "      <th>1</th>\n",
              "      <td>1</td>\n",
              "      <td>44.0</td>\n",
              "      <td>3.0</td>\n",
              "      <td>1521.0</td>\n",
              "      <td>3.0</td>\n",
              "      <td>3.0</td>\n",
              "      <td>3.0</td>\n",
              "      <td>3.0</td>\n",
              "      <td>4.0</td>\n",
              "      <td>4.0</td>\n",
              "      <td>...</td>\n",
              "      <td>4.0</td>\n",
              "      <td>4.0</td>\n",
              "      <td>4.0</td>\n",
              "      <td>4.0</td>\n",
              "      <td>0.0</td>\n",
              "      <td>0.0</td>\n",
              "      <td>1.0</td>\n",
              "      <td>1.0</td>\n",
              "      <td>1.0</td>\n",
              "      <td>1.0</td>\n",
              "    </tr>\n",
              "    <tr>\n",
              "      <th>2</th>\n",
              "      <td>2</td>\n",
              "      <td>35.0</td>\n",
              "      <td>2.0</td>\n",
              "      <td>696.0</td>\n",
              "      <td>2.0</td>\n",
              "      <td>3.0</td>\n",
              "      <td>3.0</td>\n",
              "      <td>3.0</td>\n",
              "      <td>3.0</td>\n",
              "      <td>3.0</td>\n",
              "      <td>...</td>\n",
              "      <td>3.0</td>\n",
              "      <td>3.0</td>\n",
              "      <td>3.0</td>\n",
              "      <td>3.0</td>\n",
              "      <td>0.0</td>\n",
              "      <td>0.0</td>\n",
              "      <td>0.0</td>\n",
              "      <td>1.0</td>\n",
              "      <td>1.0</td>\n",
              "      <td>0.0</td>\n",
              "    </tr>\n",
              "  </tbody>\n",
              "</table>\n",
              "<p>3 rows × 24 columns</p>\n",
              "</div>\n",
              "      <button class=\"colab-df-convert\" onclick=\"convertToInteractive('df-0352014b-5bc0-4add-a79a-9a892da73715')\"\n",
              "              title=\"Convert this dataframe to an interactive table.\"\n",
              "              style=\"display:none;\">\n",
              "        \n",
              "  <svg xmlns=\"http://www.w3.org/2000/svg\" height=\"24px\"viewBox=\"0 0 24 24\"\n",
              "       width=\"24px\">\n",
              "    <path d=\"M0 0h24v24H0V0z\" fill=\"none\"/>\n",
              "    <path d=\"M18.56 5.44l.94 2.06.94-2.06 2.06-.94-2.06-.94-.94-2.06-.94 2.06-2.06.94zm-11 1L8.5 8.5l.94-2.06 2.06-.94-2.06-.94L8.5 2.5l-.94 2.06-2.06.94zm10 10l.94 2.06.94-2.06 2.06-.94-2.06-.94-.94-2.06-.94 2.06-2.06.94z\"/><path d=\"M17.41 7.96l-1.37-1.37c-.4-.4-.92-.59-1.43-.59-.52 0-1.04.2-1.43.59L10.3 9.45l-7.72 7.72c-.78.78-.78 2.05 0 2.83L4 21.41c.39.39.9.59 1.41.59.51 0 1.02-.2 1.41-.59l7.78-7.78 2.81-2.81c.8-.78.8-2.07 0-2.86zM5.41 20L4 18.59l7.72-7.72 1.47 1.35L5.41 20z\"/>\n",
              "  </svg>\n",
              "      </button>\n",
              "      \n",
              "  <style>\n",
              "    .colab-df-container {\n",
              "      display:flex;\n",
              "      flex-wrap:wrap;\n",
              "      gap: 12px;\n",
              "    }\n",
              "\n",
              "    .colab-df-convert {\n",
              "      background-color: #E8F0FE;\n",
              "      border: none;\n",
              "      border-radius: 50%;\n",
              "      cursor: pointer;\n",
              "      display: none;\n",
              "      fill: #1967D2;\n",
              "      height: 32px;\n",
              "      padding: 0 0 0 0;\n",
              "      width: 32px;\n",
              "    }\n",
              "\n",
              "    .colab-df-convert:hover {\n",
              "      background-color: #E2EBFA;\n",
              "      box-shadow: 0px 1px 2px rgba(60, 64, 67, 0.3), 0px 1px 3px 1px rgba(60, 64, 67, 0.15);\n",
              "      fill: #174EA6;\n",
              "    }\n",
              "\n",
              "    [theme=dark] .colab-df-convert {\n",
              "      background-color: #3B4455;\n",
              "      fill: #D2E3FC;\n",
              "    }\n",
              "\n",
              "    [theme=dark] .colab-df-convert:hover {\n",
              "      background-color: #434B5C;\n",
              "      box-shadow: 0px 1px 3px 1px rgba(0, 0, 0, 0.15);\n",
              "      filter: drop-shadow(0px 1px 2px rgba(0, 0, 0, 0.3));\n",
              "      fill: #FFFFFF;\n",
              "    }\n",
              "  </style>\n",
              "\n",
              "      <script>\n",
              "        const buttonEl =\n",
              "          document.querySelector('#df-0352014b-5bc0-4add-a79a-9a892da73715 button.colab-df-convert');\n",
              "        buttonEl.style.display =\n",
              "          google.colab.kernel.accessAllowed ? 'block' : 'none';\n",
              "\n",
              "        async function convertToInteractive(key) {\n",
              "          const element = document.querySelector('#df-0352014b-5bc0-4add-a79a-9a892da73715');\n",
              "          const dataTable =\n",
              "            await google.colab.kernel.invokeFunction('convertToInteractive',\n",
              "                                                     [key], {});\n",
              "          if (!dataTable) return;\n",
              "\n",
              "          const docLinkHtml = 'Like what you see? Visit the ' +\n",
              "            '<a target=\"_blank\" href=https://colab.research.google.com/notebooks/data_table.ipynb>data table notebook</a>'\n",
              "            + ' to learn more about interactive tables.';\n",
              "          element.innerHTML = '';\n",
              "          dataTable['output_type'] = 'display_data';\n",
              "          await google.colab.output.renderOutput(dataTable, element);\n",
              "          const docLink = document.createElement('div');\n",
              "          docLink.innerHTML = docLinkHtml;\n",
              "          element.appendChild(docLink);\n",
              "        }\n",
              "      </script>\n",
              "    </div>\n",
              "  </div>\n",
              "  "
            ]
          },
          "metadata": {},
          "execution_count": 13
        }
      ]
    },
    {
      "cell_type": "markdown",
      "source": [
        "**Visualizar los clústeres**"
      ],
      "metadata": {
        "id": "qmSmAL2KbjvJ"
      }
    },
    {
      "cell_type": "code",
      "source": [
        "# Visualizaciones de los grupos\n",
        "fig, axes = plt.subplots(8,6, figsize = (30, 30))\n",
        "axes = axes.ravel()\n",
        "lista_i = []\n",
        "for i, col in enumerate(cluster_groups.columns[1:]):\n",
        "  axes[len(lista_i)].bar(cluster_groups['cluster'], cluster_groups[col])\n",
        "  axes[len(lista_i)].set_title(f'Mean {col}')\n",
        "  axes[len(lista_i)].set_xticks([0,1,2])\n",
        "  axes[len(lista_i)+1].bar(cluster_groups2['cluster'], cluster_groups2[col] , color='black')\n",
        "  axes[len(lista_i)+1].set_title(f'Median {col}')\n",
        "  axes[len(lista_i)+1].set_xticks([0,1,2])\n",
        "  lista_i.append(len(lista_i))\n",
        "  lista_i.append(len(lista_i)+1)"
      ],
      "metadata": {
        "colab": {
          "base_uri": "https://localhost:8080/",
          "height": 1000
        },
        "id": "MssCqfzkbjFI",
        "outputId": "56088f8d-8d4d-4eb8-f62e-756466ea4eb9"
      },
      "execution_count": 14,
      "outputs": [
        {
          "output_type": "display_data",
          "data": {
            "text/plain": [
              "<Figure size 2160x2160 with 48 Axes>"
            ],
            "image/png": "[encoded data removed]"
          },
          "metadata": {
            "needs_background": "light"
          }
        }
      ]
    },
    {
      "cell_type": "code",
      "source": [
        "# Save the cluster labels to the dataframe\n",
        "pasajeros_vuelos['cluster'] = kmeans.labels_\n",
        "# Visualize the clusters\n",
        "plt.scatter(pasajeros_vuelos['Departure Delay in Minutes'], pasajeros_vuelos['Arrival Delay in Minutes'], c = pasajeros_vuelos['cluster'])\n",
        "plt.xlabel('Departure Delay in Minutes')\n",
        "#plt.xticks(pasajeros_vuelos['Departure Delay in Minutes'].unique())\n",
        "plt.ylabel('Arrival Delay in Minutes')\n",
        "#plt.yticks(pasajeros_vuelos['Arrival Delay in Minutes'].unique())\n",
        "plt.title('Clusters');"
      ],
      "metadata": {
        "colab": {
          "base_uri": "https://localhost:8080/",
          "height": 295
        },
        "id": "g1aEKODfclbe",
        "outputId": "d736f2a6-a665-41f8-cbe3-a58d7ab3d74b"
      },
      "execution_count": 15,
      "outputs": [
        {
          "output_type": "display_data",
          "data": {
            "text/plain": [
              "<Figure size 432x288 with 1 Axes>"
            ],
            "image/png": "[encoded data removed]"
          },
          "metadata": {
            "needs_background": "light"
          }
        }
      ]
    },
    {
      "cell_type": "markdown",
      "source": [
        "**Interpretación de los clústers**"
      ],
      "metadata": {
        "id": "FZWa-X3Ui2zG"
      }
    },
    {
      "cell_type": "markdown",
      "source": [
        "**Clúster 0:**\n",
        "\n",
        "La mayoría de las personas se encuentra cerca de los 40 años, la mayoría viaja en clase 1.0, su distancia media de vuelo es la menor, su calificación para el servicio del wifi a bordo es en su mayoría cercana a 3.0, la puntuación respecto a la hora de llegada y de salida es la más alta, casi siempre es 4.0 su calificación, es el grupo de personas que más baja calificación da a la facilidad de poder reservar en línea, la puntuación frecuente es de 2.0. En relación a la sala de espera no se observa una diferencia importante con los demás clústeres, su calificación para la comida y bebida presentan la segunda mejor calificación promedio, aunque en general, casi siempre tienen la misma calificación que el clúster 2, el embarque en línea presenta el segundo mejor desempeño, pero algunas personas tienen una experiencia poco favorable,  respecto los asientos este grupo es el segundo en mejor puntuación, en general los pasajeros se sienten cómodos con sus asientos, el entretenimiento durante el vuelo, tiene la segunda mejor puntuación, aunque lejos del clúster 1, el servicio a bordo está bien calificado, es el segundo mejor, igualmente ocurre con el servicio de equipaje de mano, en esta caso muy cercano al servicio del clúster 1, el servicio del checkin es de calidad, respecto al mejor puntuado, algunos pasajeros lo consideran muy bueno. La limpieza es un factor bien calificado, superando al clúster 2, la salida tarda menos de 15 minutos, muy cercana al mejor servicio. Este cliente es el cliente más leal, es muy probable que no viajen por negocios, y la mayoría se encuentra insatisfecho, lo cual comparten con el clúster 2, viajan en su mayoría cliente del género 0. Es un cliente leal, que se siente en general cómodo en el vuelo, el servicio podría ser mejor y puede tener oportunidades de mejora en la facilidad para adquirir el vuelo y el proceso de registro y embarque, podría tener algún tipo de beneficio por ser cliente leal.\n",
        "\n",
        "**Clúster 1:**\n",
        "\n",
        "La mayoría de las personas se encuentra superando los 40 años, es el clúster de mayor edad promedio, la mayoría viaja en clase3.0, su distancia media de vuelo es la mayor, su calificación para el servicio del wifi a bordo es en su mayoría supera a 3.0, la puntuación respecto a la hora de llegada y de salida es la más baja junto con el clúster 2, casi siempre es 3.0 su calificación, es el grupo de personas que más alta calificación da a la facilidad de poder reservar en línea, la puntuación frecuente es de 3.0. En relación a la sala de espera no se observa una diferencia importante con los demás clústeres, su calificación para la comida y bebida presentan la mejor calificación promedio, casi siempre tienen la calificación de 4.0, el embarque en línea presenta el mejor desempeño, casi siempre las personas tienen una experiencia favorable,  respecto los asientos este grupo es el de mejor puntuación, en general los pasajeros se sienten  muy cómodos con sus asientos, el entretenimiento durante el vuelo, tiene la mejor puntuación, siendo este grupo el que cuenta con el mejor entretenimiento, el servicio a bordo está bien calificado, es el mejor, igualmente ocurre con el servicio de equipaje de mano , el servicio del checkin es el mejor. La limpieza es un factor bien calificado, la salida/llegada tarda menos de 12.5 minutos, presenta el mejor servicio a bordo. Este cliente es por lo general leal, y la mayoría se encuentra satisfecho y sus viajes son por negocios. Estos clientes deben ser de primera clase, pues en general sus servicios son los mejores, es probable que se busquen medios de fidelización. \n",
        "\n",
        "**Clúster 2:**\n",
        "\n",
        "La mayoría de las personas se encuentra cercano a los 35 años, la mayoría viaja en clase 2.0, su distancia media de vuelo es la segunda, pero cercana a la más baja, su calificación para el servicio del wifi a bordo es en su mayoría cercana a 2.0, la puntuación respecto a la hora de llegada y de salida es la más baja, casi siempre es 3.0 su calificación, es el grupo de personas que con segunda calificación más alta para el aspecto relacionado con la facilidad de poder reservar en línea, la puntuación frecuente es de 3.0. En relación a la sala de espera no se observa una diferencia importante con los demás clústeres, su calificación para la comida y bebida presentan la peor calificación promedio, el embarque en línea presenta el peor mejor desempeño, solo un poco peor que el clúster 0,  respecto los asientos este grupo con la peor puntuación, en general los pasajeros no se sienten cómodos con sus asientos, el entretenimiento durante el vuelo, tiene la peor puntuación, el servicio a bordo está mal calificado, es el peor, igualmente ocurre con el servicio de equipaje de mano, el servicio del checkin es de calidad, respecto al mejor puntuado. La limpieza es un factor bien calificado, pero en ocasiones podría ser deficiente, la salida tarda más de 15 minutos y la llegada más de 17 min. Este cliente es el cliente menos leal, es muy probable que viajen por negocios, y la mayoría se encuentra insatisfecho, lo cual comparten con el clúster 0, viajan en su mayoría cliente del género 0. Es un cliente poco leal, que se siente en general incómodo en el vuelo, el servicio podría ser mejor y puede tener oportunidades de mejora en la facilidad para adquirir el vuelo y el proceso de registro y embarque, si sus condiciones mejorar podría considerar usar de manera más frecuente la aerolínea.\n"
      ],
      "metadata": {
        "id": "mX4GqLK3i7wX"
      }
    },
    {
      "cell_type": "markdown",
      "source": [
        "#**APRENDIZAJE PROFUNDO**"
      ],
      "metadata": {
        "id": "GDC6cP0sdYsN"
      }
    },
    {
      "cell_type": "code",
      "source": [
        "pasajeros_vuelos['satisfied'].value_counts()\n",
        "#Es un problema de clasificación binaria"
      ],
      "metadata": {
        "colab": {
          "base_uri": "https://localhost:8080/"
        },
        "id": "H0z0pY-ydc9T",
        "outputId": "014f1235-17be-46a3-92a9-be752b8fa39e"
      },
      "execution_count": 16,
      "outputs": [
        {
          "output_type": "execute_result",
          "data": {
            "text/plain": [
              "0    11339\n",
              "1     8661\n",
              "Name: satisfied, dtype: int64"
            ]
          },
          "metadata": {},
          "execution_count": 16
        }
      ]
    },
    {
      "cell_type": "markdown",
      "source": [
        "###**1) Importar librerías necesarias para PCA**"
      ],
      "metadata": {
        "id": "0A4FYY32u2j5"
      }
    },
    {
      "cell_type": "code",
      "source": [
        "from sklearn.preprocessing import StandardScaler, MinMaxScaler\n",
        "from sklearn.model_selection import train_test_split\n",
        "from sklearn.pipeline import  make_pipeline\n",
        "from sklearn.decomposition import PCA"
      ],
      "metadata": {
        "id": "2u6JaWZnu6t_"
      },
      "execution_count": 17,
      "outputs": []
    },
    {
      "cell_type": "markdown",
      "source": [
        "###**2) Dividir los datos**"
      ],
      "metadata": {
        "id": "oyPwsseTwmqv"
      }
    },
    {
      "cell_type": "code",
      "source": [
        "X = pasajeros_vuelos.drop(columns='satisfied')\n",
        "y= pasajeros_vuelos['satisfied']\n",
        "X_train,X_test, y_train, y_test = train_test_split(X,y,random_state=42, stratify=y) #Se trata de balancear el conjunto de pruebas y de entrenamiento para tener la misma proporción\n",
        "#de ambos valores dentro del target"
      ],
      "metadata": {
        "id": "G3D6IMi1wn0E"
      },
      "execution_count": 18,
      "outputs": []
    },
    {
      "cell_type": "code",
      "source": [
        "# Instanciar Escalador MinMax, dado que no hay valores negativos y la salida está en rango de 0 y 1\n",
        "scaler = MinMaxScaler()\n",
        "# Ajustar y transformar datos de entrenamiento\n",
        "X_train = scaler.fit_transform(X_train)\n",
        "#Tranformar los datos de prueba\n",
        "X_test = scaler.transform(X_test)"
      ],
      "metadata": {
        "id": "Ct28d3bww5iv"
      },
      "execution_count": 19,
      "outputs": []
    },
    {
      "cell_type": "markdown",
      "source": [
        "###**3) Aplicar PCA**"
      ],
      "metadata": {
        "id": "64uRXMwHw9fG"
      }
    },
    {
      "cell_type": "code",
      "source": [
        "pca = PCA(n_components=0.95) #El PCA se elige por la variabilidad que se pretender explicar con las columnas que queden\n",
        "#Ajustar y transformar la matriz de características de entrnamiento y crear una nueva variable.\n",
        "X_train_pca = pca.fit_transform(X_train)\n",
        "#Transformar los datos de prueba y crear una nuva variable\n",
        "X_test_pca = pca.transform(X_test)\n",
        "\n",
        "#Las nuevas variables de X_train y X_test serán las que entren en los modelos de aprendizaje profundo."
      ],
      "metadata": {
        "id": "kmsp4fmEw-jf"
      },
      "execution_count": 20,
      "outputs": []
    },
    {
      "cell_type": "markdown",
      "source": [
        "**Validación del número de columnas antes y después**"
      ],
      "metadata": {
        "id": "6Gu4l768x1R2"
      }
    },
    {
      "cell_type": "code",
      "source": [
        "print(f'Número de columnas X entrenamiento sin PCA: {X_train.shape[1]}')\n",
        "print(f'Número de columnas X entrenamiento CON PCA: {X_train_pca.shape[1]}')\n",
        "#Se observa que la cantidad de columnas necesarias para alcanzar una variabilidad del 97% es un total de 16"
      ],
      "metadata": {
        "colab": {
          "base_uri": "https://localhost:8080/"
        },
        "id": "CQpbOK5Ex1zz",
        "outputId": "af8a6937-f585-496b-cb7e-64631d273373"
      },
      "execution_count": 21,
      "outputs": [
        {
          "output_type": "stream",
          "name": "stdout",
          "text": [
            "Número de columnas X entrenamiento sin PCA: 23\n",
            "Número de columnas X entrenamiento CON PCA: 16\n"
          ]
        }
      ]
    },
    {
      "cell_type": "markdown",
      "source": [
        "###**4) Crear modelo de clasificación binaria de aprendizaje profundo para predecir**"
      ],
      "metadata": {
        "id": "lvOd99PLyDRz"
      }
    },
    {
      "cell_type": "markdown",
      "source": [
        "**Importar las librerías necesarias para el modelo de deep learning**"
      ],
      "metadata": {
        "id": "Eey42qeVyE8E"
      }
    },
    {
      "cell_type": "code",
      "source": [
        "from tensorflow.keras.models import Sequential\n",
        "from tensorflow.keras.layers import Dense, Dropout\n",
        "from tensorflow.keras.callbacks import EarlyStopping"
      ],
      "metadata": {
        "id": "mWajE9hUyEXF"
      },
      "execution_count": 22,
      "outputs": []
    },
    {
      "cell_type": "code",
      "source": [
        "#Revisar la cantidad de columnas dado que es un parámetro de entrada para los modelos secuenciales de las redes neuronales\n",
        "input_shape = X_train_pca.shape[1]\n",
        "input_shape"
      ],
      "metadata": {
        "colab": {
          "base_uri": "https://localhost:8080/"
        },
        "id": "2kllN-HLyNqv",
        "outputId": "7778fc92-2fe1-4c78-febd-fc551811b566"
      },
      "execution_count": 23,
      "outputs": [
        {
          "output_type": "execute_result",
          "data": {
            "text/plain": [
              "16"
            ]
          },
          "metadata": {},
          "execution_count": 23
        }
      ]
    },
    {
      "cell_type": "markdown",
      "source": [
        "####**MODELO 1**"
      ],
      "metadata": {
        "id": "1YjyVGR6ydYq"
      }
    },
    {
      "cell_type": "code",
      "source": [
        "model = Sequential()\n",
        "# Primera capa oculta\n",
        "model.add(Dense(32, \n",
        "                input_dim = input_shape,\n",
        "                activation = 'relu'))\n",
        "model.add(Dense(16, \n",
        "                activation = 'relu'))\n",
        "model.add(Dense(1, activation = 'sigmoid'))\n",
        "model.compile(loss = 'bce', optimizer = 'adam', metrics=['accuracy','AUC','Precision','Recall'])\n",
        "proceso = model.fit(X_train_pca, y_train,\n",
        "                    validation_data = (X_test_pca, y_test), \n",
        "                    epochs=100)"
      ],
      "metadata": {
        "colab": {
          "base_uri": "https://localhost:8080/"
        },
        "id": "iNvX4bCzyd55",
        "outputId": "2a37c962-d0ca-41db-b1f9-e7536e43378f"
      },
      "execution_count": 32,
      "outputs": [
        {
          "output_type": "stream",
          "name": "stdout",
          "text": [
            "Epoch 1/100\n",
            "469/469 [==============================] - 4s 6ms/step - loss: 0.3861 - accuracy: 0.8483 - auc: 0.9127 - precision: 0.8860 - recall: 0.7455 - val_loss: 0.2616 - val_accuracy: 0.9142 - val_auc: 0.9456 - val_precision: 0.9470 - val_recall: 0.8494\n",
            "Epoch 2/100\n",
            "469/469 [==============================] - 3s 5ms/step - loss: 0.2042 - accuracy: 0.9362 - auc: 0.9636 - precision: 0.9635 - recall: 0.8862 - val_loss: 0.1647 - val_accuracy: 0.9520 - val_auc: 0.9788 - val_precision: 0.9854 - val_recall: 0.9025\n",
            "Epoch 3/100\n",
            "469/469 [==============================] - 2s 5ms/step - loss: 0.1379 - accuracy: 0.9578 - auc: 0.9841 - precision: 0.9846 - recall: 0.9169 - val_loss: 0.1260 - val_accuracy: 0.9626 - val_auc: 0.9857 - val_precision: 0.9867 - val_recall: 0.9261\n",
            "Epoch 4/100\n",
            "469/469 [==============================] - 2s 5ms/step - loss: 0.1159 - accuracy: 0.9631 - auc: 0.9885 - precision: 0.9853 - recall: 0.9286 - val_loss: 0.1167 - val_accuracy: 0.9644 - val_auc: 0.9873 - val_precision: 0.9863 - val_recall: 0.9307\n",
            "Epoch 5/100\n",
            "469/469 [==============================] - 2s 5ms/step - loss: 0.1084 - accuracy: 0.9636 - auc: 0.9895 - precision: 0.9822 - recall: 0.9329 - val_loss: 0.1201 - val_accuracy: 0.9600 - val_auc: 0.9884 - val_precision: 0.9598 - val_recall: 0.9473\n",
            "Epoch 6/100\n",
            "469/469 [==============================] - 2s 5ms/step - loss: 0.1044 - accuracy: 0.9653 - auc: 0.9903 - precision: 0.9836 - recall: 0.9353 - val_loss: 0.1103 - val_accuracy: 0.9676 - val_auc: 0.9888 - val_precision: 0.9864 - val_recall: 0.9381\n",
            "Epoch 7/100\n",
            "469/469 [==============================] - 2s 5ms/step - loss: 0.1006 - accuracy: 0.9657 - auc: 0.9912 - precision: 0.9829 - recall: 0.9370 - val_loss: 0.1067 - val_accuracy: 0.9666 - val_auc: 0.9899 - val_precision: 0.9864 - val_recall: 0.9358\n",
            "Epoch 8/100\n",
            "469/469 [==============================] - 2s 5ms/step - loss: 0.0983 - accuracy: 0.9669 - auc: 0.9916 - precision: 0.9823 - recall: 0.9404 - val_loss: 0.1055 - val_accuracy: 0.9680 - val_auc: 0.9897 - val_precision: 0.9845 - val_recall: 0.9409\n",
            "Epoch 9/100\n",
            "469/469 [==============================] - 2s 5ms/step - loss: 0.0964 - accuracy: 0.9671 - auc: 0.9919 - precision: 0.9833 - recall: 0.9401 - val_loss: 0.1038 - val_accuracy: 0.9686 - val_auc: 0.9903 - val_precision: 0.9855 - val_recall: 0.9413\n",
            "Epoch 10/100\n",
            "469/469 [==============================] - 2s 5ms/step - loss: 0.0950 - accuracy: 0.9676 - auc: 0.9921 - precision: 0.9827 - recall: 0.9418 - val_loss: 0.1019 - val_accuracy: 0.9676 - val_auc: 0.9908 - val_precision: 0.9813 - val_recall: 0.9432\n",
            "Epoch 11/100\n",
            "469/469 [==============================] - 2s 5ms/step - loss: 0.0931 - accuracy: 0.9696 - auc: 0.9921 - precision: 0.9834 - recall: 0.9458 - val_loss: 0.1005 - val_accuracy: 0.9686 - val_auc: 0.9908 - val_precision: 0.9846 - val_recall: 0.9423\n",
            "Epoch 12/100\n",
            "469/469 [==============================] - 2s 5ms/step - loss: 0.0920 - accuracy: 0.9685 - auc: 0.9929 - precision: 0.9824 - recall: 0.9443 - val_loss: 0.1033 - val_accuracy: 0.9682 - val_auc: 0.9910 - val_precision: 0.9859 - val_recall: 0.9400\n",
            "Epoch 13/100\n",
            "469/469 [==============================] - 2s 5ms/step - loss: 0.0917 - accuracy: 0.9688 - auc: 0.9928 - precision: 0.9813 - recall: 0.9460 - val_loss: 0.1025 - val_accuracy: 0.9672 - val_auc: 0.9910 - val_precision: 0.9850 - val_recall: 0.9386\n",
            "Epoch 14/100\n",
            "469/469 [==============================] - 2s 5ms/step - loss: 0.0899 - accuracy: 0.9690 - auc: 0.9931 - precision: 0.9824 - recall: 0.9454 - val_loss: 0.1016 - val_accuracy: 0.9666 - val_auc: 0.9911 - val_precision: 0.9744 - val_recall: 0.9478\n",
            "Epoch 15/100\n",
            "469/469 [==============================] - 2s 5ms/step - loss: 0.0895 - accuracy: 0.9693 - auc: 0.9930 - precision: 0.9807 - recall: 0.9478 - val_loss: 0.0976 - val_accuracy: 0.9686 - val_auc: 0.9912 - val_precision: 0.9776 - val_recall: 0.9492\n",
            "Epoch 16/100\n",
            "469/469 [==============================] - 2s 5ms/step - loss: 0.0876 - accuracy: 0.9698 - auc: 0.9936 - precision: 0.9832 - recall: 0.9464 - val_loss: 0.1018 - val_accuracy: 0.9662 - val_auc: 0.9905 - val_precision: 0.9739 - val_recall: 0.9473\n",
            "Epoch 17/100\n",
            "469/469 [==============================] - 2s 5ms/step - loss: 0.0876 - accuracy: 0.9698 - auc: 0.9936 - precision: 0.9809 - recall: 0.9487 - val_loss: 0.0974 - val_accuracy: 0.9666 - val_auc: 0.9917 - val_precision: 0.9762 - val_recall: 0.9460\n",
            "Epoch 18/100\n",
            "469/469 [==============================] - 2s 5ms/step - loss: 0.0856 - accuracy: 0.9707 - auc: 0.9938 - precision: 0.9834 - recall: 0.9483 - val_loss: 0.1026 - val_accuracy: 0.9656 - val_auc: 0.9909 - val_precision: 0.9789 - val_recall: 0.9409\n",
            "Epoch 19/100\n",
            "469/469 [==============================] - 2s 5ms/step - loss: 0.0857 - accuracy: 0.9696 - auc: 0.9940 - precision: 0.9801 - recall: 0.9490 - val_loss: 0.0981 - val_accuracy: 0.9668 - val_auc: 0.9912 - val_precision: 0.9817 - val_recall: 0.9409\n",
            "Epoch 20/100\n",
            "469/469 [==============================] - 3s 5ms/step - loss: 0.0836 - accuracy: 0.9703 - auc: 0.9942 - precision: 0.9815 - recall: 0.9494 - val_loss: 0.0982 - val_accuracy: 0.9684 - val_auc: 0.9909 - val_precision: 0.9827 - val_recall: 0.9436\n",
            "Epoch 21/100\n",
            "469/469 [==============================] - 2s 5ms/step - loss: 0.0829 - accuracy: 0.9704 - auc: 0.9943 - precision: 0.9814 - recall: 0.9497 - val_loss: 0.0989 - val_accuracy: 0.9682 - val_auc: 0.9912 - val_precision: 0.9850 - val_recall: 0.9409\n",
            "Epoch 22/100\n",
            "469/469 [==============================] - 3s 5ms/step - loss: 0.0830 - accuracy: 0.9713 - auc: 0.9944 - precision: 0.9819 - recall: 0.9514 - val_loss: 0.0951 - val_accuracy: 0.9654 - val_auc: 0.9916 - val_precision: 0.9725 - val_recall: 0.9469\n",
            "Epoch 23/100\n",
            "469/469 [==============================] - 2s 5ms/step - loss: 0.0815 - accuracy: 0.9711 - auc: 0.9946 - precision: 0.9825 - recall: 0.9503 - val_loss: 0.0958 - val_accuracy: 0.9676 - val_auc: 0.9916 - val_precision: 0.9790 - val_recall: 0.9455\n",
            "Epoch 24/100\n",
            "469/469 [==============================] - 2s 5ms/step - loss: 0.0818 - accuracy: 0.9705 - auc: 0.9944 - precision: 0.9806 - recall: 0.9507 - val_loss: 0.0980 - val_accuracy: 0.9656 - val_auc: 0.9915 - val_precision: 0.9707 - val_recall: 0.9492\n",
            "Epoch 25/100\n",
            "469/469 [==============================] - 2s 5ms/step - loss: 0.0808 - accuracy: 0.9708 - auc: 0.9946 - precision: 0.9805 - recall: 0.9515 - val_loss: 0.0960 - val_accuracy: 0.9670 - val_auc: 0.9917 - val_precision: 0.9766 - val_recall: 0.9464\n",
            "Epoch 26/100\n",
            "469/469 [==============================] - 3s 6ms/step - loss: 0.0810 - accuracy: 0.9712 - auc: 0.9947 - precision: 0.9817 - recall: 0.9512 - val_loss: 0.0962 - val_accuracy: 0.9682 - val_auc: 0.9914 - val_precision: 0.9772 - val_recall: 0.9487\n",
            "Epoch 27/100\n",
            "469/469 [==============================] - 2s 5ms/step - loss: 0.0803 - accuracy: 0.9709 - auc: 0.9947 - precision: 0.9813 - recall: 0.9509 - val_loss: 0.0973 - val_accuracy: 0.9686 - val_auc: 0.9919 - val_precision: 0.9874 - val_recall: 0.9395\n",
            "Epoch 28/100\n",
            "469/469 [==============================] - 2s 5ms/step - loss: 0.0802 - accuracy: 0.9712 - auc: 0.9947 - precision: 0.9823 - recall: 0.9506 - val_loss: 0.0944 - val_accuracy: 0.9632 - val_auc: 0.9921 - val_precision: 0.9652 - val_recall: 0.9492\n",
            "Epoch 29/100\n",
            "469/469 [==============================] - 3s 6ms/step - loss: 0.0787 - accuracy: 0.9721 - auc: 0.9949 - precision: 0.9828 - recall: 0.9523 - val_loss: 0.0949 - val_accuracy: 0.9642 - val_auc: 0.9922 - val_precision: 0.9640 - val_recall: 0.9529\n",
            "Epoch 30/100\n",
            "469/469 [==============================] - 2s 5ms/step - loss: 0.0788 - accuracy: 0.9709 - auc: 0.9950 - precision: 0.9809 - recall: 0.9512 - val_loss: 0.0927 - val_accuracy: 0.9674 - val_auc: 0.9927 - val_precision: 0.9794 - val_recall: 0.9446\n",
            "Epoch 31/100\n",
            "469/469 [==============================] - 2s 5ms/step - loss: 0.0782 - accuracy: 0.9720 - auc: 0.9951 - precision: 0.9819 - recall: 0.9529 - val_loss: 0.0954 - val_accuracy: 0.9656 - val_auc: 0.9918 - val_precision: 0.9703 - val_recall: 0.9497\n",
            "Epoch 32/100\n",
            "469/469 [==============================] - 2s 5ms/step - loss: 0.0784 - accuracy: 0.9719 - auc: 0.9951 - precision: 0.9824 - recall: 0.9523 - val_loss: 0.0983 - val_accuracy: 0.9632 - val_auc: 0.9919 - val_precision: 0.9631 - val_recall: 0.9515\n",
            "Epoch 33/100\n",
            "469/469 [==============================] - 3s 6ms/step - loss: 0.0772 - accuracy: 0.9717 - auc: 0.9953 - precision: 0.9810 - recall: 0.9530 - val_loss: 0.0970 - val_accuracy: 0.9692 - val_auc: 0.9924 - val_precision: 0.9888 - val_recall: 0.9395\n",
            "Epoch 34/100\n",
            "469/469 [==============================] - 2s 5ms/step - loss: 0.0775 - accuracy: 0.9721 - auc: 0.9951 - precision: 0.9822 - recall: 0.9527 - val_loss: 0.0954 - val_accuracy: 0.9648 - val_auc: 0.9922 - val_precision: 0.9676 - val_recall: 0.9506\n",
            "Epoch 35/100\n",
            "469/469 [==============================] - 2s 5ms/step - loss: 0.0775 - accuracy: 0.9715 - auc: 0.9952 - precision: 0.9805 - recall: 0.9530 - val_loss: 0.0913 - val_accuracy: 0.9678 - val_auc: 0.9925 - val_precision: 0.9767 - val_recall: 0.9483\n",
            "Epoch 36/100\n",
            "469/469 [==============================] - 2s 5ms/step - loss: 0.0764 - accuracy: 0.9732 - auc: 0.9952 - precision: 0.9827 - recall: 0.9549 - val_loss: 0.0941 - val_accuracy: 0.9668 - val_auc: 0.9922 - val_precision: 0.9739 - val_recall: 0.9487\n",
            "Epoch 37/100\n",
            "469/469 [==============================] - 2s 5ms/step - loss: 0.0761 - accuracy: 0.9721 - auc: 0.9954 - precision: 0.9815 - recall: 0.9535 - val_loss: 0.0971 - val_accuracy: 0.9616 - val_auc: 0.9925 - val_precision: 0.9561 - val_recall: 0.9552\n",
            "Epoch 38/100\n",
            "469/469 [==============================] - 2s 5ms/step - loss: 0.0765 - accuracy: 0.9719 - auc: 0.9954 - precision: 0.9813 - recall: 0.9532 - val_loss: 0.0930 - val_accuracy: 0.9678 - val_auc: 0.9924 - val_precision: 0.9785 - val_recall: 0.9464\n",
            "Epoch 39/100\n",
            "469/469 [==============================] - 2s 5ms/step - loss: 0.0755 - accuracy: 0.9725 - auc: 0.9954 - precision: 0.9819 - recall: 0.9541 - val_loss: 0.0925 - val_accuracy: 0.9672 - val_auc: 0.9923 - val_precision: 0.9739 - val_recall: 0.9497\n",
            "Epoch 40/100\n",
            "469/469 [==============================] - 3s 6ms/step - loss: 0.0750 - accuracy: 0.9724 - auc: 0.9955 - precision: 0.9819 - recall: 0.9538 - val_loss: 0.0938 - val_accuracy: 0.9636 - val_auc: 0.9926 - val_precision: 0.9640 - val_recall: 0.9515\n",
            "Epoch 41/100\n",
            "469/469 [==============================] - 2s 5ms/step - loss: 0.0748 - accuracy: 0.9726 - auc: 0.9956 - precision: 0.9812 - recall: 0.9550 - val_loss: 0.0940 - val_accuracy: 0.9696 - val_auc: 0.9930 - val_precision: 0.9879 - val_recall: 0.9413\n",
            "Epoch 42/100\n",
            "469/469 [==============================] - 2s 5ms/step - loss: 0.0746 - accuracy: 0.9719 - auc: 0.9957 - precision: 0.9808 - recall: 0.9538 - val_loss: 0.0923 - val_accuracy: 0.9688 - val_auc: 0.9924 - val_precision: 0.9790 - val_recall: 0.9483\n",
            "Epoch 43/100\n",
            "469/469 [==============================] - 2s 5ms/step - loss: 0.0748 - accuracy: 0.9733 - auc: 0.9955 - precision: 0.9821 - recall: 0.9557 - val_loss: 0.0921 - val_accuracy: 0.9676 - val_auc: 0.9925 - val_precision: 0.9758 - val_recall: 0.9487\n",
            "Epoch 44/100\n",
            "469/469 [==============================] - 2s 5ms/step - loss: 0.0741 - accuracy: 0.9728 - auc: 0.9955 - precision: 0.9829 - recall: 0.9538 - val_loss: 0.0935 - val_accuracy: 0.9682 - val_auc: 0.9925 - val_precision: 0.9813 - val_recall: 0.9446\n",
            "Epoch 45/100\n",
            "469/469 [==============================] - 2s 5ms/step - loss: 0.0745 - accuracy: 0.9728 - auc: 0.9954 - precision: 0.9824 - recall: 0.9543 - val_loss: 0.0916 - val_accuracy: 0.9664 - val_auc: 0.9928 - val_precision: 0.9726 - val_recall: 0.9492\n",
            "Epoch 46/100\n",
            "469/469 [==============================] - 4s 8ms/step - loss: 0.0736 - accuracy: 0.9729 - auc: 0.9957 - precision: 0.9820 - recall: 0.9549 - val_loss: 0.0945 - val_accuracy: 0.9698 - val_auc: 0.9924 - val_precision: 0.9851 - val_recall: 0.9446\n",
            "Epoch 47/100\n",
            "469/469 [==============================] - 2s 5ms/step - loss: 0.0729 - accuracy: 0.9738 - auc: 0.9959 - precision: 0.9828 - recall: 0.9563 - val_loss: 0.0936 - val_accuracy: 0.9682 - val_auc: 0.9920 - val_precision: 0.9776 - val_recall: 0.9483\n",
            "Epoch 48/100\n",
            "469/469 [==============================] - 2s 5ms/step - loss: 0.0722 - accuracy: 0.9727 - auc: 0.9958 - precision: 0.9813 - recall: 0.9552 - val_loss: 0.0922 - val_accuracy: 0.9658 - val_auc: 0.9929 - val_precision: 0.9685 - val_recall: 0.9520\n",
            "Epoch 49/100\n",
            "469/469 [==============================] - 2s 5ms/step - loss: 0.0735 - accuracy: 0.9733 - auc: 0.9957 - precision: 0.9823 - recall: 0.9557 - val_loss: 0.0907 - val_accuracy: 0.9690 - val_auc: 0.9932 - val_precision: 0.9804 - val_recall: 0.9473\n",
            "Epoch 50/100\n",
            "469/469 [==============================] - 2s 5ms/step - loss: 0.0725 - accuracy: 0.9734 - auc: 0.9958 - precision: 0.9830 - recall: 0.9550 - val_loss: 0.0940 - val_accuracy: 0.9636 - val_auc: 0.9930 - val_precision: 0.9648 - val_recall: 0.9506\n",
            "Epoch 51/100\n",
            "469/469 [==============================] - 3s 6ms/step - loss: 0.0716 - accuracy: 0.9731 - auc: 0.9960 - precision: 0.9810 - recall: 0.9563 - val_loss: 0.0924 - val_accuracy: 0.9666 - val_auc: 0.9925 - val_precision: 0.9753 - val_recall: 0.9469\n",
            "Epoch 52/100\n",
            "469/469 [==============================] - 2s 5ms/step - loss: 0.0716 - accuracy: 0.9739 - auc: 0.9958 - precision: 0.9822 - recall: 0.9572 - val_loss: 0.0919 - val_accuracy: 0.9660 - val_auc: 0.9929 - val_precision: 0.9716 - val_recall: 0.9492\n",
            "Epoch 53/100\n",
            "469/469 [==============================] - 2s 5ms/step - loss: 0.0724 - accuracy: 0.9737 - auc: 0.9958 - precision: 0.9817 - recall: 0.9572 - val_loss: 0.0923 - val_accuracy: 0.9694 - val_auc: 0.9931 - val_precision: 0.9851 - val_recall: 0.9436\n",
            "Epoch 54/100\n",
            "469/469 [==============================] - 2s 5ms/step - loss: 0.0717 - accuracy: 0.9723 - auc: 0.9960 - precision: 0.9806 - recall: 0.9549 - val_loss: 0.0915 - val_accuracy: 0.9680 - val_auc: 0.9926 - val_precision: 0.9758 - val_recall: 0.9497\n",
            "Epoch 55/100\n",
            "469/469 [==============================] - 2s 5ms/step - loss: 0.0713 - accuracy: 0.9732 - auc: 0.9959 - precision: 0.9814 - recall: 0.9563 - val_loss: 0.0921 - val_accuracy: 0.9678 - val_auc: 0.9926 - val_precision: 0.9794 - val_recall: 0.9455\n",
            "Epoch 56/100\n",
            "469/469 [==============================] - 2s 5ms/step - loss: 0.0712 - accuracy: 0.9743 - auc: 0.9959 - precision: 0.9835 - recall: 0.9566 - val_loss: 0.0901 - val_accuracy: 0.9678 - val_auc: 0.9932 - val_precision: 0.9771 - val_recall: 0.9478\n",
            "Epoch 57/100\n",
            "469/469 [==============================] - 2s 5ms/step - loss: 0.0706 - accuracy: 0.9729 - auc: 0.9961 - precision: 0.9804 - recall: 0.9566 - val_loss: 0.0927 - val_accuracy: 0.9684 - val_auc: 0.9928 - val_precision: 0.9795 - val_recall: 0.9469\n",
            "Epoch 58/100\n",
            "469/469 [==============================] - 2s 5ms/step - loss: 0.0711 - accuracy: 0.9738 - auc: 0.9960 - precision: 0.9821 - recall: 0.9569 - val_loss: 0.0933 - val_accuracy: 0.9670 - val_auc: 0.9931 - val_precision: 0.9776 - val_recall: 0.9455\n",
            "Epoch 59/100\n",
            "469/469 [==============================] - 2s 5ms/step - loss: 0.0708 - accuracy: 0.9731 - auc: 0.9959 - precision: 0.9812 - recall: 0.9561 - val_loss: 0.0919 - val_accuracy: 0.9672 - val_auc: 0.9926 - val_precision: 0.9748 - val_recall: 0.9487\n",
            "Epoch 60/100\n",
            "469/469 [==============================] - 2s 5ms/step - loss: 0.0703 - accuracy: 0.9731 - auc: 0.9961 - precision: 0.9821 - recall: 0.9552 - val_loss: 0.0968 - val_accuracy: 0.9632 - val_auc: 0.9925 - val_precision: 0.9584 - val_recall: 0.9566\n",
            "Epoch 61/100\n",
            "469/469 [==============================] - 2s 5ms/step - loss: 0.0706 - accuracy: 0.9740 - auc: 0.9960 - precision: 0.9815 - recall: 0.9580 - val_loss: 0.0946 - val_accuracy: 0.9680 - val_auc: 0.9924 - val_precision: 0.9808 - val_recall: 0.9446\n",
            "Epoch 62/100\n",
            "469/469 [==============================] - 2s 5ms/step - loss: 0.0705 - accuracy: 0.9737 - auc: 0.9960 - precision: 0.9831 - recall: 0.9557 - val_loss: 0.0928 - val_accuracy: 0.9646 - val_auc: 0.9930 - val_precision: 0.9654 - val_recall: 0.9524\n",
            "Epoch 63/100\n",
            "469/469 [==============================] - 2s 5ms/step - loss: 0.0703 - accuracy: 0.9737 - auc: 0.9961 - precision: 0.9811 - recall: 0.9578 - val_loss: 0.0924 - val_accuracy: 0.9652 - val_auc: 0.9926 - val_precision: 0.9680 - val_recall: 0.9510\n",
            "Epoch 64/100\n",
            "469/469 [==============================] - 2s 5ms/step - loss: 0.0691 - accuracy: 0.9732 - auc: 0.9963 - precision: 0.9812 - recall: 0.9564 - val_loss: 0.0912 - val_accuracy: 0.9674 - val_auc: 0.9931 - val_precision: 0.9740 - val_recall: 0.9501\n",
            "Epoch 65/100\n",
            "469/469 [==============================] - 2s 5ms/step - loss: 0.0691 - accuracy: 0.9743 - auc: 0.9962 - precision: 0.9825 - recall: 0.9577 - val_loss: 0.0943 - val_accuracy: 0.9646 - val_auc: 0.9923 - val_precision: 0.9636 - val_recall: 0.9543\n",
            "Epoch 66/100\n",
            "469/469 [==============================] - 2s 5ms/step - loss: 0.0693 - accuracy: 0.9742 - auc: 0.9964 - precision: 0.9825 - recall: 0.9575 - val_loss: 0.0931 - val_accuracy: 0.9640 - val_auc: 0.9931 - val_precision: 0.9601 - val_recall: 0.9566\n",
            "Epoch 67/100\n",
            "469/469 [==============================] - 3s 6ms/step - loss: 0.0689 - accuracy: 0.9752 - auc: 0.9962 - precision: 0.9830 - recall: 0.9594 - val_loss: 0.0914 - val_accuracy: 0.9680 - val_auc: 0.9932 - val_precision: 0.9781 - val_recall: 0.9473\n",
            "Epoch 68/100\n",
            "469/469 [==============================] - 2s 5ms/step - loss: 0.0687 - accuracy: 0.9751 - auc: 0.9962 - precision: 0.9830 - recall: 0.9591 - val_loss: 0.0925 - val_accuracy: 0.9646 - val_auc: 0.9925 - val_precision: 0.9698 - val_recall: 0.9478\n",
            "Epoch 69/100\n",
            "469/469 [==============================] - 2s 5ms/step - loss: 0.0684 - accuracy: 0.9746 - auc: 0.9963 - precision: 0.9840 - recall: 0.9569 - val_loss: 0.0924 - val_accuracy: 0.9678 - val_auc: 0.9925 - val_precision: 0.9771 - val_recall: 0.9478\n",
            "Epoch 70/100\n",
            "469/469 [==============================] - 2s 5ms/step - loss: 0.0682 - accuracy: 0.9740 - auc: 0.9962 - precision: 0.9822 - recall: 0.9574 - val_loss: 0.0933 - val_accuracy: 0.9626 - val_auc: 0.9926 - val_precision: 0.9630 - val_recall: 0.9501\n",
            "Epoch 71/100\n",
            "469/469 [==============================] - 2s 5ms/step - loss: 0.0681 - accuracy: 0.9749 - auc: 0.9962 - precision: 0.9817 - recall: 0.9600 - val_loss: 0.0924 - val_accuracy: 0.9654 - val_auc: 0.9930 - val_precision: 0.9734 - val_recall: 0.9460\n",
            "Epoch 72/100\n",
            "469/469 [==============================] - 2s 5ms/step - loss: 0.0681 - accuracy: 0.9741 - auc: 0.9964 - precision: 0.9823 - recall: 0.9575 - val_loss: 0.0945 - val_accuracy: 0.9658 - val_auc: 0.9921 - val_precision: 0.9694 - val_recall: 0.9510\n",
            "Epoch 73/100\n",
            "469/469 [==============================] - 2s 5ms/step - loss: 0.0681 - accuracy: 0.9748 - auc: 0.9963 - precision: 0.9823 - recall: 0.9591 - val_loss: 0.0926 - val_accuracy: 0.9648 - val_auc: 0.9928 - val_precision: 0.9649 - val_recall: 0.9533\n",
            "Epoch 74/100\n",
            "469/469 [==============================] - 2s 5ms/step - loss: 0.0680 - accuracy: 0.9741 - auc: 0.9964 - precision: 0.9823 - recall: 0.9575 - val_loss: 0.0923 - val_accuracy: 0.9686 - val_auc: 0.9928 - val_precision: 0.9799 - val_recall: 0.9469\n",
            "Epoch 75/100\n",
            "469/469 [==============================] - 2s 5ms/step - loss: 0.0676 - accuracy: 0.9742 - auc: 0.9964 - precision: 0.9820 - recall: 0.9580 - val_loss: 0.0931 - val_accuracy: 0.9658 - val_auc: 0.9926 - val_precision: 0.9712 - val_recall: 0.9492\n",
            "Epoch 76/100\n",
            "469/469 [==============================] - 3s 6ms/step - loss: 0.0678 - accuracy: 0.9751 - auc: 0.9962 - precision: 0.9825 - recall: 0.9597 - val_loss: 0.0905 - val_accuracy: 0.9668 - val_auc: 0.9931 - val_precision: 0.9730 - val_recall: 0.9497\n",
            "Epoch 77/100\n",
            "469/469 [==============================] - 3s 6ms/step - loss: 0.0669 - accuracy: 0.9754 - auc: 0.9964 - precision: 0.9836 - recall: 0.9592 - val_loss: 0.0921 - val_accuracy: 0.9688 - val_auc: 0.9931 - val_precision: 0.9799 - val_recall: 0.9473\n",
            "Epoch 78/100\n",
            "469/469 [==============================] - 2s 5ms/step - loss: 0.0663 - accuracy: 0.9752 - auc: 0.9964 - precision: 0.9836 - recall: 0.9587 - val_loss: 0.0935 - val_accuracy: 0.9642 - val_auc: 0.9930 - val_precision: 0.9627 - val_recall: 0.9543\n",
            "Epoch 79/100\n",
            "469/469 [==============================] - 3s 6ms/step - loss: 0.0671 - accuracy: 0.9742 - auc: 0.9965 - precision: 0.9820 - recall: 0.9580 - val_loss: 0.0950 - val_accuracy: 0.9616 - val_auc: 0.9930 - val_precision: 0.9544 - val_recall: 0.9570\n",
            "Epoch 80/100\n",
            "469/469 [==============================] - 3s 6ms/step - loss: 0.0666 - accuracy: 0.9753 - auc: 0.9966 - precision: 0.9824 - recall: 0.9601 - val_loss: 0.0915 - val_accuracy: 0.9656 - val_auc: 0.9931 - val_precision: 0.9707 - val_recall: 0.9492\n",
            "Epoch 81/100\n",
            "469/469 [==============================] - 2s 5ms/step - loss: 0.0661 - accuracy: 0.9758 - auc: 0.9966 - precision: 0.9841 - recall: 0.9597 - val_loss: 0.0934 - val_accuracy: 0.9674 - val_auc: 0.9925 - val_precision: 0.9735 - val_recall: 0.9506\n",
            "Epoch 82/100\n",
            "469/469 [==============================] - 2s 5ms/step - loss: 0.0669 - accuracy: 0.9749 - auc: 0.9966 - precision: 0.9819 - recall: 0.9598 - val_loss: 0.0939 - val_accuracy: 0.9692 - val_auc: 0.9930 - val_precision: 0.9827 - val_recall: 0.9455\n",
            "Epoch 83/100\n",
            "469/469 [==============================] - 2s 5ms/step - loss: 0.0657 - accuracy: 0.9739 - auc: 0.9966 - precision: 0.9800 - recall: 0.9592 - val_loss: 0.0945 - val_accuracy: 0.9692 - val_auc: 0.9931 - val_precision: 0.9850 - val_recall: 0.9432\n",
            "Epoch 84/100\n",
            "469/469 [==============================] - 2s 5ms/step - loss: 0.0660 - accuracy: 0.9749 - auc: 0.9966 - precision: 0.9825 - recall: 0.9592 - val_loss: 0.0941 - val_accuracy: 0.9664 - val_auc: 0.9927 - val_precision: 0.9757 - val_recall: 0.9460\n",
            "Epoch 85/100\n",
            "469/469 [==============================] - 2s 5ms/step - loss: 0.0664 - accuracy: 0.9753 - auc: 0.9965 - precision: 0.9827 - recall: 0.9598 - val_loss: 0.0934 - val_accuracy: 0.9686 - val_auc: 0.9924 - val_precision: 0.9799 - val_recall: 0.9469\n",
            "Epoch 86/100\n",
            "469/469 [==============================] - 3s 6ms/step - loss: 0.0654 - accuracy: 0.9749 - auc: 0.9967 - precision: 0.9811 - recall: 0.9604 - val_loss: 0.0909 - val_accuracy: 0.9678 - val_auc: 0.9927 - val_precision: 0.9726 - val_recall: 0.9524\n",
            "Epoch 87/100\n",
            "469/469 [==============================] - 2s 5ms/step - loss: 0.0657 - accuracy: 0.9755 - auc: 0.9967 - precision: 0.9828 - recall: 0.9603 - val_loss: 0.0923 - val_accuracy: 0.9666 - val_auc: 0.9927 - val_precision: 0.9735 - val_recall: 0.9487\n",
            "Epoch 88/100\n",
            "469/469 [==============================] - 2s 5ms/step - loss: 0.0649 - accuracy: 0.9762 - auc: 0.9968 - precision: 0.9839 - recall: 0.9607 - val_loss: 0.0942 - val_accuracy: 0.9684 - val_auc: 0.9920 - val_precision: 0.9785 - val_recall: 0.9478\n",
            "Epoch 89/100\n",
            "469/469 [==============================] - 2s 5ms/step - loss: 0.0653 - accuracy: 0.9751 - auc: 0.9966 - precision: 0.9810 - recall: 0.9611 - val_loss: 0.0952 - val_accuracy: 0.9684 - val_auc: 0.9930 - val_precision: 0.9831 - val_recall: 0.9432\n",
            "Epoch 90/100\n",
            "469/469 [==============================] - 3s 6ms/step - loss: 0.0651 - accuracy: 0.9751 - auc: 0.9965 - precision: 0.9816 - recall: 0.9604 - val_loss: 0.0930 - val_accuracy: 0.9658 - val_auc: 0.9930 - val_precision: 0.9703 - val_recall: 0.9501\n",
            "Epoch 91/100\n",
            "469/469 [==============================] - 3s 6ms/step - loss: 0.0645 - accuracy: 0.9758 - auc: 0.9967 - precision: 0.9822 - recall: 0.9615 - val_loss: 0.0926 - val_accuracy: 0.9682 - val_auc: 0.9929 - val_precision: 0.9790 - val_recall: 0.9469\n",
            "Epoch 92/100\n",
            "469/469 [==============================] - 2s 5ms/step - loss: 0.0643 - accuracy: 0.9747 - auc: 0.9968 - precision: 0.9831 - recall: 0.9580 - val_loss: 0.0948 - val_accuracy: 0.9678 - val_auc: 0.9925 - val_precision: 0.9799 - val_recall: 0.9450\n",
            "Epoch 93/100\n",
            "469/469 [==============================] - 2s 5ms/step - loss: 0.0637 - accuracy: 0.9761 - auc: 0.9968 - precision: 0.9841 - recall: 0.9604 - val_loss: 0.0956 - val_accuracy: 0.9634 - val_auc: 0.9927 - val_precision: 0.9601 - val_recall: 0.9552\n",
            "Epoch 94/100\n",
            "469/469 [==============================] - 3s 6ms/step - loss: 0.0644 - accuracy: 0.9760 - auc: 0.9967 - precision: 0.9824 - recall: 0.9618 - val_loss: 0.0909 - val_accuracy: 0.9672 - val_auc: 0.9929 - val_precision: 0.9739 - val_recall: 0.9497\n",
            "Epoch 95/100\n",
            "469/469 [==============================] - 2s 5ms/step - loss: 0.0630 - accuracy: 0.9755 - auc: 0.9969 - precision: 0.9830 - recall: 0.9601 - val_loss: 0.0950 - val_accuracy: 0.9678 - val_auc: 0.9927 - val_precision: 0.9758 - val_recall: 0.9492\n",
            "Epoch 96/100\n",
            "469/469 [==============================] - 2s 5ms/step - loss: 0.0639 - accuracy: 0.9755 - auc: 0.9967 - precision: 0.9818 - recall: 0.9614 - val_loss: 0.0958 - val_accuracy: 0.9622 - val_auc: 0.9927 - val_precision: 0.9545 - val_recall: 0.9584\n",
            "Epoch 97/100\n",
            "469/469 [==============================] - 2s 5ms/step - loss: 0.0639 - accuracy: 0.9757 - auc: 0.9968 - precision: 0.9824 - recall: 0.9612 - val_loss: 0.0934 - val_accuracy: 0.9656 - val_auc: 0.9930 - val_precision: 0.9721 - val_recall: 0.9478\n",
            "Epoch 98/100\n",
            "469/469 [==============================] - 2s 5ms/step - loss: 0.0640 - accuracy: 0.9761 - auc: 0.9967 - precision: 0.9836 - recall: 0.9609 - val_loss: 0.0932 - val_accuracy: 0.9678 - val_auc: 0.9928 - val_precision: 0.9740 - val_recall: 0.9510\n",
            "Epoch 99/100\n",
            "469/469 [==============================] - 2s 5ms/step - loss: 0.0641 - accuracy: 0.9756 - auc: 0.9966 - precision: 0.9824 - recall: 0.9609 - val_loss: 0.0917 - val_accuracy: 0.9668 - val_auc: 0.9931 - val_precision: 0.9704 - val_recall: 0.9524\n",
            "Epoch 100/100\n",
            "469/469 [==============================] - 2s 5ms/step - loss: 0.0635 - accuracy: 0.9759 - auc: 0.9968 - precision: 0.9825 - recall: 0.9614 - val_loss: 0.0936 - val_accuracy: 0.9682 - val_auc: 0.9932 - val_precision: 0.9781 - val_recall: 0.9478\n"
          ]
        }
      ]
    },
    {
      "cell_type": "markdown",
      "source": [
        "**Validación de la pérdida**"
      ],
      "metadata": {
        "id": "z2OQPxAGyusv"
      }
    },
    {
      "cell_type": "code",
      "source": [
        "plt.plot(proceso.history['loss'], label='Train loss')\n",
        "plt.plot(proceso.history['val_loss'], label='Test loss')\n",
        "plt.legend();\n",
        "\n",
        "#Se observa un valor de pérdida que se aleja entre los conjuntos de prueba y entrenamiento, lo que indica que le modelo se está sobreajustando para la cantidad de épocas entrenadas\n",
        "#Es probable que para una menor cantidad de épocas se optengas resultados con menor sobreajuste del conjunto de entrenamiento"
      ],
      "metadata": {
        "colab": {
          "base_uri": "https://localhost:8080/",
          "height": 268
        },
        "id": "x2WpZ7ovyvWx",
        "outputId": "957e6e3a-8526-47e0-be6f-dfe2282a1c3d"
      },
      "execution_count": 33,
      "outputs": [
        {
          "output_type": "display_data",
          "data": {
            "text/plain": [
              "<Figure size 432x288 with 1 Axes>"
            ],
            "image/png": "[encoded data removed]"
          },
          "metadata": {
            "needs_background": "light"
          }
        }
      ]
    },
    {
      "cell_type": "markdown",
      "source": [
        "**Validación accuracy**"
      ],
      "metadata": {
        "id": "MqIbd1p1y5TT"
      }
    },
    {
      "cell_type": "code",
      "source": [
        "plt.plot(proceso.history['accuracy'], label='Train accuracy')\n",
        "plt.plot(proceso.history['val_accuracy'], label='Test accuracy')\n",
        "plt.legend();\n",
        "#Para ambos modelos se observa que la exactitud se mantiene en valores similares y por encima del 95%, tanto para el conjunto de entrenamiento como para el conjunto de prueba.\n",
        "#Pero en el caso del conjunto de prueba se observa una instabilidad en los valores obtenidos, se considera que con menos cantidad de épocas se podría obtener un mejor desempeño,\n",
        "# o similar."
      ],
      "metadata": {
        "colab": {
          "base_uri": "https://localhost:8080/",
          "height": 265
        },
        "id": "l6w7jOagy7yz",
        "outputId": "392d6e55-9bd5-48ba-dce1-3c755faac12e"
      },
      "execution_count": 34,
      "outputs": [
        {
          "output_type": "display_data",
          "data": {
            "text/plain": [
              "<Figure size 432x288 with 1 Axes>"
            ],
            "image/png": "[encoded data removed]"
          },
          "metadata": {
            "needs_background": "light"
          }
        }
      ]
    },
    {
      "cell_type": "markdown",
      "source": [
        "**Resumen de score de prueba y métricas**"
      ],
      "metadata": {
        "id": "Dwfy6JZYzZXq"
      }
    },
    {
      "cell_type": "code",
      "source": [
        "score = model.evaluate(X_test_pca, y_test)\n",
        "print('Val accuracy:', score[1])"
      ],
      "metadata": {
        "colab": {
          "base_uri": "https://localhost:8080/"
        },
        "id": "8xqs7zu0zdBT",
        "outputId": "a86b9a49-bf97-4281-c313-3265feaf357d"
      },
      "execution_count": 35,
      "outputs": [
        {
          "output_type": "stream",
          "name": "stdout",
          "text": [
            "157/157 [==============================] - 1s 4ms/step - loss: 0.0936 - accuracy: 0.9682 - auc: 0.9932 - precision: 0.9781 - recall: 0.9478\n",
            "Val accuracy: 0.9682000279426575\n"
          ]
        }
      ]
    },
    {
      "cell_type": "markdown",
      "source": [
        "####**MODELO 2**"
      ],
      "metadata": {
        "id": "ov8A7wPA1602"
      }
    },
    {
      "cell_type": "markdown",
      "source": [
        "Se traba de reducir la cantidad época y se agrega un drop out para tratar de reducir el sobreajuste y aumentando el número de neuronas"
      ],
      "metadata": {
        "id": "wtA2Be2y192Y"
      }
    },
    {
      "cell_type": "code",
      "source": [
        "model = Sequential()\n",
        "# Primera capa oculta\n",
        "model.add(Dense(32, \n",
        "                input_dim = input_shape,\n",
        "                activation = 'relu'))\n",
        "model.add(Dropout(0.2))\n",
        "model.add(Dense(16, \n",
        "                activation = 'relu'))\n",
        "model.add(Dense(1, activation = 'sigmoid'))\n",
        "model.compile(loss = 'bce', optimizer = 'adam', metrics=['accuracy','AUC','Precision','Recall'])\n",
        "proceso = model.fit(X_train_pca, y_train,\n",
        "                    validation_data = (X_test_pca, y_test), \n",
        "                    epochs=20)"
      ],
      "metadata": {
        "colab": {
          "base_uri": "https://localhost:8080/"
        },
        "outputId": "94b15421-7d6c-439e-df63-28237bdb21f8",
        "id": "7scli-e91609"
      },
      "execution_count": 125,
      "outputs": [
        {
          "output_type": "stream",
          "name": "stdout",
          "text": [
            "Epoch 1/20\n",
            "469/469 [==============================] - 4s 7ms/step - loss: 0.3942 - accuracy: 0.8444 - auc: 0.9047 - precision: 0.8720 - recall: 0.7509 - val_loss: 0.2720 - val_accuracy: 0.9058 - val_auc: 0.9418 - val_precision: 0.9353 - val_recall: 0.8406\n",
            "Epoch 2/20\n",
            "469/469 [==============================] - 2s 5ms/step - loss: 0.2546 - accuracy: 0.9123 - auc: 0.9490 - precision: 0.9320 - recall: 0.8602 - val_loss: 0.2127 - val_accuracy: 0.9298 - val_auc: 0.9608 - val_precision: 0.9632 - val_recall: 0.8711\n",
            "Epoch 3/20\n",
            "469/469 [==============================] - 2s 5ms/step - loss: 0.2044 - accuracy: 0.9335 - auc: 0.9640 - precision: 0.9583 - recall: 0.8850 - val_loss: 0.1732 - val_accuracy: 0.9474 - val_auc: 0.9750 - val_precision: 0.9867 - val_recall: 0.8905\n",
            "Epoch 4/20\n",
            "469/469 [==============================] - 2s 5ms/step - loss: 0.1796 - accuracy: 0.9421 - auc: 0.9715 - precision: 0.9610 - recall: 0.9030 - val_loss: 0.1475 - val_accuracy: 0.9578 - val_auc: 0.9828 - val_precision: 0.9919 - val_recall: 0.9099\n",
            "Epoch 5/20\n",
            "469/469 [==============================] - 2s 5ms/step - loss: 0.1622 - accuracy: 0.9477 - auc: 0.9762 - precision: 0.9691 - recall: 0.9081 - val_loss: 0.1387 - val_accuracy: 0.9588 - val_auc: 0.9848 - val_precision: 0.9930 - val_recall: 0.9113\n",
            "Epoch 6/20\n",
            "469/469 [==============================] - 2s 5ms/step - loss: 0.1491 - accuracy: 0.9504 - auc: 0.9800 - precision: 0.9683 - recall: 0.9155 - val_loss: 0.1278 - val_accuracy: 0.9604 - val_auc: 0.9875 - val_precision: 0.9925 - val_recall: 0.9155\n",
            "Epoch 7/20\n",
            "469/469 [==============================] - 2s 5ms/step - loss: 0.1400 - accuracy: 0.9537 - auc: 0.9819 - precision: 0.9742 - recall: 0.9175 - val_loss: 0.1216 - val_accuracy: 0.9628 - val_auc: 0.9878 - val_precision: 0.9882 - val_recall: 0.9252\n",
            "Epoch 8/20\n",
            "469/469 [==============================] - 2s 5ms/step - loss: 0.1330 - accuracy: 0.9552 - auc: 0.9844 - precision: 0.9736 - recall: 0.9215 - val_loss: 0.1193 - val_accuracy: 0.9628 - val_auc: 0.9883 - val_precision: 0.9886 - val_recall: 0.9247\n",
            "Epoch 9/20\n",
            "469/469 [==============================] - 2s 5ms/step - loss: 0.1317 - accuracy: 0.9561 - auc: 0.9844 - precision: 0.9746 - recall: 0.9226 - val_loss: 0.1143 - val_accuracy: 0.9632 - val_auc: 0.9888 - val_precision: 0.9891 - val_recall: 0.9252\n",
            "Epoch 10/20\n",
            "469/469 [==============================] - 2s 5ms/step - loss: 0.1254 - accuracy: 0.9585 - auc: 0.9859 - precision: 0.9769 - recall: 0.9261 - val_loss: 0.1118 - val_accuracy: 0.9644 - val_auc: 0.9895 - val_precision: 0.9897 - val_recall: 0.9275\n",
            "Epoch 11/20\n",
            "469/469 [==============================] - 2s 5ms/step - loss: 0.1198 - accuracy: 0.9586 - auc: 0.9874 - precision: 0.9760 - recall: 0.9272 - val_loss: 0.1101 - val_accuracy: 0.9642 - val_auc: 0.9896 - val_precision: 0.9882 - val_recall: 0.9284\n",
            "Epoch 12/20\n",
            "469/469 [==============================] - 2s 5ms/step - loss: 0.1187 - accuracy: 0.9607 - auc: 0.9875 - precision: 0.9797 - recall: 0.9284 - val_loss: 0.1087 - val_accuracy: 0.9660 - val_auc: 0.9896 - val_precision: 0.9892 - val_recall: 0.9316\n",
            "Epoch 13/20\n",
            "469/469 [==============================] - 2s 5ms/step - loss: 0.1128 - accuracy: 0.9604 - auc: 0.9893 - precision: 0.9757 - recall: 0.9318 - val_loss: 0.1058 - val_accuracy: 0.9650 - val_auc: 0.9899 - val_precision: 0.9854 - val_recall: 0.9330\n",
            "Epoch 14/20\n",
            "469/469 [==============================] - 2s 5ms/step - loss: 0.1147 - accuracy: 0.9619 - auc: 0.9881 - precision: 0.9782 - recall: 0.9329 - val_loss: 0.1062 - val_accuracy: 0.9660 - val_auc: 0.9902 - val_precision: 0.9883 - val_recall: 0.9326\n",
            "Epoch 15/20\n",
            "469/469 [==============================] - 2s 5ms/step - loss: 0.1118 - accuracy: 0.9618 - auc: 0.9894 - precision: 0.9779 - recall: 0.9329 - val_loss: 0.1062 - val_accuracy: 0.9656 - val_auc: 0.9900 - val_precision: 0.9761 - val_recall: 0.9436\n",
            "Epoch 16/20\n",
            "469/469 [==============================] - 2s 5ms/step - loss: 0.1092 - accuracy: 0.9627 - auc: 0.9897 - precision: 0.9784 - recall: 0.9344 - val_loss: 0.1048 - val_accuracy: 0.9648 - val_auc: 0.9900 - val_precision: 0.9765 - val_recall: 0.9413\n",
            "Epoch 17/20\n",
            "469/469 [==============================] - 2s 5ms/step - loss: 0.1097 - accuracy: 0.9613 - auc: 0.9897 - precision: 0.9751 - recall: 0.9344 - val_loss: 0.1067 - val_accuracy: 0.9684 - val_auc: 0.9903 - val_precision: 0.9898 - val_recall: 0.9367\n",
            "Epoch 18/20\n",
            "469/469 [==============================] - 3s 6ms/step - loss: 0.1081 - accuracy: 0.9632 - auc: 0.9897 - precision: 0.9770 - recall: 0.9370 - val_loss: 0.1017 - val_accuracy: 0.9682 - val_auc: 0.9907 - val_precision: 0.9841 - val_recall: 0.9418\n",
            "Epoch 19/20\n",
            "469/469 [==============================] - 2s 5ms/step - loss: 0.1040 - accuracy: 0.9639 - auc: 0.9909 - precision: 0.9782 - recall: 0.9377 - val_loss: 0.1015 - val_accuracy: 0.9668 - val_auc: 0.9911 - val_precision: 0.9798 - val_recall: 0.9427\n",
            "Epoch 20/20\n",
            "469/469 [==============================] - 2s 5ms/step - loss: 0.1059 - accuracy: 0.9636 - auc: 0.9906 - precision: 0.9795 - recall: 0.9355 - val_loss: 0.1003 - val_accuracy: 0.9684 - val_auc: 0.9909 - val_precision: 0.9845 - val_recall: 0.9418\n"
          ]
        }
      ]
    },
    {
      "cell_type": "markdown",
      "source": [
        "**Validación de la pérdida**"
      ],
      "metadata": {
        "id": "wj6LUmTW160-"
      }
    },
    {
      "cell_type": "code",
      "source": [
        "plt.plot(proceso.history['loss'], label='Train loss')\n",
        "plt.plot(proceso.history['val_loss'], label='Test loss')\n",
        "plt.legend();\n",
        "\n",
        "#Se observa un valor de pérdida cercano para los conjuntos de prueba y entrenamiento, lo que indica que le modelo no se está sobreajustando para la cantidad de épocas entrenadas\n",
        "#Además, el agregar el droput facilita el entrenamiento de modelo"
      ],
      "metadata": {
        "colab": {
          "base_uri": "https://localhost:8080/",
          "height": 265
        },
        "outputId": "dcbb3dd0-a135-4e76-cb27-b8f603971e84",
        "id": "LCswhA5R160-"
      },
      "execution_count": 126,
      "outputs": [
        {
          "output_type": "display_data",
          "data": {
            "text/plain": [
              "<Figure size 432x288 with 1 Axes>"
            ],
            "image/png": "[encoded data removed]"
          },
          "metadata": {
            "needs_background": "light"
          }
        }
      ]
    },
    {
      "cell_type": "markdown",
      "source": [
        "**Validación accuracy**"
      ],
      "metadata": {
        "id": "-1tVVMj7160-"
      }
    },
    {
      "cell_type": "code",
      "source": [
        "plt.plot(proceso.history['accuracy'], label='Train accuracy')\n",
        "plt.plot(proceso.history['val_accuracy'], label='Test accuracy')\n",
        "plt.legend();\n",
        "#Para ambos modelos se observa que la exactitud se mantiene en valores similares y por encima del 95%, tanto para el conjunto de entrenamiento como para el conjunto de prueba."
      ],
      "metadata": {
        "colab": {
          "base_uri": "https://localhost:8080/",
          "height": 265
        },
        "outputId": "91722931-501a-49ea-9142-09feb23d3f3e",
        "id": "kZXp1AXm160-"
      },
      "execution_count": 127,
      "outputs": [
        {
          "output_type": "display_data",
          "data": {
            "text/plain": [
              "<Figure size 432x288 with 1 Axes>"
            ],
            "image/png": "[encoded data removed]"
          },
          "metadata": {
            "needs_background": "light"
          }
        }
      ]
    },
    {
      "cell_type": "markdown",
      "source": [
        "**Resumen de score de prueba y métricas**"
      ],
      "metadata": {
        "id": "ut91VHMf160-"
      }
    },
    {
      "cell_type": "code",
      "source": [
        "score = model.evaluate(X_test_pca, y_test)\n",
        "print('Val accuracy:', score[1])"
      ],
      "metadata": {
        "colab": {
          "base_uri": "https://localhost:8080/"
        },
        "outputId": "9a182363-3320-4610-f508-be392472545c",
        "id": "T1PwxXAN160-"
      },
      "execution_count": 128,
      "outputs": [
        {
          "output_type": "stream",
          "name": "stdout",
          "text": [
            "157/157 [==============================] - 1s 4ms/step - loss: 0.1003 - accuracy: 0.9684 - auc: 0.9909 - precision: 0.9845 - recall: 0.9418\n",
            "Val accuracy: 0.9684000015258789\n"
          ]
        }
      ]
    },
    {
      "cell_type": "markdown",
      "source": [
        "####**MODELO 3**"
      ],
      "metadata": {
        "id": "iHwJ9hqg4dwF"
      }
    },
    {
      "cell_type": "markdown",
      "source": [
        "Se agrega otra capa oculta y se escalonan la cantidad de neuronas y se ponenen dropout entre la primera y segunda capa y entre la segunda y tercera capa."
      ],
      "metadata": {
        "id": "eHcfeHPp4dwN"
      }
    },
    {
      "cell_type": "code",
      "source": [
        "model = Sequential()\n",
        "# Primera capa oculta\n",
        "model.add(Dense(64, \n",
        "                input_dim = input_shape,\n",
        "                activation = 'relu'))\n",
        "#Se agrega un Droout para prevenir el sobre ajuste en el entrenamiento\n",
        "model.add(Dropout(0.2))\n",
        "model.add(Dense(32, \n",
        "                activation = 'relu'))\n",
        "model.add(Dropout(0.2))\n",
        "model.add(Dense(16, \n",
        "                activation = 'relu'))\n",
        "model.add(Dense(1, activation = 'sigmoid'))\n",
        "early_stopping = EarlyStopping(patience=5)\n",
        "model.compile(loss = 'bce', optimizer = 'adam', metrics=['accuracy','AUC','Precision','Recall'])\n",
        "proceso = model.fit(X_train_pca, y_train,\n",
        "                    validation_data = (X_test_pca, y_test), \n",
        "                    epochs=20,\n",
        "                    callbacks = [early_stopping]) #Se agrega una parada"
      ],
      "metadata": {
        "colab": {
          "base_uri": "https://localhost:8080/"
        },
        "outputId": "7b67301d-4155-4d21-d57a-d148f1e1c695",
        "id": "cdGN1rHJ4dwN"
      },
      "execution_count": 121,
      "outputs": [
        {
          "output_type": "stream",
          "name": "stdout",
          "text": [
            "Epoch 1/20\n",
            "469/469 [==============================] - 4s 6ms/step - loss: 0.3284 - accuracy: 0.8763 - auc: 0.9293 - precision: 0.8770 - recall: 0.8308 - val_loss: 0.2012 - val_accuracy: 0.9358 - val_auc: 0.9601 - val_precision: 0.9671 - val_recall: 0.8818\n",
            "Epoch 2/20\n",
            "469/469 [==============================] - 3s 5ms/step - loss: 0.1892 - accuracy: 0.9393 - auc: 0.9651 - precision: 0.9643 - recall: 0.8930 - val_loss: 0.1470 - val_accuracy: 0.9584 - val_auc: 0.9811 - val_precision: 0.9905 - val_recall: 0.9127\n",
            "Epoch 3/20\n",
            "469/469 [==============================] - 2s 5ms/step - loss: 0.1530 - accuracy: 0.9517 - auc: 0.9770 - precision: 0.9728 - recall: 0.9141 - val_loss: 0.1248 - val_accuracy: 0.9606 - val_auc: 0.9885 - val_precision: 0.9910 - val_recall: 0.9173\n",
            "Epoch 4/20\n",
            "469/469 [==============================] - 3s 5ms/step - loss: 0.1346 - accuracy: 0.9548 - auc: 0.9839 - precision: 0.9716 - recall: 0.9226 - val_loss: 0.1157 - val_accuracy: 0.9616 - val_auc: 0.9895 - val_precision: 0.9896 - val_recall: 0.9210\n",
            "Epoch 5/20\n",
            "469/469 [==============================] - 3s 5ms/step - loss: 0.1266 - accuracy: 0.9577 - auc: 0.9853 - precision: 0.9750 - recall: 0.9261 - val_loss: 0.1133 - val_accuracy: 0.9646 - val_auc: 0.9896 - val_precision: 0.9926 - val_recall: 0.9252\n",
            "Epoch 6/20\n",
            "469/469 [==============================] - 3s 5ms/step - loss: 0.1167 - accuracy: 0.9611 - auc: 0.9879 - precision: 0.9756 - recall: 0.9337 - val_loss: 0.1051 - val_accuracy: 0.9682 - val_auc: 0.9904 - val_precision: 0.9907 - val_recall: 0.9353\n",
            "Epoch 7/20\n",
            "469/469 [==============================] - 2s 5ms/step - loss: 0.1111 - accuracy: 0.9619 - auc: 0.9893 - precision: 0.9754 - recall: 0.9355 - val_loss: 0.1057 - val_accuracy: 0.9658 - val_auc: 0.9902 - val_precision: 0.9854 - val_recall: 0.9349\n",
            "Epoch 8/20\n",
            "469/469 [==============================] - 3s 5ms/step - loss: 0.1086 - accuracy: 0.9635 - auc: 0.9897 - precision: 0.9784 - recall: 0.9363 - val_loss: 0.1010 - val_accuracy: 0.9680 - val_auc: 0.9909 - val_precision: 0.9827 - val_recall: 0.9427\n",
            "Epoch 9/20\n",
            "469/469 [==============================] - 2s 5ms/step - loss: 0.1063 - accuracy: 0.9647 - auc: 0.9901 - precision: 0.9791 - recall: 0.9384 - val_loss: 0.1028 - val_accuracy: 0.9676 - val_auc: 0.9907 - val_precision: 0.9808 - val_recall: 0.9436\n",
            "Epoch 10/20\n",
            "469/469 [==============================] - 2s 5ms/step - loss: 0.1034 - accuracy: 0.9645 - auc: 0.9910 - precision: 0.9786 - recall: 0.9384 - val_loss: 0.0989 - val_accuracy: 0.9682 - val_auc: 0.9916 - val_precision: 0.9874 - val_recall: 0.9386\n",
            "Epoch 11/20\n",
            "469/469 [==============================] - 2s 5ms/step - loss: 0.1000 - accuracy: 0.9662 - auc: 0.9914 - precision: 0.9828 - recall: 0.9384 - val_loss: 0.0965 - val_accuracy: 0.9698 - val_auc: 0.9918 - val_precision: 0.9855 - val_recall: 0.9441\n",
            "Epoch 12/20\n",
            "469/469 [==============================] - 2s 5ms/step - loss: 0.0982 - accuracy: 0.9658 - auc: 0.9918 - precision: 0.9803 - recall: 0.9400 - val_loss: 0.0959 - val_accuracy: 0.9690 - val_auc: 0.9916 - val_precision: 0.9850 - val_recall: 0.9427\n",
            "Epoch 13/20\n",
            "469/469 [==============================] - 3s 5ms/step - loss: 0.0969 - accuracy: 0.9659 - auc: 0.9918 - precision: 0.9790 - recall: 0.9413 - val_loss: 0.0980 - val_accuracy: 0.9674 - val_auc: 0.9916 - val_precision: 0.9921 - val_recall: 0.9321\n",
            "Epoch 14/20\n",
            "469/469 [==============================] - 3s 5ms/step - loss: 0.0936 - accuracy: 0.9673 - auc: 0.9924 - precision: 0.9826 - recall: 0.9412 - val_loss: 0.0938 - val_accuracy: 0.9698 - val_auc: 0.9923 - val_precision: 0.9860 - val_recall: 0.9436\n",
            "Epoch 15/20\n",
            "469/469 [==============================] - 3s 5ms/step - loss: 0.0934 - accuracy: 0.9676 - auc: 0.9927 - precision: 0.9817 - recall: 0.9427 - val_loss: 0.0961 - val_accuracy: 0.9676 - val_auc: 0.9919 - val_precision: 0.9813 - val_recall: 0.9432\n",
            "Epoch 16/20\n",
            "469/469 [==============================] - 3s 5ms/step - loss: 0.0908 - accuracy: 0.9678 - auc: 0.9930 - precision: 0.9830 - recall: 0.9420 - val_loss: 0.0937 - val_accuracy: 0.9688 - val_auc: 0.9920 - val_precision: 0.9879 - val_recall: 0.9395\n",
            "Epoch 17/20\n",
            "469/469 [==============================] - 3s 5ms/step - loss: 0.0928 - accuracy: 0.9677 - auc: 0.9928 - precision: 0.9831 - recall: 0.9417 - val_loss: 0.0957 - val_accuracy: 0.9670 - val_auc: 0.9921 - val_precision: 0.9850 - val_recall: 0.9381\n",
            "Epoch 18/20\n",
            "469/469 [==============================] - 3s 5ms/step - loss: 0.0905 - accuracy: 0.9679 - auc: 0.9930 - precision: 0.9833 - recall: 0.9420 - val_loss: 0.0932 - val_accuracy: 0.9694 - val_auc: 0.9919 - val_precision: 0.9865 - val_recall: 0.9423\n",
            "Epoch 19/20\n",
            "469/469 [==============================] - 3s 5ms/step - loss: 0.0889 - accuracy: 0.9684 - auc: 0.9935 - precision: 0.9836 - recall: 0.9427 - val_loss: 0.0914 - val_accuracy: 0.9704 - val_auc: 0.9925 - val_precision: 0.9903 - val_recall: 0.9409\n",
            "Epoch 20/20\n",
            "469/469 [==============================] - 3s 5ms/step - loss: 0.0896 - accuracy: 0.9677 - auc: 0.9933 - precision: 0.9828 - recall: 0.9418 - val_loss: 0.0920 - val_accuracy: 0.9700 - val_auc: 0.9925 - val_precision: 0.9907 - val_recall: 0.9395\n"
          ]
        }
      ]
    },
    {
      "cell_type": "markdown",
      "source": [
        "**Validación de la pérdida**"
      ],
      "metadata": {
        "id": "X_wgnqA94dwO"
      }
    },
    {
      "cell_type": "code",
      "source": [
        "plt.plot(proceso.history['loss'], label='Train loss')\n",
        "plt.plot(proceso.history['val_loss'], label='Test loss')\n",
        "plt.legend();\n",
        "\n",
        "#Se observa un valor de pérdida cercano para los conjuntos de prueba y entrenamiento, lo que indica que le modelo no se está sobreajustando para la cantidad de épocas entrenadas\n",
        "#Además, el agregar el droput facilita el entrenamiento de modelo"
      ],
      "metadata": {
        "colab": {
          "base_uri": "https://localhost:8080/",
          "height": 265
        },
        "outputId": "92183e8f-f032-47a6-f177-9d088c3d4481",
        "id": "E0u1MPnF4dwO"
      },
      "execution_count": 122,
      "outputs": [
        {
          "output_type": "display_data",
          "data": {
            "text/plain": [
              "<Figure size 432x288 with 1 Axes>"
            ],
            "image/png": "[encoded data removed]"
          },
          "metadata": {
            "needs_background": "light"
          }
        }
      ]
    },
    {
      "cell_type": "markdown",
      "source": [
        "**Validación accuracy**"
      ],
      "metadata": {
        "id": "J5lEtDRi4dwO"
      }
    },
    {
      "cell_type": "code",
      "source": [
        "plt.plot(proceso.history['accuracy'], label='Train accuracy')\n",
        "plt.plot(proceso.history['val_accuracy'], label='Test accuracy')\n",
        "plt.legend();\n",
        "#Para ambos modelos se observa que la exactitud se mantiene en valores similares y por encima del 95%, tanto para el conjunto de entrenamiento como para el conjunto de prueba."
      ],
      "metadata": {
        "colab": {
          "base_uri": "https://localhost:8080/",
          "height": 265
        },
        "outputId": "88789231-9543-4a8a-ff17-763d9e471c2c",
        "id": "bXHl90Gj4dwO"
      },
      "execution_count": 123,
      "outputs": [
        {
          "output_type": "display_data",
          "data": {
            "text/plain": [
              "<Figure size 432x288 with 1 Axes>"
            ],
            "image/png": "[encoded data removed]"
          },
          "metadata": {
            "needs_background": "light"
          }
        }
      ]
    },
    {
      "cell_type": "markdown",
      "source": [
        "**Resumen de score de prueba y métricas**"
      ],
      "metadata": {
        "id": "tGdwsQcc4dwO"
      }
    },
    {
      "cell_type": "code",
      "source": [
        "score = model.evaluate(X_test_pca, y_test)\n",
        "print('Val accuracy:', score[1])"
      ],
      "metadata": {
        "colab": {
          "base_uri": "https://localhost:8080/"
        },
        "outputId": "ddcdb13c-7543-4662-e86b-3e87810f2619",
        "id": "YMpxw-zg4dwO"
      },
      "execution_count": 124,
      "outputs": [
        {
          "output_type": "stream",
          "name": "stdout",
          "text": [
            "157/157 [==============================] - 1s 4ms/step - loss: 0.0920 - accuracy: 0.9700 - auc: 0.9925 - precision: 0.9907 - recall: 0.9395\n",
            "Val accuracy: 0.9700000286102295\n"
          ]
        }
      ]
    },
    {
      "cell_type": "markdown",
      "source": [
        "###**Conclusión**"
      ],
      "metadata": {
        "id": "0xywG2orAPXQ"
      }
    },
    {
      "cell_type": "markdown",
      "source": [
        "Se elige el modelo 3, ya que si bien el early stopping no se activó, la nueva configuración permitió que la pérdida fuera aún menor que el modelo 2 y se lograran desempeños de 97% para el conjunto de entrenamiento."
      ],
      "metadata": {
        "id": "Qb8BF4M5AUI-"
      }
    }
  ]
}